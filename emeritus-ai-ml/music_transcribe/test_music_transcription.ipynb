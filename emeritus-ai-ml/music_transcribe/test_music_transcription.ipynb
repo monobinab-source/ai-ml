{
  "cells": [
    {
      "cell_type": "markdown",
      "source": [
        "\n",
        "## Model Inference & Evaluation\n",
        "\n"
      ],
      "metadata": {
        "id": "O-eC5yxRmpH1"
      },
      "id": "O-eC5yxRmpH1"
    },
    {
      "cell_type": "markdown",
      "source": [
        "## Predict using the best model and compare predicted output with true MIDI file.\n",
        "The model outputs predictions in the numpy format. So some extra steps need to be taken to convert the numpy into midi.\n",
        "I will also try to generate song out of predicted midi."
      ],
      "metadata": {
        "id": "O02YptZQs4_K"
      },
      "id": "O02YptZQs4_K"
    },
    {
      "cell_type": "markdown",
      "source": [
        "### A few tools need to be installed before we can start testing\n",
        "\n",
        "Tool\t ||   Purpose\t  ||    Needed for\n",
        "\n",
        "pretty_midi\t||  Work with MIDI files\t    ||        Piano roll ↔ MIDI\n",
        "\n",
        "pydub\t   ||     Convert between audio formats\t ||   WAV → MP3 conversion\n",
        "\n",
        "soundfile\t ||   Save audio files as WAV\t    ||      Writing .wav audio\n",
        "\n",
        "pyfluidsynth\t|| Python bindings for MIDI synthesis|| Generate audio from MIDI\n",
        "\n",
        "fluidsynth\t||  Synth engine required by pyfluidsynth ||\tActual audio generation\n",
        "\n",
        "ffmpeg\t ||     Audio codec for MP3 support\t||pydub MP3 conversion\n",
        "\n",
        "\n"
      ],
      "metadata": {
        "id": "E3NIZlvDyDnO"
      },
      "id": "E3NIZlvDyDnO"
    },
    {
      "cell_type": "markdown",
      "source": [
        "### pretty_midi library\n",
        "pretty_midi used for working with MIDI files in Python.\n",
        "In my code:\n",
        "\n",
        "Load and parse .midi files.\n",
        "\n",
        "Convert predicted piano rolls back to MIDI (piano_roll_to_midi).\n",
        "\n",
        "Synthesize audio from MIDI if Fluidsynth is available (midi_obj.fluidsynth()).\n",
        "\n",
        "### pydub library\n",
        "Used for: Audio format conversions (e.g., WAV ↔ MP3).\n",
        "\n",
        "In my code:\n",
        "\n",
        "Convert .wav to .mp3:\n",
        "sound = AudioSegment.from_wav(wave_file)\n",
        "sound.export(mp3_output, format=\"mp3\")\n",
        "\n",
        "### soundfile library\n",
        "Used for: Saving audio as .wav.\n",
        "\n",
        "In my code:\n",
        "\n",
        "Save synthesized audio:\n",
        "sf.write(wave_file, audio, samplerate=22050)\n",
        "\n",
        "### pyfluidsynth\n",
        "Used for: Synthesizing MIDI into audio using the FluidSynth engine.\n",
        "In my code:\n",
        "\n",
        "Required for midi_obj.fluidsynth() to convert MIDI notes into waveform audio."
      ],
      "metadata": {
        "id": "Qd_vmiYwwKwQ"
      },
      "id": "Qd_vmiYwwKwQ"
    },
    {
      "cell_type": "code",
      "source": [
        "!pip install pretty_midi pydub soundfile\n",
        "!apt install fluidsynth"
      ],
      "metadata": {
        "colab": {
          "base_uri": "https://localhost:8080/"
        },
        "id": "TxTdipQQmwtI",
        "outputId": "539ca251-0ad4-40e2-efb4-572dc38efee8"
      },
      "id": "TxTdipQQmwtI",
      "execution_count": 1,
      "outputs": [
        {
          "output_type": "stream",
          "name": "stdout",
          "text": [
            "Collecting pretty_midi\n",
            "  Downloading pretty_midi-0.2.10.tar.gz (5.6 MB)\n",
            "\u001b[?25l     \u001b[90m━━━━━━━━━━━━━━━━━━━━━━━━━━━━━━━━━━━━━━━━\u001b[0m \u001b[32m0.0/5.6 MB\u001b[0m \u001b[31m?\u001b[0m eta \u001b[36m-:--:--\u001b[0m\r\u001b[2K     \u001b[91m━━\u001b[0m\u001b[90m╺\u001b[0m\u001b[90m━━━━━━━━━━━━━━━━━━━━━━━━━━━━━━━━━━━━━\u001b[0m \u001b[32m0.3/5.6 MB\u001b[0m \u001b[31m8.5 MB/s\u001b[0m eta \u001b[36m0:00:01\u001b[0m\r\u001b[2K     \u001b[91m━━━━━━━━━━━━━━━━━━\u001b[0m\u001b[90m╺\u001b[0m\u001b[90m━━━━━━━━━━━━━━━━━━━━━\u001b[0m \u001b[32m2.6/5.6 MB\u001b[0m \u001b[31m37.7 MB/s\u001b[0m eta \u001b[36m0:00:01\u001b[0m\r\u001b[2K     \u001b[91m━━━━━━━━━━━━━━━━━━━━━━━━━━━━━━━━━━━━━━━\u001b[0m\u001b[91m╸\u001b[0m \u001b[32m5.6/5.6 MB\u001b[0m \u001b[31m63.9 MB/s\u001b[0m eta \u001b[36m0:00:01\u001b[0m\r\u001b[2K     \u001b[90m━━━━━━━━━━━━━━━━━━━━━━━━━━━━━━━━━━━━━━━━\u001b[0m \u001b[32m5.6/5.6 MB\u001b[0m \u001b[31m51.6 MB/s\u001b[0m eta \u001b[36m0:00:00\u001b[0m\n",
            "\u001b[?25h  Preparing metadata (setup.py) ... \u001b[?25l\u001b[?25hdone\n",
            "Collecting pydub\n",
            "  Downloading pydub-0.25.1-py2.py3-none-any.whl.metadata (1.4 kB)\n",
            "Requirement already satisfied: soundfile in /usr/local/lib/python3.10/dist-packages (0.13.0)\n",
            "Requirement already satisfied: numpy>=1.7.0 in /usr/local/lib/python3.10/dist-packages (from pretty_midi) (1.26.4)\n",
            "Collecting mido>=1.1.16 (from pretty_midi)\n",
            "  Downloading mido-1.3.3-py3-none-any.whl.metadata (6.4 kB)\n",
            "Requirement already satisfied: six in /usr/local/lib/python3.10/dist-packages (from pretty_midi) (1.17.0)\n",
            "Requirement already satisfied: cffi>=1.0 in /usr/local/lib/python3.10/dist-packages (from soundfile) (1.17.1)\n",
            "Requirement already satisfied: pycparser in /usr/local/lib/python3.10/dist-packages (from cffi>=1.0->soundfile) (2.22)\n",
            "Requirement already satisfied: packaging in /usr/local/lib/python3.10/dist-packages (from mido>=1.1.16->pretty_midi) (24.2)\n",
            "Downloading pydub-0.25.1-py2.py3-none-any.whl (32 kB)\n",
            "Downloading mido-1.3.3-py3-none-any.whl (54 kB)\n",
            "\u001b[2K   \u001b[90m━━━━━━━━━━━━━━━━━━━━━━━━━━━━━━━━━━━━━━━━\u001b[0m \u001b[32m54.6/54.6 kB\u001b[0m \u001b[31m7.1 MB/s\u001b[0m eta \u001b[36m0:00:00\u001b[0m\n",
            "\u001b[?25hBuilding wheels for collected packages: pretty_midi\n",
            "  Building wheel for pretty_midi (setup.py) ... \u001b[?25l\u001b[?25hdone\n",
            "  Created wheel for pretty_midi: filename=pretty_midi-0.2.10-py3-none-any.whl size=5592286 sha256=47713cfb9886b3b7651bd1810aeb7f616db7c5dde3edc242048c2228cc4e2344\n",
            "  Stored in directory: /root/.cache/pip/wheels/cd/a5/30/7b8b7f58709f5150f67f98fde4b891ebf0be9ef07a8af49f25\n",
            "Successfully built pretty_midi\n",
            "Installing collected packages: pydub, mido, pretty_midi\n",
            "Successfully installed mido-1.3.3 pretty_midi-0.2.10 pydub-0.25.1\n",
            "Reading package lists... Done\n",
            "Building dependency tree... Done\n",
            "Reading state information... Done\n",
            "The following packages were automatically installed and are no longer required:\n",
            "  r-cran-colorspace r-cran-munsell\n",
            "Use 'apt autoremove' to remove them.\n",
            "The following additional packages will be installed:\n",
            "  fluid-soundfont-gm libevdev2 libfluidsynth3 libgudev-1.0-0 libinput-bin libinput10\n",
            "  libinstpatch-1.0-2 libmd4c0 libmtdev1 libqt5core5a libqt5dbus5 libqt5gui5 libqt5network5\n",
            "  libqt5svg5 libqt5widgets5 libwacom-bin libwacom-common libwacom9 libxcb-icccm4 libxcb-image0\n",
            "  libxcb-keysyms1 libxcb-render-util0 libxcb-util1 libxcb-xinerama0 libxcb-xinput0 libxcb-xkb1\n",
            "  libxkbcommon-x11-0 qsynth qt5-gtk-platformtheme qttranslations5-l10n timgm6mb-soundfont\n",
            "Suggested packages:\n",
            "  fluid-soundfont-gs qt5-image-formats-plugins qtwayland5 jackd\n",
            "The following NEW packages will be installed:\n",
            "  fluid-soundfont-gm fluidsynth libevdev2 libfluidsynth3 libgudev-1.0-0 libinput-bin libinput10\n",
            "  libinstpatch-1.0-2 libmd4c0 libmtdev1 libqt5core5a libqt5dbus5 libqt5gui5 libqt5network5\n",
            "  libqt5svg5 libqt5widgets5 libwacom-bin libwacom-common libwacom9 libxcb-icccm4 libxcb-image0\n",
            "  libxcb-keysyms1 libxcb-render-util0 libxcb-util1 libxcb-xinerama0 libxcb-xinput0 libxcb-xkb1\n",
            "  libxkbcommon-x11-0 qsynth qt5-gtk-platformtheme qttranslations5-l10n timgm6mb-soundfont\n",
            "0 upgraded, 32 newly installed, 0 to remove and 5 not upgraded.\n",
            "Need to get 148 MB of archives.\n",
            "After this operation, 207 MB of additional disk space will be used.\n",
            "Get:1 http://archive.ubuntu.com/ubuntu jammy-updates/universe amd64 libqt5core5a amd64 5.15.3+dfsg-2ubuntu0.2 [2,006 kB]\n",
            "Get:2 http://archive.ubuntu.com/ubuntu jammy/main amd64 libevdev2 amd64 1.12.1+dfsg-1 [39.5 kB]\n",
            "Get:3 http://archive.ubuntu.com/ubuntu jammy/main amd64 libmtdev1 amd64 1.1.6-1build4 [14.5 kB]\n",
            "Get:4 http://archive.ubuntu.com/ubuntu jammy/main amd64 libgudev-1.0-0 amd64 1:237-2build1 [16.3 kB]\n",
            "Get:5 http://archive.ubuntu.com/ubuntu jammy/main amd64 libwacom-common all 2.2.0-1 [54.3 kB]\n",
            "Get:6 http://archive.ubuntu.com/ubuntu jammy/main amd64 libwacom9 amd64 2.2.0-1 [22.0 kB]\n",
            "Get:7 http://archive.ubuntu.com/ubuntu jammy-updates/main amd64 libinput-bin amd64 1.20.0-1ubuntu0.3 [19.9 kB]\n",
            "Get:8 http://archive.ubuntu.com/ubuntu jammy-updates/main amd64 libinput10 amd64 1.20.0-1ubuntu0.3 [131 kB]\n",
            "Get:9 http://archive.ubuntu.com/ubuntu jammy/universe amd64 libmd4c0 amd64 0.4.8-1 [42.0 kB]\n",
            "Get:10 http://archive.ubuntu.com/ubuntu jammy-updates/universe amd64 libqt5dbus5 amd64 5.15.3+dfsg-2ubuntu0.2 [222 kB]\n",
            "Get:11 http://archive.ubuntu.com/ubuntu jammy-updates/universe amd64 libqt5network5 amd64 5.15.3+dfsg-2ubuntu0.2 [731 kB]\n",
            "Get:12 http://archive.ubuntu.com/ubuntu jammy/main amd64 libxcb-icccm4 amd64 0.4.1-1.1build2 [11.5 kB]\n",
            "Get:13 http://archive.ubuntu.com/ubuntu jammy/main amd64 libxcb-util1 amd64 0.4.0-1build2 [11.4 kB]\n",
            "Get:14 http://archive.ubuntu.com/ubuntu jammy/main amd64 libxcb-image0 amd64 0.4.0-2 [11.5 kB]\n",
            "Get:15 http://archive.ubuntu.com/ubuntu jammy/main amd64 libxcb-keysyms1 amd64 0.4.0-1build3 [8,746 B]\n",
            "Get:16 http://archive.ubuntu.com/ubuntu jammy/main amd64 libxcb-render-util0 amd64 0.3.9-1build3 [10.3 kB]\n",
            "Get:17 http://archive.ubuntu.com/ubuntu jammy/main amd64 libxcb-xinerama0 amd64 1.14-3ubuntu3 [5,414 B]\n",
            "Get:18 http://archive.ubuntu.com/ubuntu jammy/main amd64 libxcb-xinput0 amd64 1.14-3ubuntu3 [34.3 kB]\n",
            "Get:19 http://archive.ubuntu.com/ubuntu jammy/main amd64 libxcb-xkb1 amd64 1.14-3ubuntu3 [32.8 kB]\n",
            "Get:20 http://archive.ubuntu.com/ubuntu jammy/main amd64 libxkbcommon-x11-0 amd64 1.4.0-1 [14.4 kB]\n",
            "Get:21 http://archive.ubuntu.com/ubuntu jammy-updates/universe amd64 libqt5gui5 amd64 5.15.3+dfsg-2ubuntu0.2 [3,722 kB]\n",
            "Get:22 http://archive.ubuntu.com/ubuntu jammy-updates/universe amd64 libqt5widgets5 amd64 5.15.3+dfsg-2ubuntu0.2 [2,561 kB]\n",
            "Get:23 http://archive.ubuntu.com/ubuntu jammy/universe amd64 libqt5svg5 amd64 5.15.3-1 [149 kB]\n",
            "Get:24 http://archive.ubuntu.com/ubuntu jammy/universe amd64 fluid-soundfont-gm all 3.1-5.3 [130 MB]\n",
            "Get:25 http://archive.ubuntu.com/ubuntu jammy/universe amd64 libinstpatch-1.0-2 amd64 1.1.6-1 [240 kB]\n",
            "Get:26 http://archive.ubuntu.com/ubuntu jammy/universe amd64 timgm6mb-soundfont all 1.3-5 [5,427 kB]\n",
            "Get:27 http://archive.ubuntu.com/ubuntu jammy/universe amd64 libfluidsynth3 amd64 2.2.5-1 [246 kB]\n",
            "Get:28 http://archive.ubuntu.com/ubuntu jammy/universe amd64 fluidsynth amd64 2.2.5-1 [27.4 kB]\n",
            "Get:29 http://archive.ubuntu.com/ubuntu jammy/main amd64 libwacom-bin amd64 2.2.0-1 [13.6 kB]\n",
            "Get:30 http://archive.ubuntu.com/ubuntu jammy/universe amd64 qsynth amd64 0.9.6-1 [305 kB]\n",
            "Get:31 http://archive.ubuntu.com/ubuntu jammy-updates/universe amd64 qt5-gtk-platformtheme amd64 5.15.3+dfsg-2ubuntu0.2 [130 kB]\n",
            "Get:32 http://archive.ubuntu.com/ubuntu jammy/universe amd64 qttranslations5-l10n all 5.15.3-1 [1,983 kB]\n",
            "Fetched 148 MB in 3s (52.3 MB/s)\n",
            "Extracting templates from packages: 100%\n",
            "Selecting previously unselected package libqt5core5a:amd64.\n",
            "(Reading database ... 123747 files and directories currently installed.)\n",
            "Preparing to unpack .../00-libqt5core5a_5.15.3+dfsg-2ubuntu0.2_amd64.deb ...\n",
            "Unpacking libqt5core5a:amd64 (5.15.3+dfsg-2ubuntu0.2) ...\n",
            "Selecting previously unselected package libevdev2:amd64.\n",
            "Preparing to unpack .../01-libevdev2_1.12.1+dfsg-1_amd64.deb ...\n",
            "Unpacking libevdev2:amd64 (1.12.1+dfsg-1) ...\n",
            "Selecting previously unselected package libmtdev1:amd64.\n",
            "Preparing to unpack .../02-libmtdev1_1.1.6-1build4_amd64.deb ...\n",
            "Unpacking libmtdev1:amd64 (1.1.6-1build4) ...\n",
            "Selecting previously unselected package libgudev-1.0-0:amd64.\n",
            "Preparing to unpack .../03-libgudev-1.0-0_1%3a237-2build1_amd64.deb ...\n",
            "Unpacking libgudev-1.0-0:amd64 (1:237-2build1) ...\n",
            "Selecting previously unselected package libwacom-common.\n",
            "Preparing to unpack .../04-libwacom-common_2.2.0-1_all.deb ...\n",
            "Unpacking libwacom-common (2.2.0-1) ...\n",
            "Selecting previously unselected package libwacom9:amd64.\n",
            "Preparing to unpack .../05-libwacom9_2.2.0-1_amd64.deb ...\n",
            "Unpacking libwacom9:amd64 (2.2.0-1) ...\n",
            "Selecting previously unselected package libinput-bin.\n",
            "Preparing to unpack .../06-libinput-bin_1.20.0-1ubuntu0.3_amd64.deb ...\n",
            "Unpacking libinput-bin (1.20.0-1ubuntu0.3) ...\n",
            "Selecting previously unselected package libinput10:amd64.\n",
            "Preparing to unpack .../07-libinput10_1.20.0-1ubuntu0.3_amd64.deb ...\n",
            "Unpacking libinput10:amd64 (1.20.0-1ubuntu0.3) ...\n",
            "Selecting previously unselected package libmd4c0:amd64.\n",
            "Preparing to unpack .../08-libmd4c0_0.4.8-1_amd64.deb ...\n",
            "Unpacking libmd4c0:amd64 (0.4.8-1) ...\n",
            "Selecting previously unselected package libqt5dbus5:amd64.\n",
            "Preparing to unpack .../09-libqt5dbus5_5.15.3+dfsg-2ubuntu0.2_amd64.deb ...\n",
            "Unpacking libqt5dbus5:amd64 (5.15.3+dfsg-2ubuntu0.2) ...\n",
            "Selecting previously unselected package libqt5network5:amd64.\n",
            "Preparing to unpack .../10-libqt5network5_5.15.3+dfsg-2ubuntu0.2_amd64.deb ...\n",
            "Unpacking libqt5network5:amd64 (5.15.3+dfsg-2ubuntu0.2) ...\n",
            "Selecting previously unselected package libxcb-icccm4:amd64.\n",
            "Preparing to unpack .../11-libxcb-icccm4_0.4.1-1.1build2_amd64.deb ...\n",
            "Unpacking libxcb-icccm4:amd64 (0.4.1-1.1build2) ...\n",
            "Selecting previously unselected package libxcb-util1:amd64.\n",
            "Preparing to unpack .../12-libxcb-util1_0.4.0-1build2_amd64.deb ...\n",
            "Unpacking libxcb-util1:amd64 (0.4.0-1build2) ...\n",
            "Selecting previously unselected package libxcb-image0:amd64.\n",
            "Preparing to unpack .../13-libxcb-image0_0.4.0-2_amd64.deb ...\n",
            "Unpacking libxcb-image0:amd64 (0.4.0-2) ...\n",
            "Selecting previously unselected package libxcb-keysyms1:amd64.\n",
            "Preparing to unpack .../14-libxcb-keysyms1_0.4.0-1build3_amd64.deb ...\n",
            "Unpacking libxcb-keysyms1:amd64 (0.4.0-1build3) ...\n",
            "Selecting previously unselected package libxcb-render-util0:amd64.\n",
            "Preparing to unpack .../15-libxcb-render-util0_0.3.9-1build3_amd64.deb ...\n",
            "Unpacking libxcb-render-util0:amd64 (0.3.9-1build3) ...\n",
            "Selecting previously unselected package libxcb-xinerama0:amd64.\n",
            "Preparing to unpack .../16-libxcb-xinerama0_1.14-3ubuntu3_amd64.deb ...\n",
            "Unpacking libxcb-xinerama0:amd64 (1.14-3ubuntu3) ...\n",
            "Selecting previously unselected package libxcb-xinput0:amd64.\n",
            "Preparing to unpack .../17-libxcb-xinput0_1.14-3ubuntu3_amd64.deb ...\n",
            "Unpacking libxcb-xinput0:amd64 (1.14-3ubuntu3) ...\n",
            "Selecting previously unselected package libxcb-xkb1:amd64.\n",
            "Preparing to unpack .../18-libxcb-xkb1_1.14-3ubuntu3_amd64.deb ...\n",
            "Unpacking libxcb-xkb1:amd64 (1.14-3ubuntu3) ...\n",
            "Selecting previously unselected package libxkbcommon-x11-0:amd64.\n",
            "Preparing to unpack .../19-libxkbcommon-x11-0_1.4.0-1_amd64.deb ...\n",
            "Unpacking libxkbcommon-x11-0:amd64 (1.4.0-1) ...\n",
            "Selecting previously unselected package libqt5gui5:amd64.\n",
            "Preparing to unpack .../20-libqt5gui5_5.15.3+dfsg-2ubuntu0.2_amd64.deb ...\n",
            "Unpacking libqt5gui5:amd64 (5.15.3+dfsg-2ubuntu0.2) ...\n",
            "Selecting previously unselected package libqt5widgets5:amd64.\n",
            "Preparing to unpack .../21-libqt5widgets5_5.15.3+dfsg-2ubuntu0.2_amd64.deb ...\n",
            "Unpacking libqt5widgets5:amd64 (5.15.3+dfsg-2ubuntu0.2) ...\n",
            "Selecting previously unselected package libqt5svg5:amd64.\n",
            "Preparing to unpack .../22-libqt5svg5_5.15.3-1_amd64.deb ...\n",
            "Unpacking libqt5svg5:amd64 (5.15.3-1) ...\n",
            "Selecting previously unselected package fluid-soundfont-gm.\n",
            "Preparing to unpack .../23-fluid-soundfont-gm_3.1-5.3_all.deb ...\n",
            "Unpacking fluid-soundfont-gm (3.1-5.3) ...\n",
            "Selecting previously unselected package libinstpatch-1.0-2:amd64.\n",
            "Preparing to unpack .../24-libinstpatch-1.0-2_1.1.6-1_amd64.deb ...\n",
            "Unpacking libinstpatch-1.0-2:amd64 (1.1.6-1) ...\n",
            "Selecting previously unselected package timgm6mb-soundfont.\n",
            "Preparing to unpack .../25-timgm6mb-soundfont_1.3-5_all.deb ...\n",
            "Unpacking timgm6mb-soundfont (1.3-5) ...\n",
            "Selecting previously unselected package libfluidsynth3:amd64.\n",
            "Preparing to unpack .../26-libfluidsynth3_2.2.5-1_amd64.deb ...\n",
            "Unpacking libfluidsynth3:amd64 (2.2.5-1) ...\n",
            "Selecting previously unselected package fluidsynth.\n",
            "Preparing to unpack .../27-fluidsynth_2.2.5-1_amd64.deb ...\n",
            "Unpacking fluidsynth (2.2.5-1) ...\n",
            "Selecting previously unselected package libwacom-bin.\n",
            "Preparing to unpack .../28-libwacom-bin_2.2.0-1_amd64.deb ...\n",
            "Unpacking libwacom-bin (2.2.0-1) ...\n",
            "Selecting previously unselected package qsynth.\n",
            "Preparing to unpack .../29-qsynth_0.9.6-1_amd64.deb ...\n",
            "Unpacking qsynth (0.9.6-1) ...\n",
            "Selecting previously unselected package qt5-gtk-platformtheme:amd64.\n",
            "Preparing to unpack .../30-qt5-gtk-platformtheme_5.15.3+dfsg-2ubuntu0.2_amd64.deb ...\n",
            "Unpacking qt5-gtk-platformtheme:amd64 (5.15.3+dfsg-2ubuntu0.2) ...\n",
            "Selecting previously unselected package qttranslations5-l10n.\n",
            "Preparing to unpack .../31-qttranslations5-l10n_5.15.3-1_all.deb ...\n",
            "Unpacking qttranslations5-l10n (5.15.3-1) ...\n",
            "Setting up libxcb-xinput0:amd64 (1.14-3ubuntu3) ...\n",
            "Setting up libxcb-keysyms1:amd64 (0.4.0-1build3) ...\n",
            "Setting up libxcb-render-util0:amd64 (0.3.9-1build3) ...\n",
            "Setting up libxcb-icccm4:amd64 (0.4.1-1.1build2) ...\n",
            "Setting up libxcb-util1:amd64 (0.4.0-1build2) ...\n",
            "Setting up libxcb-xkb1:amd64 (1.14-3ubuntu3) ...\n",
            "Setting up libxcb-image0:amd64 (0.4.0-2) ...\n",
            "Setting up libxcb-xinerama0:amd64 (1.14-3ubuntu3) ...\n",
            "Setting up qttranslations5-l10n (5.15.3-1) ...\n",
            "Setting up libxkbcommon-x11-0:amd64 (1.4.0-1) ...\n",
            "Setting up libqt5core5a:amd64 (5.15.3+dfsg-2ubuntu0.2) ...\n",
            "Setting up libmtdev1:amd64 (1.1.6-1build4) ...\n",
            "Setting up libqt5dbus5:amd64 (5.15.3+dfsg-2ubuntu0.2) ...\n",
            "Setting up libmd4c0:amd64 (0.4.8-1) ...\n",
            "Setting up fluid-soundfont-gm (3.1-5.3) ...\n",
            "update-alternatives: using /usr/share/sounds/sf2/FluidR3_GM.sf2 to provide /usr/share/sounds/sf2/default-GM.sf2 (default-GM.sf2) in auto mode\n",
            "update-alternatives: using /usr/share/sounds/sf2/FluidR3_GM.sf2 to provide /usr/share/sounds/sf3/default-GM.sf3 (default-GM.sf3) in auto mode\n",
            "Setting up timgm6mb-soundfont (1.3-5) ...\n",
            "Setting up libevdev2:amd64 (1.12.1+dfsg-1) ...\n",
            "Setting up libinstpatch-1.0-2:amd64 (1.1.6-1) ...\n",
            "Setting up libgudev-1.0-0:amd64 (1:237-2build1) ...\n",
            "Setting up libfluidsynth3:amd64 (2.2.5-1) ...\n",
            "Setting up libwacom-common (2.2.0-1) ...\n",
            "Setting up libwacom9:amd64 (2.2.0-1) ...\n",
            "Setting up libqt5network5:amd64 (5.15.3+dfsg-2ubuntu0.2) ...\n",
            "Setting up libinput-bin (1.20.0-1ubuntu0.3) ...\n",
            "Setting up fluidsynth (2.2.5-1) ...\n",
            "Created symlink /etc/systemd/user/default.target.wants/fluidsynth.service → /usr/lib/systemd/user/fluidsynth.service.\n",
            "Setting up libwacom-bin (2.2.0-1) ...\n",
            "Setting up libinput10:amd64 (1.20.0-1ubuntu0.3) ...\n",
            "Setting up libqt5gui5:amd64 (5.15.3+dfsg-2ubuntu0.2) ...\n",
            "Setting up libqt5widgets5:amd64 (5.15.3+dfsg-2ubuntu0.2) ...\n",
            "Setting up qt5-gtk-platformtheme:amd64 (5.15.3+dfsg-2ubuntu0.2) ...\n",
            "Setting up libqt5svg5:amd64 (5.15.3-1) ...\n",
            "Setting up qsynth (0.9.6-1) ...\n",
            "Processing triggers for hicolor-icon-theme (0.17-2) ...\n",
            "Processing triggers for libc-bin (2.35-0ubuntu3.9) ...\n",
            "/sbin/ldconfig.real: /usr/local/lib/libhwloc.so.15 is not a symbolic link\n",
            "\n",
            "/sbin/ldconfig.real: /usr/local/lib/libumf.so.0 is not a symbolic link\n",
            "\n",
            "/sbin/ldconfig.real: /usr/local/lib/libtcm_debug.so.1 is not a symbolic link\n",
            "\n",
            "/sbin/ldconfig.real: /usr/local/lib/libtbbmalloc.so.2 is not a symbolic link\n",
            "\n",
            "/sbin/ldconfig.real: /usr/local/lib/libtcm.so.1 is not a symbolic link\n",
            "\n",
            "/sbin/ldconfig.real: /usr/local/lib/libur_adapter_opencl.so.0 is not a symbolic link\n",
            "\n",
            "/sbin/ldconfig.real: /usr/local/lib/libtbbbind_2_0.so.3 is not a symbolic link\n",
            "\n",
            "/sbin/ldconfig.real: /usr/local/lib/libtbb.so.12 is not a symbolic link\n",
            "\n",
            "/sbin/ldconfig.real: /usr/local/lib/libur_adapter_level_zero.so.0 is not a symbolic link\n",
            "\n",
            "/sbin/ldconfig.real: /usr/local/lib/libur_loader.so.0 is not a symbolic link\n",
            "\n",
            "/sbin/ldconfig.real: /usr/local/lib/libtbbmalloc_proxy.so.2 is not a symbolic link\n",
            "\n",
            "/sbin/ldconfig.real: /usr/local/lib/libtbbbind_2_5.so.3 is not a symbolic link\n",
            "\n",
            "/sbin/ldconfig.real: /usr/local/lib/libtbbbind.so.3 is not a symbolic link\n",
            "\n",
            "Processing triggers for man-db (2.10.2-1) ...\n"
          ]
        }
      ]
    },
    {
      "cell_type": "code",
      "source": [
        "# Install FluidSynth system package and Python wrapper\n",
        "!apt-get install -y fluidsynth\n",
        "!pip install pyfluidsynth"
      ],
      "metadata": {
        "colab": {
          "base_uri": "https://localhost:8080/"
        },
        "id": "CQdS91uImxul",
        "outputId": "76bee71b-d7be-4909-ef8a-7362e23fcca1"
      },
      "id": "CQdS91uImxul",
      "execution_count": 2,
      "outputs": [
        {
          "output_type": "stream",
          "name": "stdout",
          "text": [
            "Reading package lists... Done\n",
            "Building dependency tree... Done\n",
            "Reading state information... Done\n",
            "fluidsynth is already the newest version (2.2.5-1).\n",
            "The following packages were automatically installed and are no longer required:\n",
            "  r-cran-colorspace r-cran-munsell\n",
            "Use 'apt autoremove' to remove them.\n",
            "0 upgraded, 0 newly installed, 0 to remove and 5 not upgraded.\n",
            "Collecting pyfluidsynth\n",
            "  Downloading pyfluidsynth-1.3.4-py3-none-any.whl.metadata (7.5 kB)\n",
            "Requirement already satisfied: numpy in /usr/local/lib/python3.10/dist-packages (from pyfluidsynth) (1.26.4)\n",
            "Downloading pyfluidsynth-1.3.4-py3-none-any.whl (22 kB)\n",
            "Installing collected packages: pyfluidsynth\n",
            "Successfully installed pyfluidsynth-1.3.4\n"
          ]
        }
      ]
    },
    {
      "cell_type": "markdown",
      "source": [
        "### ffmpeg\n",
        "Used for: Decoding and encoding various audio formats (including MP3).\n",
        "\n",
        "Required by: pydub to read/write formats like MP3.\n",
        "\n",
        "In my code:\n",
        "\n",
        "Enables AudioSegment.from_wav(...) and export(..., format=\"mp3\")."
      ],
      "metadata": {
        "id": "PG-4kUmcwoFE"
      },
      "id": "PG-4kUmcwoFE"
    },
    {
      "cell_type": "code",
      "source": [
        "!pip install pydub\n",
        "!apt install ffmpeg -y"
      ],
      "metadata": {
        "colab": {
          "base_uri": "https://localhost:8080/"
        },
        "id": "8Vl8WqKgm5MA",
        "outputId": "18309763-e023-4be3-db8a-6af2b46de0f5"
      },
      "id": "8Vl8WqKgm5MA",
      "execution_count": 3,
      "outputs": [
        {
          "output_type": "stream",
          "name": "stdout",
          "text": [
            "Requirement already satisfied: pydub in /usr/local/lib/python3.10/dist-packages (0.25.1)\n",
            "Reading package lists... Done\n",
            "Building dependency tree... Done\n",
            "Reading state information... Done\n",
            "ffmpeg is already the newest version (7:4.4.2-0ubuntu0.22.04.1).\n",
            "The following packages were automatically installed and are no longer required:\n",
            "  r-cran-colorspace r-cran-munsell\n",
            "Use 'apt autoremove' to remove them.\n",
            "0 upgraded, 0 newly installed, 0 to remove and 5 not upgraded.\n"
          ]
        }
      ]
    },
    {
      "cell_type": "markdown",
      "source": [
        "## Get the model from GCS bucket"
      ],
      "metadata": {
        "id": "vLHJSUNutx7e"
      },
      "id": "vLHJSUNutx7e"
    },
    {
      "cell_type": "code",
      "source": [
        "import os\n",
        "from google.cloud import storage\n",
        "\n",
        "# GCS source and local destination\n",
        "gcs_path = \"models_created/models/model_best\"\n",
        "local_path = \"/tmp/model_best\"\n",
        "\n",
        "# Download recursively from GCS folder to /tmp\n",
        "storage_client = storage.Client()\n",
        "bucket = storage_client.bucket(\"models_created\")\n",
        "blobs = bucket.list_blobs(prefix=\"models/model_best\")\n",
        "\n",
        "for blob in blobs:\n",
        "    dest_path = os.path.join(\"/tmp\", os.path.relpath(blob.name, \"models\"))\n",
        "    os.makedirs(os.path.dirname(dest_path), exist_ok=True)\n",
        "    blob.download_to_filename(dest_path)\n",
        "\n",
        "print(\"Model downloaded to /tmp/model_best\")\n"
      ],
      "metadata": {
        "colab": {
          "base_uri": "https://localhost:8080/"
        },
        "id": "WffuzbGWpUJG",
        "outputId": "6d42d51d-c3ce-4d19-eb30-41e66f151177"
      },
      "id": "WffuzbGWpUJG",
      "execution_count": 5,
      "outputs": [
        {
          "output_type": "stream",
          "name": "stdout",
          "text": [
            "Model downloaded to /tmp/model_best\n"
          ]
        }
      ]
    },
    {
      "cell_type": "markdown",
      "source": [
        "This code loads a pre-trained TensorFlow SavedModel (in the SavedModel format) for inference only using Keras 3's TFSMLayer, and wraps it into a Keras Sequential model so it can be used like a regular Keras model for predictions.\n",
        "This layer does not include training configuration, optimizer, etc. It is inference-only.\n",
        "\n",
        "TFSMLayer: A special Keras layer that wraps a TensorFlow SavedModel, making it usable within a Keras model.\n",
        "\n",
        "Sequential: Keras' basic model container that stacks layers sequentially."
      ],
      "metadata": {
        "id": "SwbKJyYB6y1R"
      },
      "id": "SwbKJyYB6y1R"
    },
    {
      "cell_type": "code",
      "source": [
        "from keras.layers import TFSMLayer\n",
        "from keras import Sequential\n",
        "\n",
        "# Load SavedModel using TFSMLayer\n",
        "layer = TFSMLayer(\"/tmp/model_best\", call_endpoint=\"serving_default\") #  tells Keras to use the model's default inference function (usually the one used when exporting the model).\n",
        "\n",
        "# Wrap it in a Sequential model if needed\n",
        "model_best = Sequential([layer])"
      ],
      "metadata": {
        "id": "DKG0ag7Am5_V"
      },
      "id": "DKG0ag7Am5_V",
      "execution_count": 6,
      "outputs": []
    },
    {
      "cell_type": "markdown",
      "source": [
        "## Get the mp3 file from GCS"
      ],
      "metadata": {
        "id": "YuPo3aVVt380"
      },
      "id": "YuPo3aVVt380"
    },
    {
      "cell_type": "code",
      "source": [
        "from google.cloud import storage\n",
        "\n",
        "bucket_name = \"audio_and_midi_files\"\n",
        "blob_path = \"2018/MIDI-Unprocessed_Chamber1_MID--AUDIO_07_R3_2018_wav--2.mp3\"\n",
        "local_path = \"/tmp/MIDI-Unprocessed_Chamber1_MID--AUDIO_07_R3_2018_wav--2.mp3\"\n",
        "\n",
        "# Initialize client\n",
        "client = storage.Client()\n",
        "bucket = client.bucket(bucket_name)\n",
        "blob = bucket.blob(blob_path)\n",
        "blob.download_to_filename(local_path)\n",
        "\n",
        "print(f\"MP3 file downloaded to: {local_path}\")\n"
      ],
      "metadata": {
        "colab": {
          "base_uri": "https://localhost:8080/"
        },
        "id": "tpcwtk3GpkKU",
        "outputId": "4158856d-107d-43c6-8f0e-5066dbf6ac57"
      },
      "id": "tpcwtk3GpkKU",
      "execution_count": 9,
      "outputs": [
        {
          "output_type": "stream",
          "name": "stdout",
          "text": [
            "MP3 file downloaded to: /tmp/MIDI-Unprocessed_Chamber1_MID--AUDIO_07_R3_2018_wav--2.mp3\n"
          ]
        }
      ]
    },
    {
      "cell_type": "markdown",
      "source": [
        "## Get the corresponding MIDI file from GCS"
      ],
      "metadata": {
        "id": "-MBnFlB6t7fh"
      },
      "id": "-MBnFlB6t7fh"
    },
    {
      "cell_type": "code",
      "source": [
        "from google.cloud import storage\n",
        "\n",
        "bucket_name = \"audio_and_midi_files\"\n",
        "blob_path = \"2018/MIDI-Unprocessed_Chamber1_MID--AUDIO_07_R3_2018_wav--2.midi\"\n",
        "local_path = \"/tmp/MIDI-Unprocessed_Chamber1_MID--AUDIO_07_R3_2018_wav--2.midi\"\n",
        "\n",
        "# Initialize client\n",
        "client = storage.Client()\n",
        "bucket = client.bucket(bucket_name)\n",
        "blob = bucket.blob(blob_path)\n",
        "blob.download_to_filename(local_path)\n",
        "\n",
        "print(f\"MP3 file downloaded to: {local_path}\")"
      ],
      "metadata": {
        "colab": {
          "base_uri": "https://localhost:8080/"
        },
        "id": "_tRg4XFKsiXW",
        "outputId": "8baa44ef-bf4d-4416-8a83-4869612754fb"
      },
      "id": "_tRg4XFKsiXW",
      "execution_count": 12,
      "outputs": [
        {
          "output_type": "stream",
          "name": "stdout",
          "text": [
            "MP3 file downloaded to: /tmp/MIDI-Unprocessed_Chamber1_MID--AUDIO_07_R3_2018_wav--2.midi\n"
          ]
        }
      ]
    },
    {
      "cell_type": "markdown",
      "source": [
        "## Use the model to predict\n",
        "### === Step-by-step Explanation ===\n",
        "\n",
        "1. Load the MP3 audio file using Librosa at a sample rate of 22050 Hz.\n",
        "    This gives you the raw waveform (y) and the sample rate (sr).\n",
        "\n",
        "2. Convert the waveform into a Mel spectrogram with 128 frequency bins.\n",
        "    These bins roughly correspond to the human auditory range and capture frequency content over time.\n",
        "\n",
        "3. Convert the Mel spectrogram to a log scale in decibels (log-mel), which better aligns with how humans perceive loudness.\n",
        "\n",
        "4. Slice the first 100 time frames from the log-mel spectrogram (approx. 2.3 seconds of audio).\n",
        "    Reshape it to match the CNN input format: (1, 128, 100, 1).\n",
        "\n",
        "5. Load the trained model (as an inference-only TFSMLayer if saved in SavedModel format).\n",
        "    Wrap it in a Sequential container for Keras compatibility.\n",
        "\n",
        "6. Use the model to predict the piano roll — a binary matrix (88 notes × 100 time frames)\n",
        "    indicating which piano keys are likely active at each time step.\n",
        "\n",
        "7. Convert the predicted piano roll to a MIDI object using PrettyMIDI.\n",
        "    Each active note is translated into a `pretty_midi.Note` with start and end times.\n",
        "\n",
        "8. Save the MIDI file to `/tmp`.\n",
        "\n",
        "9. Synthesize the MIDI into a WAV file using FluidSynth.\n",
        "   This generates audio that can be listened to.\n",
        "\n",
        "10. Convert the WAV file to MP3 using pydub’s AudioSegment module.\n",
        "\n",
        "Result: I've built an end-to-end pipeline that converts audio → predicted MIDI → synthesized MP3 output.\n"
      ],
      "metadata": {
        "id": "5dKyvjI2uClP"
      },
      "id": "5dKyvjI2uClP"
    },
    {
      "cell_type": "code",
      "source": [
        "import librosa\n",
        "import numpy as np\n",
        "import pretty_midi\n",
        "from pydub import AudioSegment\n",
        "import soundfile as sf\n",
        "import os\n",
        "from keras import Sequential\n",
        "from keras.layers import TFSMLayer\n",
        "\n",
        "# --- Step 1: Load audio and get predicted piano roll ---\n",
        "mp3_path = \"/tmp/MIDI-Unprocessed_Chamber1_MID--AUDIO_07_R3_2018_wav--2.mp3\"\n",
        "y, sr = librosa.load(mp3_path, sr=22050)\n",
        "mel_spec = librosa.feature.melspectrogram(y=y, sr=sr, n_mels=128)\n",
        "log_mel = librosa.power_to_db(mel_spec, ref=np.max)\n",
        "\n",
        "# Take first 100 frames (or process in chunks)\n",
        "input_slice = log_mel[:, :100].reshape(1, 128, 100, 1)\n",
        "\n",
        "# Since I am loading the model from /tmp folder. It becomes inference only layer and it behaves differently than full model.\n",
        "# Wrap the inference layer\n",
        "if not isinstance(model_best, Sequential):\n",
        "    model_best = Sequential([model_best])\n",
        "\n",
        "# --- Predict ---\n",
        "raw_pred = model_best.predict(input_slice)\n",
        "\n",
        "# Extract actual output tensor\n",
        "if isinstance(raw_pred, dict):\n",
        "    # Automatically get the first value in the dict\n",
        "    raw_pred = list(raw_pred.values())[0]\n",
        "\n",
        "# If it's a TensorFlow tensor, convert to NumPy\n",
        "if hasattr(raw_pred, \"numpy\"):\n",
        "    raw_pred = raw_pred.numpy()\n",
        "\n",
        "# If it's still batched (shape: [1, 88, 100]), remove batch dimension\n",
        "if raw_pred.ndim == 3 and raw_pred.shape[0] == 1:\n",
        "    raw_pred = raw_pred[0]\n",
        "\n",
        "# Now it's safe to threshold\n",
        "pred_binary = (raw_pred > 0.5).astype(np.int32)  # raw_pred shape should be (88, 100)\n",
        "\n",
        "print(\"Predicted piano roll shape:\", pred_binary.shape)\n",
        "\n",
        "# --- Step 2: Convert piano roll to MIDI ---\n",
        "def piano_roll_to_midi(piano_roll, fs=100):\n",
        "    pm = pretty_midi.PrettyMIDI()\n",
        "    instrument = pretty_midi.Instrument(program=0)  # Acoustic Grand Piano\n",
        "\n",
        "    for note_num in range(88):  # MIDI note numbers 21–108\n",
        "        midi_note = note_num + 21\n",
        "        onsets = np.where(np.diff(piano_roll[note_num, :], prepend=0) == 1)[0]\n",
        "        offsets = np.where(np.diff(piano_roll[note_num, :], prepend=0) == -1)[0]\n",
        "\n",
        "        # Make sure each onset has a matching offset\n",
        "        if len(offsets) > 0 and (len(onsets) > len(offsets)):\n",
        "            onsets = onsets[:len(offsets)]\n",
        "\n",
        "        for onset, offset in zip(onsets, offsets):\n",
        "            start = onset / fs\n",
        "            end = offset / fs\n",
        "            note = pretty_midi.Note(\n",
        "                velocity=100, pitch=midi_note, start=start, end=end\n",
        "            )\n",
        "            instrument.notes.append(note)\n",
        "\n",
        "    pm.instruments.append(instrument)\n",
        "    return pm\n",
        "\n",
        "midi_obj = piano_roll_to_midi(pred_binary)\n",
        "midi_file = \"/tmp/predicted_MIDI-Unprocessed_Chamber1_MID--AUDIO_07_R3_2018_wav--2.midi\"\n",
        "midi_obj.write(midi_file)\n",
        "\n",
        "# --- Step 3: Convert MIDI to audio (WAV or MP3) ---\n",
        "# Option A: using FluidSynth (if installed)\n",
        "wave_file = \"/tmp/predicted_output_MIDI-Unprocessed_Chamber1_MID--AUDIO_07_R3_2018_wav--2.wav\"\n",
        "midi_obj.fluidsynth(fs=22050)\n",
        "audio = midi_obj.synthesize()\n",
        "sf.write(wave_file, audio, samplerate=22050)\n",
        "\n",
        "# Optionally convert to MP3\n",
        "sound = AudioSegment.from_wav(wave_file)\n",
        "mp3_output = \"/tmp/predicted_output_MIDI-Unprocessed_Chamber1_MID--AUDIO_07_R3_2018_wav--2.mp3\"\n",
        "sound.export(mp3_output, format=\"mp3\")\n",
        "\n",
        "print(\"MIDI and audio generated successfully.\")\n"
      ],
      "metadata": {
        "colab": {
          "base_uri": "https://localhost:8080/"
        },
        "id": "ywreuEemnFcb",
        "outputId": "afe623e8-4f4f-45f4-d6b1-b66d53639fae"
      },
      "id": "ywreuEemnFcb",
      "execution_count": 11,
      "outputs": [
        {
          "output_type": "stream",
          "name": "stdout",
          "text": [
            "\u001b[1m1/1\u001b[0m \u001b[32m━━━━━━━━━━━━━━━━━━━━\u001b[0m\u001b[37m\u001b[0m \u001b[1m0s\u001b[0m 50ms/step\n",
            "Predicted piano roll shape: (88, 100)\n",
            "MIDI and audio generated successfully.\n"
          ]
        }
      ]
    },
    {
      "cell_type": "markdown",
      "source": [
        "## Evaluation of Predicted Audio with True Audio\n",
        "1. Predicted audio file is short\n",
        "(1/100 th of the size of true audio)\n",
        "2. Predicted audio is of low quality\n",
        "\n",
        "Hence the comparison of predicted audio and true audio did not turn out well. It may be due to:\n",
        "1. the notes are not predicted properly\n",
        "2. synthesized audio if low quality"
      ],
      "metadata": {
        "id": "CRL_2P8r3xyq"
      },
      "id": "CRL_2P8r3xyq"
    },
    {
      "cell_type": "markdown",
      "source": [
        "## Evaluation of MIDI Files\n",
        "The below script compares a predicted MIDI file (generated by a model) with the true/original MIDI file to evaluate how accurate the predicted piano roll is in terms of active notes.\n",
        "\n",
        "I used precision, recall, and F1 score to perform the evaluation."
      ],
      "metadata": {
        "id": "hMxpG3gv3bgb"
      },
      "id": "hMxpG3gv3bgb"
    },
    {
      "cell_type": "code",
      "source": [
        "import pretty_midi\n",
        "import numpy as np\n",
        "from sklearn.metrics import f1_score, precision_score, recall_score\n",
        "\n",
        "def midi_to_binary_roll(midi_path, fs=100):\n",
        "    midi = pretty_midi.PrettyMIDI(midi_path)\n",
        "    roll = midi.get_piano_roll(fs=fs)[21:109]  # (88, T)\n",
        "    return (roll > 0).astype(int)\n",
        "\n",
        "# Load both MIDI files\n",
        "pred_roll = midi_to_binary_roll(\"/tmp/predicted_MIDI-Unprocessed_Chamber1_MID--AUDIO_07_R3_2018_wav--2.midi\")\n",
        "true_roll = midi_to_binary_roll(\"/tmp/MIDI-Unprocessed_Chamber1_MID--AUDIO_07_R3_2018_wav--2.midi\")\n",
        "true_roll = true_roll[:, :100]\n",
        "\n",
        "print(\"Predicted non-zero notes:\", np.count_nonzero(pred_roll))\n",
        "print(\"True non-zero notes     :\", np.count_nonzero(true_roll))\n",
        "\n",
        "# Align lengths\n",
        "T = min(pred_roll.shape[1], true_roll.shape[1])\n",
        "pred_flat = pred_roll[:, :T].flatten()\n",
        "true_flat = true_roll[:, :T].flatten()\n",
        "\n",
        "# Evaluate\n",
        "f1 = f1_score(true_flat, pred_flat)\n",
        "precision = precision_score(true_flat, pred_flat)\n",
        "recall = recall_score(true_flat, pred_flat)\n",
        "\n",
        "print(f\"F1 Score   : {f1:.4f}\")\n",
        "print(f\"Precision  : {precision:.4f}\")\n",
        "print(f\"Recall     : {recall:.4f}\")\n"
      ],
      "metadata": {
        "colab": {
          "base_uri": "https://localhost:8080/"
        },
        "id": "d4mKvIdJnOhT",
        "outputId": "a2eb9d63-a3fa-49f3-e02e-0dc4b4c1bba5"
      },
      "id": "d4mKvIdJnOhT",
      "execution_count": 14,
      "outputs": [
        {
          "output_type": "stream",
          "name": "stdout",
          "text": [
            "Predicted non-zero notes: 222\n",
            "True non-zero notes     : 0\n",
            "F1 Score   : 0.0000\n",
            "Precision  : 0.0000\n",
            "Recall     : 0.0000\n"
          ]
        },
        {
          "output_type": "stream",
          "name": "stderr",
          "text": [
            "/usr/local/lib/python3.10/dist-packages/sklearn/metrics/_classification.py:1565: UndefinedMetricWarning: Recall is ill-defined and being set to 0.0 due to no true samples. Use `zero_division` parameter to control this behavior.\n",
            "  _warn_prf(average, modifier, f\"{metric.capitalize()} is\", len(result))\n"
          ]
        }
      ]
    }
  ],
  "metadata": {
    "kernelspec": {
      "display_name": "Python 3",
      "language": "python",
      "name": "python3"
    },
    "language_info": {
      "codemirror_mode": {
        "name": "ipython",
        "version": 3
      },
      "file_extension": ".py",
      "mimetype": "text/x-python",
      "name": "python",
      "nbconvert_exporter": "python",
      "pygments_lexer": "ipython3",
      "version": "3.10.10"
    },
    "colab": {
      "provenance": [],
      "name": "test_music_transcription"
    }
  },
  "nbformat": 4,
  "nbformat_minor": 5
}