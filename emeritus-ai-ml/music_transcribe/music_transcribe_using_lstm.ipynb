{
  "cells": [
    {
      "cell_type": "code",
      "source": [
        "!pip install pretty_midi\n"
      ],
      "metadata": {
        "colab": {
          "base_uri": "https://localhost:8080/"
        },
        "id": "cLrqGDr5uf2y",
        "outputId": "46a909ea-ca61-4c6c-b21b-957b7bcb40b6"
      },
      "id": "cLrqGDr5uf2y",
      "execution_count": 5,
      "outputs": [
        {
          "output_type": "stream",
          "name": "stdout",
          "text": [
            "Collecting pretty_midi\n",
            "  Downloading pretty_midi-0.2.10.tar.gz (5.6 MB)\n",
            "\u001b[2K     \u001b[90m━━━━━━━━━━━━━━━━━━━━━━━━━━━━━━━━━━━━━━━━\u001b[0m \u001b[32m5.6/5.6 MB\u001b[0m \u001b[31m49.8 MB/s\u001b[0m eta \u001b[36m0:00:00\u001b[0m\n",
            "\u001b[?25h  Preparing metadata (setup.py) ... \u001b[?25l\u001b[?25hdone\n",
            "Requirement already satisfied: numpy>=1.7.0 in /usr/local/lib/python3.10/dist-packages (from pretty_midi) (1.26.4)\n",
            "Collecting mido>=1.1.16 (from pretty_midi)\n",
            "  Downloading mido-1.3.3-py3-none-any.whl.metadata (6.4 kB)\n",
            "Requirement already satisfied: six in /usr/local/lib/python3.10/dist-packages (from pretty_midi) (1.17.0)\n",
            "Requirement already satisfied: packaging in /usr/local/lib/python3.10/dist-packages (from mido>=1.1.16->pretty_midi) (24.2)\n",
            "Downloading mido-1.3.3-py3-none-any.whl (54 kB)\n",
            "\u001b[2K   \u001b[90m━━━━━━━━━━━━━━━━━━━━━━━━━━━━━━━━━━━━━━━━\u001b[0m \u001b[32m54.6/54.6 kB\u001b[0m \u001b[31m6.7 MB/s\u001b[0m eta \u001b[36m0:00:00\u001b[0m\n",
            "\u001b[?25hBuilding wheels for collected packages: pretty_midi\n",
            "  Building wheel for pretty_midi (setup.py) ... \u001b[?25l\u001b[?25hdone\n",
            "  Created wheel for pretty_midi: filename=pretty_midi-0.2.10-py3-none-any.whl size=5592286 sha256=6db1c0e6c6e55436d345b84ce5beaeb3e28ed4f1cdee0e8608bdf83be1d3e444\n",
            "  Stored in directory: /root/.cache/pip/wheels/cd/a5/30/7b8b7f58709f5150f67f98fde4b891ebf0be9ef07a8af49f25\n",
            "Successfully built pretty_midi\n",
            "Installing collected packages: mido, pretty_midi\n",
            "Successfully installed mido-1.3.3 pretty_midi-0.2.10\n"
          ]
        }
      ]
    },
    {
      "cell_type": "code",
      "source": [
        "!pip install -q keras-tuner\n"
      ],
      "metadata": {
        "id": "D7ogbRY94fRA"
      },
      "id": "D7ogbRY94fRA",
      "execution_count": 6,
      "outputs": []
    },
    {
      "cell_type": "markdown",
      "source": [
        "## Get audio and midi files from GCS"
      ],
      "metadata": {
        "id": "JzGLVQdm5-JS"
      },
      "id": "JzGLVQdm5-JS"
    },
    {
      "cell_type": "code",
      "source": [
        "from google.cloud import storage\n",
        "import os\n",
        "\n",
        "project_id = 'monobina-saha'\n",
        "bucket_name = 'audio_and_midi_files'\n",
        "data_prefix = '2018/'\n",
        "\n",
        "# using python storage client connecting to GCS\n",
        "client = storage.Client(project=project_id)\n",
        "bucket = client.bucket(bucket_name)\n",
        "\n",
        "# downloaded files from GCS bucket and folder to the local VM where this colab\n",
        "#notebook is running for ML use cases faster access of files\n",
        "local_data_dir = '/tmp/audio_and_midi'\n",
        "os.makedirs(local_data_dir, exist_ok=True)\n",
        "\n",
        "blobs = list(bucket.list_blobs(prefix=data_prefix))\n",
        "\n",
        "print(f\"Found {len(blobs)} files\")\n",
        "\n",
        "# not getting all files from GCS. Getting only 100 files for efficiency and cost\n",
        "file_count = 0\n",
        "max_files = 100\n",
        "\n",
        "for blob in blobs:\n",
        "    if blob.name.endswith('.mp3') or blob.name.endswith('.midi') or blob.name.endswith('.mid'):\n",
        "        filename = os.path.basename(blob.name)\n",
        "\n",
        "        if filename == \"\":\n",
        "            continue\n",
        "\n",
        "        local_path = os.path.join(local_data_dir, filename)\n",
        "        print(f\"Downloading {filename}...\")\n",
        "        blob.download_to_filename(local_path)\n",
        "\n",
        "        file_count += 1\n",
        "        if file_count >= max_files:\n",
        "            break\n",
        "\n",
        "# checked in left panel of colab inside vertex ai => files => tmp=> audio_and_midi => 2018 => files\n",
        "print(\"Download complete.\")\n",
        "print(\"Files downloaded:\", os.listdir(local_data_dir))"
      ],
      "metadata": {
        "colab": {
          "base_uri": "https://localhost:8080/"
        },
        "id": "NANSCySc57-f",
        "outputId": "eab7bd4f-6c7d-44d4-99d2-2e8d1e2e3650"
      },
      "id": "NANSCySc57-f",
      "execution_count": 17,
      "outputs": [
        {
          "output_type": "stream",
          "name": "stdout",
          "text": [
            "Found 199 files\n",
            "Downloading MIDI-Unprocessed_Chamber1_MID--AUDIO_07_R3_2018_wav--2.midi...\n",
            "Downloading MIDI-Unprocessed_Chamber1_MID--AUDIO_07_R3_2018_wav--2.mp3...\n",
            "Downloading MIDI-Unprocessed_Chamber2_MID--AUDIO_09_R3_2018_wav--1.midi...\n",
            "Downloading MIDI-Unprocessed_Chamber2_MID--AUDIO_09_R3_2018_wav--1.mp3...\n",
            "Downloading MIDI-Unprocessed_Chamber2_MID--AUDIO_09_R3_2018_wav--3.midi...\n",
            "Downloading MIDI-Unprocessed_Chamber2_MID--AUDIO_09_R3_2018_wav--3.mp3...\n",
            "Downloading MIDI-Unprocessed_Chamber3_MID--AUDIO_10_R3_2018_wav--1.midi...\n",
            "Downloading MIDI-Unprocessed_Chamber3_MID--AUDIO_10_R3_2018_wav--1.mp3...\n",
            "Downloading MIDI-Unprocessed_Chamber3_MID--AUDIO_10_R3_2018_wav--2.midi...\n",
            "Downloading MIDI-Unprocessed_Chamber3_MID--AUDIO_10_R3_2018_wav--2.mp3...\n",
            "Downloading MIDI-Unprocessed_Chamber3_MID--AUDIO_10_R3_2018_wav--3.midi...\n",
            "Downloading MIDI-Unprocessed_Chamber3_MID--AUDIO_10_R3_2018_wav--3.mp3...\n",
            "Downloading MIDI-Unprocessed_Chamber4_MID--AUDIO_11_R3_2018_wav--1.midi...\n",
            "Downloading MIDI-Unprocessed_Chamber4_MID--AUDIO_11_R3_2018_wav--1.mp3...\n",
            "Downloading MIDI-Unprocessed_Chamber4_MID--AUDIO_11_R3_2018_wav--3.midi...\n",
            "Downloading MIDI-Unprocessed_Chamber4_MID--AUDIO_11_R3_2018_wav--3.mp3...\n",
            "Downloading MIDI-Unprocessed_Chamber5_MID--AUDIO_18_R3_2018_wav--1.midi...\n",
            "Downloading MIDI-Unprocessed_Chamber5_MID--AUDIO_18_R3_2018_wav--1.mp3...\n",
            "Downloading MIDI-Unprocessed_Chamber5_MID--AUDIO_18_R3_2018_wav--2.midi...\n",
            "Downloading MIDI-Unprocessed_Chamber5_MID--AUDIO_18_R3_2018_wav--2.mp3...\n",
            "Downloading MIDI-Unprocessed_Chamber6_MID--AUDIO_20_R3_2018_wav--1.midi...\n",
            "Downloading MIDI-Unprocessed_Chamber6_MID--AUDIO_20_R3_2018_wav--1.mp3...\n",
            "Downloading MIDI-Unprocessed_Chamber6_MID--AUDIO_20_R3_2018_wav--2.midi...\n",
            "Downloading MIDI-Unprocessed_Chamber6_MID--AUDIO_20_R3_2018_wav--2.mp3...\n",
            "Downloading MIDI-Unprocessed_Chamber6_MID--AUDIO_20_R3_2018_wav--3.midi...\n",
            "Downloading MIDI-Unprocessed_Chamber6_MID--AUDIO_20_R3_2018_wav--3.mp3...\n",
            "Downloading MIDI-Unprocessed_Recital1-3_MID--AUDIO_01_R1_2018_wav--1.midi...\n",
            "Downloading MIDI-Unprocessed_Recital1-3_MID--AUDIO_01_R1_2018_wav--1.mp3...\n",
            "Downloading MIDI-Unprocessed_Recital1-3_MID--AUDIO_01_R1_2018_wav--2.midi...\n",
            "Downloading MIDI-Unprocessed_Recital1-3_MID--AUDIO_01_R1_2018_wav--2.mp3...\n",
            "Downloading MIDI-Unprocessed_Recital1-3_MID--AUDIO_01_R1_2018_wav--3.midi...\n",
            "Downloading MIDI-Unprocessed_Recital1-3_MID--AUDIO_01_R1_2018_wav--3.mp3...\n",
            "Downloading MIDI-Unprocessed_Recital1-3_MID--AUDIO_01_R1_2018_wav--4.midi...\n",
            "Downloading MIDI-Unprocessed_Recital1-3_MID--AUDIO_01_R1_2018_wav--4.mp3...\n",
            "Downloading MIDI-Unprocessed_Recital1-3_MID--AUDIO_02_R1_2018_wav--1.midi...\n",
            "Downloading MIDI-Unprocessed_Recital1-3_MID--AUDIO_02_R1_2018_wav--1.mp3...\n",
            "Downloading MIDI-Unprocessed_Recital1-3_MID--AUDIO_02_R1_2018_wav--2.midi...\n",
            "Downloading MIDI-Unprocessed_Recital1-3_MID--AUDIO_02_R1_2018_wav--2.mp3...\n",
            "Downloading MIDI-Unprocessed_Recital1-3_MID--AUDIO_02_R1_2018_wav--3.midi...\n",
            "Downloading MIDI-Unprocessed_Recital1-3_MID--AUDIO_02_R1_2018_wav--3.mp3...\n",
            "Downloading MIDI-Unprocessed_Recital1-3_MID--AUDIO_02_R1_2018_wav--4.midi...\n",
            "Downloading MIDI-Unprocessed_Recital1-3_MID--AUDIO_02_R1_2018_wav--4.mp3...\n",
            "Downloading MIDI-Unprocessed_Recital1-3_MID--AUDIO_03_R1_2018_wav--1.midi...\n",
            "Downloading MIDI-Unprocessed_Recital1-3_MID--AUDIO_03_R1_2018_wav--1.mp3...\n",
            "Downloading MIDI-Unprocessed_Recital1-3_MID--AUDIO_03_R1_2018_wav--2.midi...\n",
            "Downloading MIDI-Unprocessed_Recital1-3_MID--AUDIO_03_R1_2018_wav--2.mp3...\n",
            "Downloading MIDI-Unprocessed_Recital1-3_MID--AUDIO_03_R1_2018_wav--4.midi...\n",
            "Downloading MIDI-Unprocessed_Recital1-3_MID--AUDIO_03_R1_2018_wav--4.mp3...\n",
            "Downloading MIDI-Unprocessed_Recital1-3_MID--AUDIO_03_R1_2018_wav--5.midi...\n",
            "Downloading MIDI-Unprocessed_Recital1-3_MID--AUDIO_03_R1_2018_wav--5.mp3...\n",
            "Downloading MIDI-Unprocessed_Recital12_MID--AUDIO_12_R1_2018_wav--1.midi...\n",
            "Downloading MIDI-Unprocessed_Recital12_MID--AUDIO_12_R1_2018_wav--1.mp3...\n",
            "Downloading MIDI-Unprocessed_Recital12_MID--AUDIO_12_R1_2018_wav--2.midi...\n",
            "Downloading MIDI-Unprocessed_Recital12_MID--AUDIO_12_R1_2018_wav--2.mp3...\n",
            "Downloading MIDI-Unprocessed_Recital12_MID--AUDIO_12_R1_2018_wav--3.midi...\n",
            "Downloading MIDI-Unprocessed_Recital12_MID--AUDIO_12_R1_2018_wav--3.mp3...\n",
            "Downloading MIDI-Unprocessed_Recital13-15_MID--AUDIO_13_R1_2018_wav--1.midi...\n",
            "Downloading MIDI-Unprocessed_Recital13-15_MID--AUDIO_13_R1_2018_wav--1.mp3...\n",
            "Downloading MIDI-Unprocessed_Recital13-15_MID--AUDIO_13_R1_2018_wav--2.midi...\n",
            "Downloading MIDI-Unprocessed_Recital13-15_MID--AUDIO_13_R1_2018_wav--2.mp3...\n",
            "Downloading MIDI-Unprocessed_Recital13-15_MID--AUDIO_13_R1_2018_wav--3.midi...\n",
            "Downloading MIDI-Unprocessed_Recital13-15_MID--AUDIO_13_R1_2018_wav--3.mp3...\n",
            "Downloading MIDI-Unprocessed_Recital13-15_MID--AUDIO_14_R1_2018_wav--1.midi...\n",
            "Downloading MIDI-Unprocessed_Recital13-15_MID--AUDIO_14_R1_2018_wav--1.mp3...\n",
            "Downloading MIDI-Unprocessed_Recital13-15_MID--AUDIO_14_R1_2018_wav--2.midi...\n",
            "Downloading MIDI-Unprocessed_Recital13-15_MID--AUDIO_14_R1_2018_wav--2.mp3...\n",
            "Downloading MIDI-Unprocessed_Recital13-15_MID--AUDIO_14_R1_2018_wav--3.midi...\n",
            "Downloading MIDI-Unprocessed_Recital13-15_MID--AUDIO_14_R1_2018_wav--3.mp3...\n",
            "Downloading MIDI-Unprocessed_Recital13-15_MID--AUDIO_14_R1_2018_wav--4.midi...\n",
            "Downloading MIDI-Unprocessed_Recital13-15_MID--AUDIO_14_R1_2018_wav--4.mp3...\n",
            "Downloading MIDI-Unprocessed_Recital13-15_MID--AUDIO_15_R1_2018_wav--1.midi...\n",
            "Downloading MIDI-Unprocessed_Recital13-15_MID--AUDIO_15_R1_2018_wav--1.mp3...\n",
            "Downloading MIDI-Unprocessed_Recital13-15_MID--AUDIO_15_R1_2018_wav--2.midi...\n",
            "Downloading MIDI-Unprocessed_Recital13-15_MID--AUDIO_15_R1_2018_wav--2.mp3...\n",
            "Downloading MIDI-Unprocessed_Recital13-15_MID--AUDIO_15_R1_2018_wav--3.midi...\n",
            "Downloading MIDI-Unprocessed_Recital13-15_MID--AUDIO_15_R1_2018_wav--3.mp3...\n",
            "Downloading MIDI-Unprocessed_Recital13-15_MID--AUDIO_15_R1_2018_wav--4.midi...\n",
            "Downloading MIDI-Unprocessed_Recital13-15_MID--AUDIO_15_R1_2018_wav--4.mp3...\n",
            "Downloading MIDI-Unprocessed_Recital16_MID--AUDIO_16_R1_2018_wav--2.midi...\n",
            "Downloading MIDI-Unprocessed_Recital16_MID--AUDIO_16_R1_2018_wav--2.mp3...\n",
            "Downloading MIDI-Unprocessed_Recital16_MID--AUDIO_16_R1_2018_wav--3.midi...\n",
            "Downloading MIDI-Unprocessed_Recital16_MID--AUDIO_16_R1_2018_wav--3.mp3...\n",
            "Downloading MIDI-Unprocessed_Recital17-19_MID--AUDIO_17_R1_2018_wav--1.midi...\n",
            "Downloading MIDI-Unprocessed_Recital17-19_MID--AUDIO_17_R1_2018_wav--1.mp3...\n",
            "Downloading MIDI-Unprocessed_Recital17-19_MID--AUDIO_17_R1_2018_wav--2.midi...\n",
            "Downloading MIDI-Unprocessed_Recital17-19_MID--AUDIO_17_R1_2018_wav--2.mp3...\n",
            "Downloading MIDI-Unprocessed_Recital17-19_MID--AUDIO_17_R1_2018_wav--3.midi...\n",
            "Downloading MIDI-Unprocessed_Recital17-19_MID--AUDIO_17_R1_2018_wav--3.mp3...\n",
            "Downloading MIDI-Unprocessed_Recital17-19_MID--AUDIO_17_R1_2018_wav--4.midi...\n",
            "Downloading MIDI-Unprocessed_Recital17-19_MID--AUDIO_17_R1_2018_wav--4.mp3...\n",
            "Downloading MIDI-Unprocessed_Recital17-19_MID--AUDIO_18_R1_2018_wav--1.midi...\n",
            "Downloading MIDI-Unprocessed_Recital17-19_MID--AUDIO_18_R1_2018_wav--1.mp3...\n",
            "Downloading MIDI-Unprocessed_Recital17-19_MID--AUDIO_18_R1_2018_wav--2.midi...\n",
            "Downloading MIDI-Unprocessed_Recital17-19_MID--AUDIO_18_R1_2018_wav--2.mp3...\n",
            "Downloading MIDI-Unprocessed_Recital17-19_MID--AUDIO_18_R1_2018_wav--3.midi...\n",
            "Downloading MIDI-Unprocessed_Recital17-19_MID--AUDIO_18_R1_2018_wav--3.mp3...\n",
            "Downloading MIDI-Unprocessed_Recital17-19_MID--AUDIO_19_R1_2018_wav--1.midi...\n",
            "Downloading MIDI-Unprocessed_Recital17-19_MID--AUDIO_19_R1_2018_wav--1.mp3...\n",
            "Downloading MIDI-Unprocessed_Recital17-19_MID--AUDIO_19_R1_2018_wav--2.midi...\n",
            "Downloading MIDI-Unprocessed_Recital17-19_MID--AUDIO_19_R1_2018_wav--2.mp3...\n",
            "Download complete.\n",
            "Files downloaded: ['MIDI-Unprocessed_Recital16_MID--AUDIO_16_R1_2018_wav--2.midi', 'MIDI-Unprocessed_Recital1-3_MID--AUDIO_02_R1_2018_wav--2.midi', 'MIDI-Unprocessed_Recital1-3_MID--AUDIO_02_R1_2018_wav--3.midi', 'MIDI-Unprocessed_Recital12_MID--AUDIO_12_R1_2018_wav--1.midi', 'MIDI-Unprocessed_Recital13-15_MID--AUDIO_15_R1_2018_wav--1.mp3', 'MIDI-Unprocessed_Recital16_MID--AUDIO_16_R1_2018_wav--3.mp3', 'MIDI-Unprocessed_Recital17-19_MID--AUDIO_18_R1_2018_wav--2.midi', 'MIDI-Unprocessed_Recital16_MID--AUDIO_16_R1_2018_wav--2.mp3', 'MIDI-Unprocessed_Recital1-3_MID--AUDIO_02_R1_2018_wav--4.mp3', 'MIDI-Unprocessed_Chamber6_MID--AUDIO_20_R3_2018_wav--2.midi', 'MIDI-Unprocessed_Chamber3_MID--AUDIO_10_R3_2018_wav--1.midi', 'MIDI-Unprocessed_Recital17-19_MID--AUDIO_17_R1_2018_wav--3.mp3', 'MIDI-Unprocessed_Chamber2_MID--AUDIO_09_R3_2018_wav--1.midi', 'MIDI-Unprocessed_Recital1-3_MID--AUDIO_03_R1_2018_wav--1.mp3', 'MIDI-Unprocessed_Recital13-15_MID--AUDIO_13_R1_2018_wav--2.mp3', 'MIDI-Unprocessed_Recital1-3_MID--AUDIO_01_R1_2018_wav--4.midi', 'MIDI-Unprocessed_Recital17-19_MID--AUDIO_19_R1_2018_wav--2.midi', 'MIDI-Unprocessed_Recital1-3_MID--AUDIO_03_R1_2018_wav--5.mp3', 'MIDI-Unprocessed_Chamber5_MID--AUDIO_18_R3_2018_wav--2.mp3', 'MIDI-Unprocessed_Recital17-19_MID--AUDIO_17_R1_2018_wav--2.midi', 'MIDI-Unprocessed_Recital13-15_MID--AUDIO_13_R1_2018_wav--1.mp3', 'MIDI-Unprocessed_Recital1-3_MID--AUDIO_02_R1_2018_wav--4.midi', 'MIDI-Unprocessed_Recital1-3_MID--AUDIO_03_R1_2018_wav--4.mp3', 'MIDI-Unprocessed_Recital12_MID--AUDIO_12_R1_2018_wav--1.mp3', 'MIDI-Unprocessed_Recital1-3_MID--AUDIO_01_R1_2018_wav--3.midi', 'MIDI-Unprocessed_Chamber5_MID--AUDIO_18_R3_2018_wav--2.midi', 'MIDI-Unprocessed_Recital1-3_MID--AUDIO_03_R1_2018_wav--4.midi', 'MIDI-Unprocessed_Recital17-19_MID--AUDIO_17_R1_2018_wav--4.mp3', 'MIDI-Unprocessed_Chamber4_MID--AUDIO_11_R3_2018_wav--1.mp3', 'MIDI-Unprocessed_Recital1-3_MID--AUDIO_01_R1_2018_wav--2.midi', 'MIDI-Unprocessed_Recital17-19_MID--AUDIO_19_R1_2018_wav--1.mp3', 'MIDI-Unprocessed_Recital1-3_MID--AUDIO_02_R1_2018_wav--1.midi', 'MIDI-Unprocessed_Recital1-3_MID--AUDIO_02_R1_2018_wav--3.mp3', 'MIDI-Unprocessed_Recital13-15_MID--AUDIO_13_R1_2018_wav--1.midi', 'MIDI-Unprocessed_Recital17-19_MID--AUDIO_18_R1_2018_wav--3.mp3', 'MIDI-Unprocessed_Recital13-15_MID--AUDIO_14_R1_2018_wav--4.midi', 'MIDI-Unprocessed_Recital13-15_MID--AUDIO_14_R1_2018_wav--3.mp3', 'MIDI-Unprocessed_Chamber4_MID--AUDIO_11_R3_2018_wav--3.mp3', 'MIDI-Unprocessed_Recital1-3_MID--AUDIO_01_R1_2018_wav--2.mp3', 'MIDI-Unprocessed_Recital1-3_MID--AUDIO_01_R1_2018_wav--3.mp3', 'MIDI-Unprocessed_Recital13-15_MID--AUDIO_15_R1_2018_wav--2.midi', 'MIDI-Unprocessed_Recital1-3_MID--AUDIO_01_R1_2018_wav--1.midi', 'MIDI-Unprocessed_Chamber1_MID--AUDIO_07_R3_2018_wav--2.mp3', 'MIDI-Unprocessed_Recital13-15_MID--AUDIO_13_R1_2018_wav--3.midi', 'MIDI-Unprocessed_Recital13-15_MID--AUDIO_15_R1_2018_wav--3.mp3', 'MIDI-Unprocessed_Recital13-15_MID--AUDIO_14_R1_2018_wav--2.mp3', 'MIDI-Unprocessed_Recital17-19_MID--AUDIO_18_R1_2018_wav--2.mp3', 'MIDI-Unprocessed_Chamber6_MID--AUDIO_20_R3_2018_wav--1.midi', 'MIDI-Unprocessed_Recital1-3_MID--AUDIO_03_R1_2018_wav--5.midi', 'MIDI-Unprocessed_Chamber6_MID--AUDIO_20_R3_2018_wav--2.mp3', 'MIDI-Unprocessed_Recital17-19_MID--AUDIO_17_R1_2018_wav--3.midi', 'MIDI-Unprocessed_Recital17-19_MID--AUDIO_19_R1_2018_wav--2.mp3', 'MIDI-Unprocessed_Chamber4_MID--AUDIO_11_R3_2018_wav--3.midi', 'MIDI-Unprocessed_Recital17-19_MID--AUDIO_17_R1_2018_wav--1.mp3', 'MIDI-Unprocessed_Recital13-15_MID--AUDIO_14_R1_2018_wav--4.mp3', 'MIDI-Unprocessed_Chamber3_MID--AUDIO_10_R3_2018_wav--2.midi', 'MIDI-Unprocessed_Chamber2_MID--AUDIO_09_R3_2018_wav--1.mp3', 'MIDI-Unprocessed_Recital1-3_MID--AUDIO_02_R1_2018_wav--1.mp3', 'MIDI-Unprocessed_Chamber3_MID--AUDIO_10_R3_2018_wav--3.mp3', 'MIDI-Unprocessed_Recital12_MID--AUDIO_12_R1_2018_wav--2.mp3', 'MIDI-Unprocessed_Recital17-19_MID--AUDIO_18_R1_2018_wav--1.mp3', 'MIDI-Unprocessed_Recital12_MID--AUDIO_12_R1_2018_wav--3.mp3', 'MIDI-Unprocessed_Recital1-3_MID--AUDIO_02_R1_2018_wav--2.mp3', 'MIDI-Unprocessed_Chamber6_MID--AUDIO_20_R3_2018_wav--1.mp3', 'MIDI-Unprocessed_Recital17-19_MID--AUDIO_17_R1_2018_wav--2.mp3', 'MIDI-Unprocessed_Chamber6_MID--AUDIO_20_R3_2018_wav--3.midi', 'MIDI-Unprocessed_Chamber5_MID--AUDIO_18_R3_2018_wav--1.mp3', 'MIDI-Unprocessed_Recital17-19_MID--AUDIO_18_R1_2018_wav--1.midi', 'MIDI-Unprocessed_Recital12_MID--AUDIO_12_R1_2018_wav--2.midi', 'MIDI-Unprocessed_Recital13-15_MID--AUDIO_14_R1_2018_wav--3.midi', 'MIDI-Unprocessed_Recital1-3_MID--AUDIO_01_R1_2018_wav--4.mp3', 'MIDI-Unprocessed_Recital1-3_MID--AUDIO_03_R1_2018_wav--2.midi', 'MIDI-Unprocessed_Recital16_MID--AUDIO_16_R1_2018_wav--3.midi', 'MIDI-Unprocessed_Recital13-15_MID--AUDIO_15_R1_2018_wav--4.mp3', 'MIDI-Unprocessed_Chamber3_MID--AUDIO_10_R3_2018_wav--2.mp3', 'MIDI-Unprocessed_Chamber1_MID--AUDIO_07_R3_2018_wav--2.midi', 'MIDI-Unprocessed_Recital1-3_MID--AUDIO_01_R1_2018_wav--1.mp3', 'MIDI-Unprocessed_Chamber6_MID--AUDIO_20_R3_2018_wav--3.mp3', 'MIDI-Unprocessed_Chamber2_MID--AUDIO_09_R3_2018_wav--3.mp3', 'MIDI-Unprocessed_Recital17-19_MID--AUDIO_19_R1_2018_wav--1.midi', 'MIDI-Unprocessed_Recital13-15_MID--AUDIO_15_R1_2018_wav--3.midi', 'MIDI-Unprocessed_Recital13-15_MID--AUDIO_13_R1_2018_wav--2.midi', 'MIDI-Unprocessed_Recital13-15_MID--AUDIO_15_R1_2018_wav--1.midi', 'MIDI-Unprocessed_Recital13-15_MID--AUDIO_13_R1_2018_wav--3.mp3', 'MIDI-Unprocessed_Recital17-19_MID--AUDIO_18_R1_2018_wav--3.midi', 'MIDI-Unprocessed_Recital13-15_MID--AUDIO_14_R1_2018_wav--2.midi', 'MIDI-Unprocessed_Chamber2_MID--AUDIO_09_R3_2018_wav--3.midi', 'MIDI-Unprocessed_Recital17-19_MID--AUDIO_17_R1_2018_wav--1.midi', 'MIDI-Unprocessed_Chamber4_MID--AUDIO_11_R3_2018_wav--1.midi', 'MIDI-Unprocessed_Recital13-15_MID--AUDIO_14_R1_2018_wav--1.mp3', 'MIDI-Unprocessed_Recital1-3_MID--AUDIO_03_R1_2018_wav--2.mp3', 'MIDI-Unprocessed_Recital13-15_MID--AUDIO_14_R1_2018_wav--1.midi', 'MIDI-Unprocessed_Recital13-15_MID--AUDIO_15_R1_2018_wav--2.mp3', 'MIDI-Unprocessed_Recital1-3_MID--AUDIO_03_R1_2018_wav--1.midi', 'MIDI-Unprocessed_Chamber5_MID--AUDIO_18_R3_2018_wav--1.midi', 'MIDI-Unprocessed_Recital17-19_MID--AUDIO_17_R1_2018_wav--4.midi', 'MIDI-Unprocessed_Chamber3_MID--AUDIO_10_R3_2018_wav--1.mp3', 'MIDI-Unprocessed_Recital13-15_MID--AUDIO_15_R1_2018_wav--4.midi', 'MIDI-Unprocessed_Recital12_MID--AUDIO_12_R1_2018_wav--3.midi', 'MIDI-Unprocessed_Chamber3_MID--AUDIO_10_R3_2018_wav--3.midi']\n"
          ]
        }
      ]
    },
    {
      "cell_type": "code",
      "id": "CUXGY8qmzpWjPQjH2z0uFfh7",
      "metadata": {
        "tags": [],
        "id": "CUXGY8qmzpWjPQjH2z0uFfh7",
        "colab": {
          "base_uri": "https://localhost:8080/"
        },
        "outputId": "62f58935-f427-49cb-accd-77cb23fb2ae0"
      },
      "source": [
        "from google.cloud import storage\n",
        "import os\n",
        "\n",
        "bucket_name = \"processed_audio_for_model_use\"\n",
        "prefix = \"2018/\"\n",
        "local_dir = \"/tmp/\"\n",
        "\n",
        "# Initialize the client\n",
        "client = storage.Client()\n",
        "bucket = client.bucket(bucket_name)\n",
        "\n",
        "# List all blobs under the prefix (folder)\n",
        "blobs = bucket.list_blobs(prefix=prefix)\n",
        "\n",
        "for blob in blobs:\n",
        "    # Skip directories or non-relevant files\n",
        "    if blob.name.endswith(\"/\"):\n",
        "        continue\n",
        "    if not (blob.name.endswith(\".npy\") or blob.name.endswith(\".pkl\")):\n",
        "        continue\n",
        "\n",
        "    # Local file path\n",
        "    local_path = os.path.join(local_dir, os.path.basename(blob.name))\n",
        "    blob.download_to_filename(local_path)\n",
        "    print(f\"Downloaded {blob.name} to {local_path}\")\n"
      ],
      "execution_count": 7,
      "outputs": [
        {
          "output_type": "stream",
          "name": "stdout",
          "text": [
            "Downloaded 2018/X.npy to /tmp/X.npy\n",
            "Downloaded 2018/X_sliced.npy to /tmp/X_sliced.npy\n",
            "Downloaded 2018/X_supervised.npy to /tmp/X_supervised.npy\n",
            "Downloaded 2018/X_test.npy to /tmp/X_test.npy\n",
            "Downloaded 2018/X_train.npy to /tmp/X_train.npy\n",
            "Downloaded 2018/Y.npy to /tmp/Y.npy\n",
            "Downloaded 2018/Y_sliced.npy to /tmp/Y_sliced.npy\n",
            "Downloaded 2018/Y_supervised.npy to /tmp/Y_supervised.npy\n",
            "Downloaded 2018/Y_test.npy to /tmp/Y_test.npy\n",
            "Downloaded 2018/Y_train.npy to /tmp/Y_train.npy\n"
          ]
        }
      ]
    },
    {
      "cell_type": "code",
      "source": [
        "import numpy as np\n",
        "\n",
        "x_train = np.load(\"/tmp/X_train.npy\")\n",
        "y_train = np.load(\"/tmp/Y_train.npy\")\n",
        "\n",
        "x_test = np.load(\"/tmp/X_test.npy\")\n",
        "y_test = np.load(\"/tmp/Y_test.npy\")\n",
        "\n",
        "print(\"x_train shape:\", x_train.shape)\n",
        "print(\"y_train shape:\", y_train.shape)\n",
        "print(\"x_test shape:\", x_test.shape)\n",
        "print(\"y_test shape:\", y_test.shape)\n"
      ],
      "metadata": {
        "colab": {
          "base_uri": "https://localhost:8080/"
        },
        "id": "40zC2BBCmqQv",
        "outputId": "b8d0e621-709b-4550-aeb9-ce8523bbf89a"
      },
      "id": "40zC2BBCmqQv",
      "execution_count": 8,
      "outputs": [
        {
          "output_type": "stream",
          "name": "stdout",
          "text": [
            "x_train shape: (40, 128, 100, 1)\n",
            "y_train shape: (40, 88, 100)\n",
            "x_test shape: (10, 128, 100, 1)\n",
            "y_test shape: (10, 88, 100)\n"
          ]
        }
      ]
    },
    {
      "cell_type": "markdown",
      "source": [
        "### To use an LSTM model, I need to reshape x_train to be in the form:\n",
        "(samples, time_steps, features) → (40, 100, 128)\n",
        "\n",
        "This is because LSTMs operate over sequences (time steps)."
      ],
      "metadata": {
        "id": "GoT84AhNoxw9"
      },
      "id": "GoT84AhNoxw9"
    },
    {
      "cell_type": "code",
      "source": [
        "x_train_lstm = x_train.reshape(40, 128, 100).transpose(0, 2, 1)  # (40, 100, 128)\n",
        "x_test_lstm  = x_test.reshape(10, 128, 100).transpose(0, 2, 1)   # (10, 100, 128)\n",
        "\n",
        "# Reshape output from (N, 88, 100) → (N, 100, 88)\n",
        "y_train_lstm = y_train.transpose(0, 2, 1)\n",
        "y_test_lstm = y_test.transpose(0, 2, 1)\n",
        "\n"
      ],
      "metadata": {
        "id": "2BvOzH9nouf_"
      },
      "id": "2BvOzH9nouf_",
      "execution_count": 9,
      "outputs": []
    },
    {
      "cell_type": "code",
      "source": [
        "print(\"x_train shape:\", x_train_lstm.shape)\n",
        "print(\"y_train shape:\", y_train_lstm.shape)\n",
        "print(\"x_test shape:\", x_test_lstm.shape)\n",
        "print(\"y_test shape:\", y_test_lstm.shape)"
      ],
      "metadata": {
        "colab": {
          "base_uri": "https://localhost:8080/"
        },
        "id": "prkt1M8L8V1Z",
        "outputId": "25392d2d-972f-4fa6-cc79-0dea1b432001"
      },
      "id": "prkt1M8L8V1Z",
      "execution_count": 10,
      "outputs": [
        {
          "output_type": "stream",
          "name": "stdout",
          "text": [
            "x_train shape: (40, 100, 128)\n",
            "y_train shape: (40, 100, 88)\n",
            "x_test shape: (10, 100, 128)\n",
            "y_test shape: (10, 100, 88)\n"
          ]
        }
      ]
    },
    {
      "cell_type": "markdown",
      "source": [
        "### What is TimeDistributed(Dense(...)) function doing here?\n",
        "When I predict over sequences (like 100 time steps in music), I don't want a single output. I want one output per time step — in this case, an 88-note prediction (on/off for each key) at each of the 100 frames.\n",
        "\n",
        "This means:\n",
        "\n",
        "It applies a Dense(88) layer independently to each of the 100 time steps.\n",
        "\n",
        "It returns an output of shape (batch_size, 100, 88)."
      ],
      "metadata": {
        "id": "g64SkHtBtGFy"
      },
      "id": "g64SkHtBtGFy"
    },
    {
      "cell_type": "code",
      "source": [
        "import tensorflow as tf\n",
        "from tensorflow.keras.models import Sequential\n",
        "from tensorflow.keras.layers import LSTM, Dense, TimeDistributed, Dropout\n",
        "\n",
        "model_lstm = Sequential([\n",
        "    LSTM(128, return_sequences=True, input_shape=(100, 128)),\n",
        "    Dropout(0.3),\n",
        "    LSTM(64, return_sequences=True),\n",
        "    Dropout(0.3),\n",
        "    TimeDistributed(Dense(88, activation='sigmoid'))  # 88 notes per frame\n",
        "])\n",
        "\n",
        "model_lstm.compile(\n",
        "    optimizer='adam',\n",
        "    loss='binary_crossentropy',\n",
        "    metrics=['accuracy']\n",
        ")\n",
        "\n",
        "model_lstm.summary()\n"
      ],
      "metadata": {
        "colab": {
          "base_uri": "https://localhost:8080/",
          "height": 289
        },
        "id": "Su8L4bQnpDet",
        "outputId": "7a30549e-b4fb-4eae-fcf9-82a28f4a0ebc"
      },
      "id": "Su8L4bQnpDet",
      "execution_count": 11,
      "outputs": [
        {
          "output_type": "display_data",
          "data": {
            "text/plain": [
              "\u001b[1mModel: \"sequential_1\"\u001b[0m\n"
            ],
            "text/html": [
              "<pre style=\"white-space:pre;overflow-x:auto;line-height:normal;font-family:Menlo,'DejaVu Sans Mono',consolas,'Courier New',monospace\"><span style=\"font-weight: bold\">Model: \"sequential_1\"</span>\n",
              "</pre>\n"
            ]
          },
          "metadata": {}
        },
        {
          "output_type": "display_data",
          "data": {
            "text/plain": [
              "┏━━━━━━━━━━━━━━━━━━━━━━━━━━━━━━━━━━━━━━┳━━━━━━━━━━━━━━━━━━━━━━━━━━━━━┳━━━━━━━━━━━━━━━━━┓\n",
              "┃\u001b[1m \u001b[0m\u001b[1mLayer (type)                        \u001b[0m\u001b[1m \u001b[0m┃\u001b[1m \u001b[0m\u001b[1mOutput Shape               \u001b[0m\u001b[1m \u001b[0m┃\u001b[1m \u001b[0m\u001b[1m        Param #\u001b[0m\u001b[1m \u001b[0m┃\n",
              "┡━━━━━━━━━━━━━━━━━━━━━━━━━━━━━━━━━━━━━━╇━━━━━━━━━━━━━━━━━━━━━━━━━━━━━╇━━━━━━━━━━━━━━━━━┩\n",
              "│ lstm_1 (\u001b[38;5;33mLSTM\u001b[0m)                        │ (\u001b[38;5;45mNone\u001b[0m, \u001b[38;5;34m100\u001b[0m, \u001b[38;5;34m128\u001b[0m)            │         \u001b[38;5;34m131,584\u001b[0m │\n",
              "├──────────────────────────────────────┼─────────────────────────────┼─────────────────┤\n",
              "│ dropout_1 (\u001b[38;5;33mDropout\u001b[0m)                  │ (\u001b[38;5;45mNone\u001b[0m, \u001b[38;5;34m100\u001b[0m, \u001b[38;5;34m128\u001b[0m)            │               \u001b[38;5;34m0\u001b[0m │\n",
              "├──────────────────────────────────────┼─────────────────────────────┼─────────────────┤\n",
              "│ lstm_2 (\u001b[38;5;33mLSTM\u001b[0m)                        │ (\u001b[38;5;45mNone\u001b[0m, \u001b[38;5;34m100\u001b[0m, \u001b[38;5;34m64\u001b[0m)             │          \u001b[38;5;34m49,408\u001b[0m │\n",
              "├──────────────────────────────────────┼─────────────────────────────┼─────────────────┤\n",
              "│ dropout_2 (\u001b[38;5;33mDropout\u001b[0m)                  │ (\u001b[38;5;45mNone\u001b[0m, \u001b[38;5;34m100\u001b[0m, \u001b[38;5;34m64\u001b[0m)             │               \u001b[38;5;34m0\u001b[0m │\n",
              "├──────────────────────────────────────┼─────────────────────────────┼─────────────────┤\n",
              "│ time_distributed_1 (\u001b[38;5;33mTimeDistributed\u001b[0m) │ (\u001b[38;5;45mNone\u001b[0m, \u001b[38;5;34m100\u001b[0m, \u001b[38;5;34m88\u001b[0m)             │           \u001b[38;5;34m5,720\u001b[0m │\n",
              "└──────────────────────────────────────┴─────────────────────────────┴─────────────────┘\n"
            ],
            "text/html": [
              "<pre style=\"white-space:pre;overflow-x:auto;line-height:normal;font-family:Menlo,'DejaVu Sans Mono',consolas,'Courier New',monospace\">┏━━━━━━━━━━━━━━━━━━━━━━━━━━━━━━━━━━━━━━┳━━━━━━━━━━━━━━━━━━━━━━━━━━━━━┳━━━━━━━━━━━━━━━━━┓\n",
              "┃<span style=\"font-weight: bold\"> Layer (type)                         </span>┃<span style=\"font-weight: bold\"> Output Shape                </span>┃<span style=\"font-weight: bold\">         Param # </span>┃\n",
              "┡━━━━━━━━━━━━━━━━━━━━━━━━━━━━━━━━━━━━━━╇━━━━━━━━━━━━━━━━━━━━━━━━━━━━━╇━━━━━━━━━━━━━━━━━┩\n",
              "│ lstm_1 (<span style=\"color: #0087ff; text-decoration-color: #0087ff\">LSTM</span>)                        │ (<span style=\"color: #00d7ff; text-decoration-color: #00d7ff\">None</span>, <span style=\"color: #00af00; text-decoration-color: #00af00\">100</span>, <span style=\"color: #00af00; text-decoration-color: #00af00\">128</span>)            │         <span style=\"color: #00af00; text-decoration-color: #00af00\">131,584</span> │\n",
              "├──────────────────────────────────────┼─────────────────────────────┼─────────────────┤\n",
              "│ dropout_1 (<span style=\"color: #0087ff; text-decoration-color: #0087ff\">Dropout</span>)                  │ (<span style=\"color: #00d7ff; text-decoration-color: #00d7ff\">None</span>, <span style=\"color: #00af00; text-decoration-color: #00af00\">100</span>, <span style=\"color: #00af00; text-decoration-color: #00af00\">128</span>)            │               <span style=\"color: #00af00; text-decoration-color: #00af00\">0</span> │\n",
              "├──────────────────────────────────────┼─────────────────────────────┼─────────────────┤\n",
              "│ lstm_2 (<span style=\"color: #0087ff; text-decoration-color: #0087ff\">LSTM</span>)                        │ (<span style=\"color: #00d7ff; text-decoration-color: #00d7ff\">None</span>, <span style=\"color: #00af00; text-decoration-color: #00af00\">100</span>, <span style=\"color: #00af00; text-decoration-color: #00af00\">64</span>)             │          <span style=\"color: #00af00; text-decoration-color: #00af00\">49,408</span> │\n",
              "├──────────────────────────────────────┼─────────────────────────────┼─────────────────┤\n",
              "│ dropout_2 (<span style=\"color: #0087ff; text-decoration-color: #0087ff\">Dropout</span>)                  │ (<span style=\"color: #00d7ff; text-decoration-color: #00d7ff\">None</span>, <span style=\"color: #00af00; text-decoration-color: #00af00\">100</span>, <span style=\"color: #00af00; text-decoration-color: #00af00\">64</span>)             │               <span style=\"color: #00af00; text-decoration-color: #00af00\">0</span> │\n",
              "├──────────────────────────────────────┼─────────────────────────────┼─────────────────┤\n",
              "│ time_distributed_1 (<span style=\"color: #0087ff; text-decoration-color: #0087ff\">TimeDistributed</span>) │ (<span style=\"color: #00d7ff; text-decoration-color: #00d7ff\">None</span>, <span style=\"color: #00af00; text-decoration-color: #00af00\">100</span>, <span style=\"color: #00af00; text-decoration-color: #00af00\">88</span>)             │           <span style=\"color: #00af00; text-decoration-color: #00af00\">5,720</span> │\n",
              "└──────────────────────────────────────┴─────────────────────────────┴─────────────────┘\n",
              "</pre>\n"
            ]
          },
          "metadata": {}
        },
        {
          "output_type": "display_data",
          "data": {
            "text/plain": [
              "\u001b[1m Total params: \u001b[0m\u001b[38;5;34m186,712\u001b[0m (729.34 KB)\n"
            ],
            "text/html": [
              "<pre style=\"white-space:pre;overflow-x:auto;line-height:normal;font-family:Menlo,'DejaVu Sans Mono',consolas,'Courier New',monospace\"><span style=\"font-weight: bold\"> Total params: </span><span style=\"color: #00af00; text-decoration-color: #00af00\">186,712</span> (729.34 KB)\n",
              "</pre>\n"
            ]
          },
          "metadata": {}
        },
        {
          "output_type": "display_data",
          "data": {
            "text/plain": [
              "\u001b[1m Trainable params: \u001b[0m\u001b[38;5;34m186,712\u001b[0m (729.34 KB)\n"
            ],
            "text/html": [
              "<pre style=\"white-space:pre;overflow-x:auto;line-height:normal;font-family:Menlo,'DejaVu Sans Mono',consolas,'Courier New',monospace\"><span style=\"font-weight: bold\"> Trainable params: </span><span style=\"color: #00af00; text-decoration-color: #00af00\">186,712</span> (729.34 KB)\n",
              "</pre>\n"
            ]
          },
          "metadata": {}
        },
        {
          "output_type": "display_data",
          "data": {
            "text/plain": [
              "\u001b[1m Non-trainable params: \u001b[0m\u001b[38;5;34m0\u001b[0m (0.00 B)\n"
            ],
            "text/html": [
              "<pre style=\"white-space:pre;overflow-x:auto;line-height:normal;font-family:Menlo,'DejaVu Sans Mono',consolas,'Courier New',monospace\"><span style=\"font-weight: bold\"> Non-trainable params: </span><span style=\"color: #00af00; text-decoration-color: #00af00\">0</span> (0.00 B)\n",
              "</pre>\n"
            ]
          },
          "metadata": {}
        }
      ]
    },
    {
      "cell_type": "code",
      "source": [
        "from tensorflow.keras import layers, models\n",
        "\n",
        "# Define a fresh model\n",
        "model_lstm = models.Sequential([\n",
        "    layers.Input(shape=(100, 128)),        # (timesteps=100, features=128)\n",
        "    layers.LSTM(128, return_sequences=True),\n",
        "    layers.Dropout(0.3),\n",
        "    layers.TimeDistributed(layers.Dense(88, activation='sigmoid'))  # Output 88 notes for each frame\n",
        "])\n",
        "\n",
        "model_lstm.compile(\n",
        "    loss='binary_crossentropy',\n",
        "    optimizer='adam',\n",
        "    metrics=['accuracy']\n",
        ")\n",
        "\n",
        "model_lstm.summary()\n"
      ],
      "metadata": {
        "colab": {
          "base_uri": "https://localhost:8080/",
          "height": 225
        },
        "id": "HBO9OXRdlW4N",
        "outputId": "5f9c5ca7-d7b3-40c9-902e-d4b7f7ba46b7"
      },
      "id": "HBO9OXRdlW4N",
      "execution_count": 12,
      "outputs": [
        {
          "output_type": "display_data",
          "data": {
            "text/plain": [
              "\u001b[1mModel: \"sequential_2\"\u001b[0m\n"
            ],
            "text/html": [
              "<pre style=\"white-space:pre;overflow-x:auto;line-height:normal;font-family:Menlo,'DejaVu Sans Mono',consolas,'Courier New',monospace\"><span style=\"font-weight: bold\">Model: \"sequential_2\"</span>\n",
              "</pre>\n"
            ]
          },
          "metadata": {}
        },
        {
          "output_type": "display_data",
          "data": {
            "text/plain": [
              "┏━━━━━━━━━━━━━━━━━━━━━━━━━━━━━━━━━━━━━━┳━━━━━━━━━━━━━━━━━━━━━━━━━━━━━┳━━━━━━━━━━━━━━━━━┓\n",
              "┃\u001b[1m \u001b[0m\u001b[1mLayer (type)                        \u001b[0m\u001b[1m \u001b[0m┃\u001b[1m \u001b[0m\u001b[1mOutput Shape               \u001b[0m\u001b[1m \u001b[0m┃\u001b[1m \u001b[0m\u001b[1m        Param #\u001b[0m\u001b[1m \u001b[0m┃\n",
              "┡━━━━━━━━━━━━━━━━━━━━━━━━━━━━━━━━━━━━━━╇━━━━━━━━━━━━━━━━━━━━━━━━━━━━━╇━━━━━━━━━━━━━━━━━┩\n",
              "│ lstm_3 (\u001b[38;5;33mLSTM\u001b[0m)                        │ (\u001b[38;5;45mNone\u001b[0m, \u001b[38;5;34m100\u001b[0m, \u001b[38;5;34m128\u001b[0m)            │         \u001b[38;5;34m131,584\u001b[0m │\n",
              "├──────────────────────────────────────┼─────────────────────────────┼─────────────────┤\n",
              "│ dropout_3 (\u001b[38;5;33mDropout\u001b[0m)                  │ (\u001b[38;5;45mNone\u001b[0m, \u001b[38;5;34m100\u001b[0m, \u001b[38;5;34m128\u001b[0m)            │               \u001b[38;5;34m0\u001b[0m │\n",
              "├──────────────────────────────────────┼─────────────────────────────┼─────────────────┤\n",
              "│ time_distributed_2 (\u001b[38;5;33mTimeDistributed\u001b[0m) │ (\u001b[38;5;45mNone\u001b[0m, \u001b[38;5;34m100\u001b[0m, \u001b[38;5;34m88\u001b[0m)             │          \u001b[38;5;34m11,352\u001b[0m │\n",
              "└──────────────────────────────────────┴─────────────────────────────┴─────────────────┘\n"
            ],
            "text/html": [
              "<pre style=\"white-space:pre;overflow-x:auto;line-height:normal;font-family:Menlo,'DejaVu Sans Mono',consolas,'Courier New',monospace\">┏━━━━━━━━━━━━━━━━━━━━━━━━━━━━━━━━━━━━━━┳━━━━━━━━━━━━━━━━━━━━━━━━━━━━━┳━━━━━━━━━━━━━━━━━┓\n",
              "┃<span style=\"font-weight: bold\"> Layer (type)                         </span>┃<span style=\"font-weight: bold\"> Output Shape                </span>┃<span style=\"font-weight: bold\">         Param # </span>┃\n",
              "┡━━━━━━━━━━━━━━━━━━━━━━━━━━━━━━━━━━━━━━╇━━━━━━━━━━━━━━━━━━━━━━━━━━━━━╇━━━━━━━━━━━━━━━━━┩\n",
              "│ lstm_3 (<span style=\"color: #0087ff; text-decoration-color: #0087ff\">LSTM</span>)                        │ (<span style=\"color: #00d7ff; text-decoration-color: #00d7ff\">None</span>, <span style=\"color: #00af00; text-decoration-color: #00af00\">100</span>, <span style=\"color: #00af00; text-decoration-color: #00af00\">128</span>)            │         <span style=\"color: #00af00; text-decoration-color: #00af00\">131,584</span> │\n",
              "├──────────────────────────────────────┼─────────────────────────────┼─────────────────┤\n",
              "│ dropout_3 (<span style=\"color: #0087ff; text-decoration-color: #0087ff\">Dropout</span>)                  │ (<span style=\"color: #00d7ff; text-decoration-color: #00d7ff\">None</span>, <span style=\"color: #00af00; text-decoration-color: #00af00\">100</span>, <span style=\"color: #00af00; text-decoration-color: #00af00\">128</span>)            │               <span style=\"color: #00af00; text-decoration-color: #00af00\">0</span> │\n",
              "├──────────────────────────────────────┼─────────────────────────────┼─────────────────┤\n",
              "│ time_distributed_2 (<span style=\"color: #0087ff; text-decoration-color: #0087ff\">TimeDistributed</span>) │ (<span style=\"color: #00d7ff; text-decoration-color: #00d7ff\">None</span>, <span style=\"color: #00af00; text-decoration-color: #00af00\">100</span>, <span style=\"color: #00af00; text-decoration-color: #00af00\">88</span>)             │          <span style=\"color: #00af00; text-decoration-color: #00af00\">11,352</span> │\n",
              "└──────────────────────────────────────┴─────────────────────────────┴─────────────────┘\n",
              "</pre>\n"
            ]
          },
          "metadata": {}
        },
        {
          "output_type": "display_data",
          "data": {
            "text/plain": [
              "\u001b[1m Total params: \u001b[0m\u001b[38;5;34m142,936\u001b[0m (558.34 KB)\n"
            ],
            "text/html": [
              "<pre style=\"white-space:pre;overflow-x:auto;line-height:normal;font-family:Menlo,'DejaVu Sans Mono',consolas,'Courier New',monospace\"><span style=\"font-weight: bold\"> Total params: </span><span style=\"color: #00af00; text-decoration-color: #00af00\">142,936</span> (558.34 KB)\n",
              "</pre>\n"
            ]
          },
          "metadata": {}
        },
        {
          "output_type": "display_data",
          "data": {
            "text/plain": [
              "\u001b[1m Trainable params: \u001b[0m\u001b[38;5;34m142,936\u001b[0m (558.34 KB)\n"
            ],
            "text/html": [
              "<pre style=\"white-space:pre;overflow-x:auto;line-height:normal;font-family:Menlo,'DejaVu Sans Mono',consolas,'Courier New',monospace\"><span style=\"font-weight: bold\"> Trainable params: </span><span style=\"color: #00af00; text-decoration-color: #00af00\">142,936</span> (558.34 KB)\n",
              "</pre>\n"
            ]
          },
          "metadata": {}
        },
        {
          "output_type": "display_data",
          "data": {
            "text/plain": [
              "\u001b[1m Non-trainable params: \u001b[0m\u001b[38;5;34m0\u001b[0m (0.00 B)\n"
            ],
            "text/html": [
              "<pre style=\"white-space:pre;overflow-x:auto;line-height:normal;font-family:Menlo,'DejaVu Sans Mono',consolas,'Courier New',monospace\"><span style=\"font-weight: bold\"> Non-trainable params: </span><span style=\"color: #00af00; text-decoration-color: #00af00\">0</span> (0.00 B)\n",
              "</pre>\n"
            ]
          },
          "metadata": {}
        }
      ]
    },
    {
      "cell_type": "code",
      "source": [
        "history = model_lstm.fit(\n",
        "    x_train_lstm, y_train_lstm,\n",
        "    validation_data=(x_test_lstm, y_test_lstm),\n",
        "    epochs=15,\n",
        "    batch_size=8\n",
        ")\n"
      ],
      "metadata": {
        "colab": {
          "base_uri": "https://localhost:8080/"
        },
        "id": "CVVslj6TpbYD",
        "outputId": "9f41e3bc-4d4e-4ae7-b13e-70e2ee8f2a84"
      },
      "id": "CVVslj6TpbYD",
      "execution_count": 13,
      "outputs": [
        {
          "output_type": "stream",
          "name": "stdout",
          "text": [
            "Epoch 1/15\n",
            "\u001b[1m5/5\u001b[0m \u001b[32m━━━━━━━━━━━━━━━━━━━━\u001b[0m\u001b[37m\u001b[0m \u001b[1m9s\u001b[0m 516ms/step - accuracy: 0.0067 - loss: 0.7229 - val_accuracy: 0.0000e+00 - val_loss: 0.6183\n",
            "Epoch 2/15\n",
            "\u001b[1m5/5\u001b[0m \u001b[32m━━━━━━━━━━━━━━━━━━━━\u001b[0m\u001b[37m\u001b[0m \u001b[1m1s\u001b[0m 125ms/step - accuracy: 0.0058 - loss: 0.5547 - val_accuracy: 0.0000e+00 - val_loss: 0.5344\n",
            "Epoch 3/15\n",
            "\u001b[1m5/5\u001b[0m \u001b[32m━━━━━━━━━━━━━━━━━━━━\u001b[0m\u001b[37m\u001b[0m \u001b[1m1s\u001b[0m 89ms/step - accuracy: 0.0183 - loss: 0.4888 - val_accuracy: 0.0000e+00 - val_loss: 0.4781\n",
            "Epoch 4/15\n",
            "\u001b[1m5/5\u001b[0m \u001b[32m━━━━━━━━━━━━━━━━━━━━\u001b[0m\u001b[37m\u001b[0m \u001b[1m1s\u001b[0m 103ms/step - accuracy: 0.0077 - loss: 0.4474 - val_accuracy: 0.0000e+00 - val_loss: 0.4267\n",
            "Epoch 5/15\n",
            "\u001b[1m5/5\u001b[0m \u001b[32m━━━━━━━━━━━━━━━━━━━━\u001b[0m\u001b[37m\u001b[0m \u001b[1m1s\u001b[0m 94ms/step - accuracy: 0.0085 - loss: 0.4066 - val_accuracy: 0.0000e+00 - val_loss: 0.3869\n",
            "Epoch 6/15\n",
            "\u001b[1m5/5\u001b[0m \u001b[32m━━━━━━━━━━━━━━━━━━━━\u001b[0m\u001b[37m\u001b[0m \u001b[1m1s\u001b[0m 118ms/step - accuracy: 0.0102 - loss: 0.3526 - val_accuracy: 0.0000e+00 - val_loss: 0.3482\n",
            "Epoch 7/15\n",
            "\u001b[1m5/5\u001b[0m \u001b[32m━━━━━━━━━━━━━━━━━━━━\u001b[0m\u001b[37m\u001b[0m \u001b[1m1s\u001b[0m 92ms/step - accuracy: 0.0275 - loss: 0.2761 - val_accuracy: 0.0000e+00 - val_loss: 0.3182\n",
            "Epoch 8/15\n",
            "\u001b[1m5/5\u001b[0m \u001b[32m━━━━━━━━━━━━━━━━━━━━\u001b[0m\u001b[37m\u001b[0m \u001b[1m0s\u001b[0m 93ms/step - accuracy: 0.0093 - loss: 0.2953 - val_accuracy: 0.0000e+00 - val_loss: 0.2951\n",
            "Epoch 9/15\n",
            "\u001b[1m5/5\u001b[0m \u001b[32m━━━━━━━━━━━━━━━━━━━━\u001b[0m\u001b[37m\u001b[0m \u001b[1m0s\u001b[0m 89ms/step - accuracy: 0.0074 - loss: 0.2734 - val_accuracy: 0.0000e+00 - val_loss: 0.2794\n",
            "Epoch 10/15\n",
            "\u001b[1m5/5\u001b[0m \u001b[32m━━━━━━━━━━━━━━━━━━━━\u001b[0m\u001b[37m\u001b[0m \u001b[1m0s\u001b[0m 76ms/step - accuracy: 0.0151 - loss: 0.2407 - val_accuracy: 0.0000e+00 - val_loss: 0.2663\n",
            "Epoch 11/15\n",
            "\u001b[1m5/5\u001b[0m \u001b[32m━━━━━━━━━━━━━━━━━━━━\u001b[0m\u001b[37m\u001b[0m \u001b[1m0s\u001b[0m 76ms/step - accuracy: 0.0273 - loss: 0.1770 - val_accuracy: 0.0000e+00 - val_loss: 0.2531\n",
            "Epoch 12/15\n",
            "\u001b[1m5/5\u001b[0m \u001b[32m━━━━━━━━━━━━━━━━━━━━\u001b[0m\u001b[37m\u001b[0m \u001b[1m0s\u001b[0m 76ms/step - accuracy: 0.0173 - loss: 0.1971 - val_accuracy: 0.0000e+00 - val_loss: 0.2436\n",
            "Epoch 13/15\n",
            "\u001b[1m5/5\u001b[0m \u001b[32m━━━━━━━━━━━━━━━━━━━━\u001b[0m\u001b[37m\u001b[0m \u001b[1m0s\u001b[0m 76ms/step - accuracy: 0.0076 - loss: 0.2071 - val_accuracy: 0.0000e+00 - val_loss: 0.2365\n",
            "Epoch 14/15\n",
            "\u001b[1m5/5\u001b[0m \u001b[32m━━━━━━━━━━━━━━━━━━━━\u001b[0m\u001b[37m\u001b[0m \u001b[1m0s\u001b[0m 76ms/step - accuracy: 0.0307 - loss: 0.1311 - val_accuracy: 0.0000e+00 - val_loss: 0.2320\n",
            "Epoch 15/15\n",
            "\u001b[1m5/5\u001b[0m \u001b[32m━━━━━━━━━━━━━━━━━━━━\u001b[0m\u001b[37m\u001b[0m \u001b[1m0s\u001b[0m 76ms/step - accuracy: 0.0247 - loss: 0.1647 - val_accuracy: 0.0000e+00 - val_loss: 0.2272\n"
          ]
        }
      ]
    },
    {
      "cell_type": "code",
      "source": [
        "import matplotlib.pyplot as plt\n",
        "import numpy as np\n",
        "\n",
        "# Get a prediction\n",
        "pred = model_lstm.predict(x_test_lstm[:1])[0]   # Shape: (100, 88)\n",
        "pred_binary = (pred > 0.5).astype(int)\n",
        "\n",
        "true_binary = y_test_lstm[0]  # Shape: (100, 88)\n",
        "\n",
        "# Plot side-by-side\n",
        "fig, axs = plt.subplots(2, 1, figsize=(12, 6), sharex=True)\n",
        "\n",
        "axs[0].imshow(pred_binary.T, aspect='auto', cmap='gray_r', origin='lower')\n",
        "axs[0].set_title(\"Predicted Piano Roll (88 notes × 100 frames)\")\n",
        "axs[0].set_ylabel(\"Note\")\n",
        "\n",
        "axs[1].imshow(true_binary.T, aspect='auto', cmap='gray_r', origin='lower')\n",
        "axs[1].set_title(\"True Piano Roll\")\n",
        "axs[1].set_xlabel(\"Time frame\")\n",
        "axs[1].set_ylabel(\"Note\")\n",
        "\n",
        "plt.tight_layout()\n",
        "plt.show()\n"
      ],
      "metadata": {
        "colab": {
          "base_uri": "https://localhost:8080/",
          "height": 624
        },
        "id": "HNurW6eiti2Y",
        "outputId": "dbf1e84d-38d9-4843-a617-d7e5cddde334"
      },
      "id": "HNurW6eiti2Y",
      "execution_count": 14,
      "outputs": [
        {
          "output_type": "stream",
          "name": "stdout",
          "text": [
            "\u001b[1m1/1\u001b[0m \u001b[32m━━━━━━━━━━━━━━━━━━━━\u001b[0m\u001b[37m\u001b[0m \u001b[1m1s\u001b[0m 1s/step\n"
          ]
        },
        {
          "output_type": "display_data",
          "data": {
            "text/plain": [
              "<Figure size 1200x600 with 2 Axes>"
            ],
            "image/png": "[encoded data removed]"
          },
          "metadata": {}
        }
      ]
    },
    {
      "cell_type": "code",
      "source": [
        "import pretty_midi\n",
        "\n",
        "def piano_roll_to_midi_lstm(piano_roll, fs=100):\n",
        "    # Transpose to (88, 100)\n",
        "    piano_roll = piano_roll.T\n",
        "    pm = pretty_midi.PrettyMIDI()\n",
        "    instrument = pretty_midi.Instrument(program=0)\n",
        "\n",
        "    for note_num in range(88):\n",
        "        midi_note = note_num + 21\n",
        "        onsets = np.where(np.diff(piano_roll[note_num], prepend=0) == 1)[0]\n",
        "        offsets = np.where(np.diff(piano_roll[note_num], prepend=0) == -1)[0]\n",
        "        if len(offsets) > 0 and len(onsets) > len(offsets):\n",
        "            onsets = onsets[:len(offsets)]\n",
        "        for onset, offset in zip(onsets, offsets):\n",
        "            start = onset / fs\n",
        "            end = offset / fs\n",
        "            note = pretty_midi.Note(\n",
        "                velocity=100, pitch=midi_note, start=start, end=end\n",
        "            )\n",
        "            instrument.notes.append(note)\n",
        "\n",
        "    pm.instruments.append(instrument)\n",
        "    return pm\n",
        "\n",
        "midi = piano_roll_to_midi_lstm(pred_binary)\n",
        "midi.write(\"/tmp/lstm_prediction_output.midi\")\n"
      ],
      "metadata": {
        "id": "dkV0HMAbt5Vs"
      },
      "id": "dkV0HMAbt5Vs",
      "execution_count": 15,
      "outputs": []
    },
    {
      "cell_type": "code",
      "source": [
        "import pretty_midi\n",
        "import matplotlib.pyplot as plt\n",
        "\n",
        "def get_note_distribution(midi_path):\n",
        "    midi = pretty_midi.PrettyMIDI(midi_path)\n",
        "    notes = [note.pitch for inst in midi.instruments for note in inst.notes]\n",
        "    return notes\n",
        "\n",
        "# Load note distributions\n",
        "pred_notes = get_note_distribution(\"/tmp/lstm_prediction_output.midi\")\n",
        "true_notes = get_note_distribution(\"/tmp/audio_and_midi/MIDI-Unprocessed_Chamber1_MID--AUDIO_07_R3_2018_wav--2.midi\")\n",
        "\n",
        "# Create side-by-side plots\n",
        "fig, axs = plt.subplots(1, 2, figsize=(14, 5), sharey=True)\n",
        "\n",
        "# True MIDI\n",
        "axs[0].hist(true_notes, bins=range(21, 109), color='skyblue', edgecolor='black')\n",
        "axs[0].set_title(\"True MIDI Note Distribution\")\n",
        "axs[0].set_xlabel(\"MIDI Note Number\")\n",
        "axs[0].set_ylabel(\"Count\")\n",
        "axs[0].grid(True)\n",
        "\n",
        "# Predicted MIDI\n",
        "axs[1].hist(pred_notes, bins=range(21, 109), color='salmon', edgecolor='black')\n",
        "axs[1].set_title(\"Predicted MIDI Note Distribution\")\n",
        "axs[1].set_xlabel(\"MIDI Note Number\")\n",
        "axs[1].grid(True)\n",
        "\n",
        "plt.tight_layout()\n",
        "plt.show()\n",
        "\n"
      ],
      "metadata": {
        "colab": {
          "base_uri": "https://localhost:8080/",
          "height": 470
        },
        "id": "V8e-F8fDvUU5",
        "outputId": "bb41d1f0-931d-49b1-9a33-3d18bf19f874"
      },
      "id": "V8e-F8fDvUU5",
      "execution_count": 18,
      "outputs": [
        {
          "output_type": "display_data",
          "data": {
            "text/plain": [
              "<Figure size 1400x500 with 2 Axes>"
            ],
            "image/png": "[encoded data removed]"
          },
          "metadata": {}
        }
      ]
    },
    {
      "cell_type": "markdown",
      "source": [
        "### LSTM model isn't predicting any notes (i.e., the output piano roll is mostly zeros)\n",
        "I think it's underfitting or not learning useful patterns. This is common in sequence learning problems like music if:\n",
        "\n",
        "\n",
        "\n",
        "*  Model is too shallow or small\n",
        "*  Sequence length is too short\n",
        "*  Data is imbalanced (many time frames have no active notes)\n",
        "*  Learning rate, batch size, etc. are not optimal"
      ],
      "metadata": {
        "id": "3v5KbGU43ORj"
      },
      "id": "3v5KbGU43ORj"
    },
    {
      "cell_type": "code",
      "source": [
        "from sklearn.metrics import f1_score, precision_score, recall_score\n",
        "import numpy as np\n",
        "\n",
        "def midi_to_binary_roll(midi_path, fs=100):\n",
        "    midi = pretty_midi.PrettyMIDI(midi_path)\n",
        "    roll = midi.get_piano_roll(fs=fs)[21:109]  # (88, T)\n",
        "    return (roll > 0).astype(int)\n",
        "\n",
        "# Load both MIDI rolls\n",
        "pred_roll = midi_to_binary_roll(\"/tmp/lstm_prediction_output.midi\")\n",
        "true_roll = midi_to_binary_roll(\"/tmp/audio_and_midi/MIDI-Unprocessed_Chamber1_MID--AUDIO_07_R3_2018_wav--2.midi\")\n",
        "\n",
        "# Trim to same length\n",
        "min_T = min(pred_roll.shape[1], true_roll.shape[1])\n",
        "pred_flat = pred_roll[:, :min_T].flatten()\n",
        "true_flat = true_roll[:, :min_T].flatten()\n",
        "\n",
        "# Evaluation\n",
        "f1 = f1_score(true_flat, pred_flat, zero_division=0)\n",
        "precision = precision_score(true_flat, pred_flat, zero_division=0)\n",
        "recall = recall_score(true_flat, pred_flat, zero_division=0)\n",
        "\n",
        "print(f\"F1 Score   : {f1:.4f}\")\n",
        "print(f\"Precision  : {precision:.4f}\")\n",
        "print(f\"Recall     : {recall:.4f}\")\n"
      ],
      "metadata": {
        "colab": {
          "base_uri": "https://localhost:8080/"
        },
        "id": "lN_CG-nRw33c",
        "outputId": "7538aafa-e2f2-4a62-94f5-b8fb2eb72f87"
      },
      "id": "lN_CG-nRw33c",
      "execution_count": 21,
      "outputs": [
        {
          "output_type": "stream",
          "name": "stdout",
          "text": [
            "F1 Score   : 0.0000\n",
            "Precision  : 0.0000\n",
            "Recall     : 0.0000\n"
          ]
        }
      ]
    },
    {
      "cell_type": "markdown",
      "source": [
        "### Increase Model Complexity\n",
        "stacking more LSTM layers and increasing the number of units:"
      ],
      "metadata": {
        "id": "qKfgq6pF42bt"
      },
      "id": "qKfgq6pF42bt"
    },
    {
      "cell_type": "code",
      "source": [
        "from keras.models import Sequential\n",
        "from keras.layers import LSTM, TimeDistributed, Dense, Dropout\n",
        "\n",
        "model_lstm = Sequential([\n",
        "    LSTM(128, return_sequences=True, input_shape=(100, 128)),\n",
        "    Dropout(0.3),\n",
        "    LSTM(64, return_sequences=True),\n",
        "    Dropout(0.3),\n",
        "    TimeDistributed(Dense(88, activation='sigmoid'))\n",
        "])\n",
        "\n",
        "model_lstm.compile(optimizer='adam', loss='binary_crossentropy', metrics=['accuracy'])\n"
      ],
      "metadata": {
        "colab": {
          "base_uri": "https://localhost:8080/"
        },
        "id": "wjL88H324b9y",
        "outputId": "8ae8e0a2-fa58-4854-d870-804a37ca5f73"
      },
      "id": "wjL88H324b9y",
      "execution_count": 22,
      "outputs": [
        {
          "output_type": "stream",
          "name": "stderr",
          "text": [
            "/usr/local/lib/python3.10/dist-packages/keras/src/layers/rnn/rnn.py:204: UserWarning: Do not pass an `input_shape`/`input_dim` argument to a layer. When using Sequential models, prefer using an `Input(shape)` object as the first layer in the model instead.\n",
            "  super().__init__(**kwargs)\n"
          ]
        }
      ]
    },
    {
      "cell_type": "code",
      "source": [
        "from sklearn.preprocessing import StandardScaler\n",
        "import numpy as np\n",
        "\n",
        "# Flatten temporal dimension and mel bins for scaling\n",
        "# Reshape: (N, 100, 128) → (N * 100, 128)\n",
        "x_train_flat = x_train_lstm.reshape(-1, 128)\n",
        "x_test_flat = x_test_lstm.reshape(-1, 128)\n",
        "\n",
        "# Fit scaler on training data\n",
        "scaler = StandardScaler()\n",
        "x_train_scaled = scaler.fit_transform(x_train_flat)\n",
        "x_test_scaled = scaler.transform(x_test_flat)\n",
        "\n",
        "# Reshape back to original shape\n",
        "x_train_lstm_scaled = x_train_scaled.reshape(-1, 100, 128)\n",
        "x_test_lstm_scaled = x_test_scaled.reshape(-1, 100, 128)\n"
      ],
      "metadata": {
        "id": "frWXIT53-xuk"
      },
      "id": "frWXIT53-xuk",
      "execution_count": 23,
      "outputs": []
    },
    {
      "cell_type": "code",
      "source": [
        "print(\"x_train_lstm_scaled shape:\", x_train_scaled.shape)\n",
        "print(\"y_train_lstm shape:\", y_train_lstm.shape)\n",
        "print(\"y_train shape:\", y_train.shape)\n",
        "print(\"x_test_lstm_scaled shape:\", x_test_scaled.shape)\n",
        "print(\"y_test_lsm shape:\", y_test_lstm.shape)\n",
        "print(\"y_train shape:\", y_train.shape)"
      ],
      "metadata": {
        "colab": {
          "base_uri": "https://localhost:8080/"
        },
        "id": "mKp5gd4vAf6g",
        "outputId": "43699454-6d94-47fb-cc81-e6fe5620b46a"
      },
      "id": "mKp5gd4vAf6g",
      "execution_count": 24,
      "outputs": [
        {
          "output_type": "stream",
          "name": "stdout",
          "text": [
            "x_train_lstm_scaled shape: (4000, 128)\n",
            "y_train_lstm shape: (40, 100, 88)\n",
            "y_train shape: (40, 88, 100)\n",
            "x_test_lstm_scaled shape: (1000, 128)\n",
            "y_test_lsm shape: (10, 100, 88)\n",
            "y_train shape: (40, 88, 100)\n"
          ]
        }
      ]
    },
    {
      "cell_type": "markdown",
      "source": [
        "StandardScaler is only applied to X (input).\n",
        "\n",
        "sigmoid output with binary_crossentropy is appropriate for multi-label piano roll output.\n",
        "\n",
        "This model will learn to predict what notes are active per time frame."
      ],
      "metadata": {
        "id": "MUwolR2qCuj7"
      },
      "id": "MUwolR2qCuj7"
    },
    {
      "cell_type": "code",
      "source": [
        "import numpy as np\n",
        "from sklearn.preprocessing import StandardScaler\n",
        "from keras.models import Sequential\n",
        "from keras.layers import LSTM, TimeDistributed, Dense, Dropout\n",
        "\n",
        "# -------------------------------\n",
        "# 1. Assume original shapes:\n",
        "# x_train: (40, 128, 100, 1)\n",
        "# y_train: (40, 88, 100)\n",
        "# -------------------------------\n",
        "\n",
        "# Step 1: Reshape X to (N, 100, 128)\n",
        "x_train_lstm = x_train.reshape(x_train.shape[0], 128, 100).transpose(0, 2, 1)  # -> (40, 100, 128)\n",
        "x_test_lstm = x_test.reshape(x_test.shape[0], 128, 100).transpose(0, 2, 1)\n",
        "\n",
        "# Step 2: Scale X features\n",
        "scaler = StandardScaler()\n",
        "\n",
        "# Flatten across batches and time\n",
        "x_train_flat = x_train_lstm.reshape(-1, 128)  # (40×100, 128)\n",
        "x_test_flat = x_test_lstm.reshape(-1, 128)\n",
        "\n",
        "# Fit and transform\n",
        "x_train_scaled = scaler.fit_transform(x_train_flat)\n",
        "x_test_scaled = scaler.transform(x_test_flat)\n",
        "\n",
        "# Reshape back\n",
        "x_train_lstm_scaled = x_train_scaled.reshape(x_train_lstm.shape)\n",
        "x_test_lstm_scaled = x_test_scaled.reshape(x_test_lstm.shape)\n",
        "\n",
        "# Step 3: Reshape Y to (N, 100, 88)\n",
        "y_train_lstm = y_train.transpose(0, 2, 1)  # (40, 100, 88)\n",
        "y_test_lstm = y_test.transpose(0, 2, 1)\n",
        "\n",
        "# -------------------------------\n",
        "# 2. Define the LSTM model\n",
        "# -------------------------------\n",
        "\n",
        "model_lstm = Sequential([\n",
        "    LSTM(128, return_sequences=True, input_shape=(100, 128)),\n",
        "    Dropout(0.3),\n",
        "    LSTM(64, return_sequences=True),\n",
        "    Dropout(0.3),\n",
        "    TimeDistributed(Dense(88, activation='sigmoid'))\n",
        "])\n",
        "\n",
        "model_lstm.compile(optimizer='adam', loss='binary_crossentropy', metrics=['accuracy'])\n",
        "\n",
        "model_lstm.summary()\n",
        "\n",
        "# -------------------------------\n",
        "# 3. Train the model\n",
        "# -------------------------------\n",
        "\n",
        "history = model_lstm.fit(\n",
        "    x_train_lstm_scaled, y_train_lstm,\n",
        "    validation_data=(x_test_lstm_scaled, y_test_lstm),\n",
        "    epochs=15,\n",
        "    batch_size=8\n",
        ")\n"
      ],
      "metadata": {
        "colab": {
          "base_uri": "https://localhost:8080/",
          "height": 865
        },
        "id": "u6LOziTpCZ5V",
        "outputId": "56af9942-c4c3-4e4e-d36c-05df1486c44d"
      },
      "id": "u6LOziTpCZ5V",
      "execution_count": 25,
      "outputs": [
        {
          "output_type": "stream",
          "name": "stderr",
          "text": [
            "/usr/local/lib/python3.10/dist-packages/keras/src/layers/rnn/rnn.py:204: UserWarning: Do not pass an `input_shape`/`input_dim` argument to a layer. When using Sequential models, prefer using an `Input(shape)` object as the first layer in the model instead.\n",
            "  super().__init__(**kwargs)\n"
          ]
        },
        {
          "output_type": "display_data",
          "data": {
            "text/plain": [
              "\u001b[1mModel: \"sequential_4\"\u001b[0m\n"
            ],
            "text/html": [
              "<pre style=\"white-space:pre;overflow-x:auto;line-height:normal;font-family:Menlo,'DejaVu Sans Mono',consolas,'Courier New',monospace\"><span style=\"font-weight: bold\">Model: \"sequential_4\"</span>\n",
              "</pre>\n"
            ]
          },
          "metadata": {}
        },
        {
          "output_type": "display_data",
          "data": {
            "text/plain": [
              "┏━━━━━━━━━━━━━━━━━━━━━━━━━━━━━━━━━━━━━━┳━━━━━━━━━━━━━━━━━━━━━━━━━━━━━┳━━━━━━━━━━━━━━━━━┓\n",
              "┃\u001b[1m \u001b[0m\u001b[1mLayer (type)                        \u001b[0m\u001b[1m \u001b[0m┃\u001b[1m \u001b[0m\u001b[1mOutput Shape               \u001b[0m\u001b[1m \u001b[0m┃\u001b[1m \u001b[0m\u001b[1m        Param #\u001b[0m\u001b[1m \u001b[0m┃\n",
              "┡━━━━━━━━━━━━━━━━━━━━━━━━━━━━━━━━━━━━━━╇━━━━━━━━━━━━━━━━━━━━━━━━━━━━━╇━━━━━━━━━━━━━━━━━┩\n",
              "│ lstm_6 (\u001b[38;5;33mLSTM\u001b[0m)                        │ (\u001b[38;5;45mNone\u001b[0m, \u001b[38;5;34m100\u001b[0m, \u001b[38;5;34m128\u001b[0m)            │         \u001b[38;5;34m131,584\u001b[0m │\n",
              "├──────────────────────────────────────┼─────────────────────────────┼─────────────────┤\n",
              "│ dropout_6 (\u001b[38;5;33mDropout\u001b[0m)                  │ (\u001b[38;5;45mNone\u001b[0m, \u001b[38;5;34m100\u001b[0m, \u001b[38;5;34m128\u001b[0m)            │               \u001b[38;5;34m0\u001b[0m │\n",
              "├──────────────────────────────────────┼─────────────────────────────┼─────────────────┤\n",
              "│ lstm_7 (\u001b[38;5;33mLSTM\u001b[0m)                        │ (\u001b[38;5;45mNone\u001b[0m, \u001b[38;5;34m100\u001b[0m, \u001b[38;5;34m64\u001b[0m)             │          \u001b[38;5;34m49,408\u001b[0m │\n",
              "├──────────────────────────────────────┼─────────────────────────────┼─────────────────┤\n",
              "│ dropout_7 (\u001b[38;5;33mDropout\u001b[0m)                  │ (\u001b[38;5;45mNone\u001b[0m, \u001b[38;5;34m100\u001b[0m, \u001b[38;5;34m64\u001b[0m)             │               \u001b[38;5;34m0\u001b[0m │\n",
              "├──────────────────────────────────────┼─────────────────────────────┼─────────────────┤\n",
              "│ time_distributed_4 (\u001b[38;5;33mTimeDistributed\u001b[0m) │ (\u001b[38;5;45mNone\u001b[0m, \u001b[38;5;34m100\u001b[0m, \u001b[38;5;34m88\u001b[0m)             │           \u001b[38;5;34m5,720\u001b[0m │\n",
              "└──────────────────────────────────────┴─────────────────────────────┴─────────────────┘\n"
            ],
            "text/html": [
              "<pre style=\"white-space:pre;overflow-x:auto;line-height:normal;font-family:Menlo,'DejaVu Sans Mono',consolas,'Courier New',monospace\">┏━━━━━━━━━━━━━━━━━━━━━━━━━━━━━━━━━━━━━━┳━━━━━━━━━━━━━━━━━━━━━━━━━━━━━┳━━━━━━━━━━━━━━━━━┓\n",
              "┃<span style=\"font-weight: bold\"> Layer (type)                         </span>┃<span style=\"font-weight: bold\"> Output Shape                </span>┃<span style=\"font-weight: bold\">         Param # </span>┃\n",
              "┡━━━━━━━━━━━━━━━━━━━━━━━━━━━━━━━━━━━━━━╇━━━━━━━━━━━━━━━━━━━━━━━━━━━━━╇━━━━━━━━━━━━━━━━━┩\n",
              "│ lstm_6 (<span style=\"color: #0087ff; text-decoration-color: #0087ff\">LSTM</span>)                        │ (<span style=\"color: #00d7ff; text-decoration-color: #00d7ff\">None</span>, <span style=\"color: #00af00; text-decoration-color: #00af00\">100</span>, <span style=\"color: #00af00; text-decoration-color: #00af00\">128</span>)            │         <span style=\"color: #00af00; text-decoration-color: #00af00\">131,584</span> │\n",
              "├──────────────────────────────────────┼─────────────────────────────┼─────────────────┤\n",
              "│ dropout_6 (<span style=\"color: #0087ff; text-decoration-color: #0087ff\">Dropout</span>)                  │ (<span style=\"color: #00d7ff; text-decoration-color: #00d7ff\">None</span>, <span style=\"color: #00af00; text-decoration-color: #00af00\">100</span>, <span style=\"color: #00af00; text-decoration-color: #00af00\">128</span>)            │               <span style=\"color: #00af00; text-decoration-color: #00af00\">0</span> │\n",
              "├──────────────────────────────────────┼─────────────────────────────┼─────────────────┤\n",
              "│ lstm_7 (<span style=\"color: #0087ff; text-decoration-color: #0087ff\">LSTM</span>)                        │ (<span style=\"color: #00d7ff; text-decoration-color: #00d7ff\">None</span>, <span style=\"color: #00af00; text-decoration-color: #00af00\">100</span>, <span style=\"color: #00af00; text-decoration-color: #00af00\">64</span>)             │          <span style=\"color: #00af00; text-decoration-color: #00af00\">49,408</span> │\n",
              "├──────────────────────────────────────┼─────────────────────────────┼─────────────────┤\n",
              "│ dropout_7 (<span style=\"color: #0087ff; text-decoration-color: #0087ff\">Dropout</span>)                  │ (<span style=\"color: #00d7ff; text-decoration-color: #00d7ff\">None</span>, <span style=\"color: #00af00; text-decoration-color: #00af00\">100</span>, <span style=\"color: #00af00; text-decoration-color: #00af00\">64</span>)             │               <span style=\"color: #00af00; text-decoration-color: #00af00\">0</span> │\n",
              "├──────────────────────────────────────┼─────────────────────────────┼─────────────────┤\n",
              "│ time_distributed_4 (<span style=\"color: #0087ff; text-decoration-color: #0087ff\">TimeDistributed</span>) │ (<span style=\"color: #00d7ff; text-decoration-color: #00d7ff\">None</span>, <span style=\"color: #00af00; text-decoration-color: #00af00\">100</span>, <span style=\"color: #00af00; text-decoration-color: #00af00\">88</span>)             │           <span style=\"color: #00af00; text-decoration-color: #00af00\">5,720</span> │\n",
              "└──────────────────────────────────────┴─────────────────────────────┴─────────────────┘\n",
              "</pre>\n"
            ]
          },
          "metadata": {}
        },
        {
          "output_type": "display_data",
          "data": {
            "text/plain": [
              "\u001b[1m Total params: \u001b[0m\u001b[38;5;34m186,712\u001b[0m (729.34 KB)\n"
            ],
            "text/html": [
              "<pre style=\"white-space:pre;overflow-x:auto;line-height:normal;font-family:Menlo,'DejaVu Sans Mono',consolas,'Courier New',monospace\"><span style=\"font-weight: bold\"> Total params: </span><span style=\"color: #00af00; text-decoration-color: #00af00\">186,712</span> (729.34 KB)\n",
              "</pre>\n"
            ]
          },
          "metadata": {}
        },
        {
          "output_type": "display_data",
          "data": {
            "text/plain": [
              "\u001b[1m Trainable params: \u001b[0m\u001b[38;5;34m186,712\u001b[0m (729.34 KB)\n"
            ],
            "text/html": [
              "<pre style=\"white-space:pre;overflow-x:auto;line-height:normal;font-family:Menlo,'DejaVu Sans Mono',consolas,'Courier New',monospace\"><span style=\"font-weight: bold\"> Trainable params: </span><span style=\"color: #00af00; text-decoration-color: #00af00\">186,712</span> (729.34 KB)\n",
              "</pre>\n"
            ]
          },
          "metadata": {}
        },
        {
          "output_type": "display_data",
          "data": {
            "text/plain": [
              "\u001b[1m Non-trainable params: \u001b[0m\u001b[38;5;34m0\u001b[0m (0.00 B)\n"
            ],
            "text/html": [
              "<pre style=\"white-space:pre;overflow-x:auto;line-height:normal;font-family:Menlo,'DejaVu Sans Mono',consolas,'Courier New',monospace\"><span style=\"font-weight: bold\"> Non-trainable params: </span><span style=\"color: #00af00; text-decoration-color: #00af00\">0</span> (0.00 B)\n",
              "</pre>\n"
            ]
          },
          "metadata": {}
        },
        {
          "output_type": "stream",
          "name": "stdout",
          "text": [
            "Epoch 1/15\n",
            "\u001b[1m5/5\u001b[0m \u001b[32m━━━━━━━━━━━━━━━━━━━━\u001b[0m\u001b[37m\u001b[0m \u001b[1m8s\u001b[0m 414ms/step - accuracy: 0.0353 - loss: 0.6894 - val_accuracy: 0.0000e+00 - val_loss: 0.6694\n",
            "Epoch 2/15\n",
            "\u001b[1m5/5\u001b[0m \u001b[32m━━━━━━━━━━━━━━━━━━━━\u001b[0m\u001b[37m\u001b[0m \u001b[1m0s\u001b[0m 95ms/step - accuracy: 0.0417 - loss: 0.6078 - val_accuracy: 0.0000e+00 - val_loss: 0.6443\n",
            "Epoch 3/15\n",
            "\u001b[1m5/5\u001b[0m \u001b[32m━━━━━━━━━━━━━━━━━━━━\u001b[0m\u001b[37m\u001b[0m \u001b[1m0s\u001b[0m 96ms/step - accuracy: 0.0439 - loss: 0.5577 - val_accuracy: 0.0000e+00 - val_loss: 0.5960\n",
            "Epoch 4/15\n",
            "\u001b[1m5/5\u001b[0m \u001b[32m━━━━━━━━━━━━━━━━━━━━\u001b[0m\u001b[37m\u001b[0m \u001b[1m0s\u001b[0m 94ms/step - accuracy: 0.0396 - loss: 0.4895 - val_accuracy: 0.0000e+00 - val_loss: 0.5344\n",
            "Epoch 5/15\n",
            "\u001b[1m5/5\u001b[0m \u001b[32m━━━━━━━━━━━━━━━━━━━━\u001b[0m\u001b[37m\u001b[0m \u001b[1m0s\u001b[0m 94ms/step - accuracy: 0.0351 - loss: 0.4614 - val_accuracy: 0.0000e+00 - val_loss: 0.4651\n",
            "Epoch 6/15\n",
            "\u001b[1m5/5\u001b[0m \u001b[32m━━━━━━━━━━━━━━━━━━━━\u001b[0m\u001b[37m\u001b[0m \u001b[1m0s\u001b[0m 95ms/step - accuracy: 0.0508 - loss: 0.3310 - val_accuracy: 0.0000e+00 - val_loss: 0.4015\n",
            "Epoch 7/15\n",
            "\u001b[1m5/5\u001b[0m \u001b[32m━━━━━━━━━━━━━━━━━━━━\u001b[0m\u001b[37m\u001b[0m \u001b[1m0s\u001b[0m 95ms/step - accuracy: 0.0647 - loss: 0.1902 - val_accuracy: 0.0000e+00 - val_loss: 0.3371\n",
            "Epoch 8/15\n",
            "\u001b[1m5/5\u001b[0m \u001b[32m━━━━━━━━━━━━━━━━━━━━\u001b[0m\u001b[37m\u001b[0m \u001b[1m0s\u001b[0m 95ms/step - accuracy: 0.0827 - loss: 0.0403 - val_accuracy: 0.0000e+00 - val_loss: 0.2731\n",
            "Epoch 9/15\n",
            "\u001b[1m5/5\u001b[0m \u001b[32m━━━━━━━━━━━━━━━━━━━━\u001b[0m\u001b[37m\u001b[0m \u001b[1m0s\u001b[0m 96ms/step - accuracy: 0.0418 - loss: 0.1205 - val_accuracy: 0.0000e+00 - val_loss: 0.2340\n",
            "Epoch 10/15\n",
            "\u001b[1m5/5\u001b[0m \u001b[32m━━━━━━━━━━━━━━━━━━━━\u001b[0m\u001b[37m\u001b[0m \u001b[1m0s\u001b[0m 94ms/step - accuracy: 0.0832 - loss: -0.1171 - val_accuracy: 0.0000e+00 - val_loss: 0.2201\n",
            "Epoch 11/15\n",
            "\u001b[1m5/5\u001b[0m \u001b[32m━━━━━━━━━━━━━━━━━━━━\u001b[0m\u001b[37m\u001b[0m \u001b[1m0s\u001b[0m 96ms/step - accuracy: 0.0691 - loss: -0.0874 - val_accuracy: 0.0000e+00 - val_loss: 0.1993\n",
            "Epoch 12/15\n",
            "\u001b[1m5/5\u001b[0m \u001b[32m━━━━━━━━━━━━━━━━━━━━\u001b[0m\u001b[37m\u001b[0m \u001b[1m0s\u001b[0m 96ms/step - accuracy: 0.0876 - loss: -0.2418 - val_accuracy: 0.0000e+00 - val_loss: 0.1840\n",
            "Epoch 13/15\n",
            "\u001b[1m5/5\u001b[0m \u001b[32m━━━━━━━━━━━━━━━━━━━━\u001b[0m\u001b[37m\u001b[0m \u001b[1m0s\u001b[0m 95ms/step - accuracy: 0.1312 - loss: -0.4834 - val_accuracy: 0.0000e+00 - val_loss: 0.1859\n",
            "Epoch 14/15\n",
            "\u001b[1m5/5\u001b[0m \u001b[32m━━━━━━━━━━━━━━━━━━━━\u001b[0m\u001b[37m\u001b[0m \u001b[1m0s\u001b[0m 95ms/step - accuracy: 0.0598 - loss: -0.1077 - val_accuracy: 0.0000e+00 - val_loss: 0.1799\n",
            "Epoch 15/15\n",
            "\u001b[1m5/5\u001b[0m \u001b[32m━━━━━━━━━━━━━━━━━━━━\u001b[0m\u001b[37m\u001b[0m \u001b[1m0s\u001b[0m 94ms/step - accuracy: 0.0937 - loss: -0.4204 - val_accuracy: 0.0000e+00 - val_loss: 0.1631\n"
          ]
        }
      ]
    },
    {
      "cell_type": "code",
      "source": [
        "from keras.callbacks import EarlyStopping\n",
        "\n",
        "# Define early stopping callback\n",
        "early_stop = EarlyStopping(\n",
        "    monitor='val_loss',       # Watch validation loss\n",
        "    patience=5,               # Stop after 5 epochs with no improvement\n",
        "    restore_best_weights=True  # Roll back to best model weights\n",
        ")\n",
        "\n",
        "# Train model with early stopping\n",
        "history = model_lstm.fit(\n",
        "    x_train_lstm_scaled, y_train_lstm,\n",
        "    validation_data=(x_test_lstm_scaled, y_test_lstm),\n",
        "    epochs=50,                # You can go higher, e.g. 50, due to early stopping\n",
        "    batch_size=8,\n",
        "    callbacks=[early_stop]\n",
        ")\n",
        "\n"
      ],
      "metadata": {
        "colab": {
          "base_uri": "https://localhost:8080/"
        },
        "id": "CfvnHSCr_T3q",
        "outputId": "9c6b59dc-c435-4588-96cc-9fb675f805ac"
      },
      "id": "CfvnHSCr_T3q",
      "execution_count": 26,
      "outputs": [
        {
          "output_type": "stream",
          "name": "stdout",
          "text": [
            "Epoch 1/50\n",
            "\u001b[1m5/5\u001b[0m \u001b[32m━━━━━━━━━━━━━━━━━━━━\u001b[0m\u001b[37m\u001b[0m \u001b[1m1s\u001b[0m 108ms/step - accuracy: 0.0866 - loss: -0.3186 - val_accuracy: 0.0000e+00 - val_loss: 0.1672\n",
            "Epoch 2/50\n",
            "\u001b[1m5/5\u001b[0m \u001b[32m━━━━━━━━━━━━━━━━━━━━\u001b[0m\u001b[37m\u001b[0m \u001b[1m0s\u001b[0m 95ms/step - accuracy: 0.0955 - loss: -0.3901 - val_accuracy: 0.0000e+00 - val_loss: 0.1490\n",
            "Epoch 3/50\n",
            "\u001b[1m5/5\u001b[0m \u001b[32m━━━━━━━━━━━━━━━━━━━━\u001b[0m\u001b[37m\u001b[0m \u001b[1m0s\u001b[0m 96ms/step - accuracy: 0.1145 - loss: -0.5034 - val_accuracy: 0.0000e+00 - val_loss: 0.1657\n",
            "Epoch 4/50\n",
            "\u001b[1m5/5\u001b[0m \u001b[32m━━━━━━━━━━━━━━━━━━━━\u001b[0m\u001b[37m\u001b[0m \u001b[1m0s\u001b[0m 96ms/step - accuracy: 0.1220 - loss: -0.7142 - val_accuracy: 0.0020 - val_loss: 0.1612\n",
            "Epoch 5/50\n",
            "\u001b[1m5/5\u001b[0m \u001b[32m━━━━━━━━━━━━━━━━━━━━\u001b[0m\u001b[37m\u001b[0m \u001b[1m0s\u001b[0m 95ms/step - accuracy: 0.1022 - loss: -0.5364 - val_accuracy: 0.0000e+00 - val_loss: 0.1341\n",
            "Epoch 6/50\n",
            "\u001b[1m5/5\u001b[0m \u001b[32m━━━━━━━━━━━━━━━━━━━━\u001b[0m\u001b[37m\u001b[0m \u001b[1m0s\u001b[0m 95ms/step - accuracy: 0.0517 - loss: -0.2665 - val_accuracy: 0.0000e+00 - val_loss: 0.1313\n",
            "Epoch 7/50\n",
            "\u001b[1m5/5\u001b[0m \u001b[32m━━━━━━━━━━━━━━━━━━━━\u001b[0m\u001b[37m\u001b[0m \u001b[1m0s\u001b[0m 92ms/step - accuracy: 0.0666 - loss: -0.3667 - val_accuracy: 0.0000e+00 - val_loss: 0.1460\n",
            "Epoch 8/50\n",
            "\u001b[1m5/5\u001b[0m \u001b[32m━━━━━━━━━━━━━━━━━━━━\u001b[0m\u001b[37m\u001b[0m \u001b[1m0s\u001b[0m 93ms/step - accuracy: 0.1104 - loss: -0.5960 - val_accuracy: 0.0000e+00 - val_loss: 0.1248\n",
            "Epoch 9/50\n",
            "\u001b[1m5/5\u001b[0m \u001b[32m━━━━━━━━━━━━━━━━━━━━\u001b[0m\u001b[37m\u001b[0m \u001b[1m0s\u001b[0m 92ms/step - accuracy: 0.0786 - loss: -0.4196 - val_accuracy: 0.0000e+00 - val_loss: 0.1348\n",
            "Epoch 10/50\n",
            "\u001b[1m5/5\u001b[0m \u001b[32m━━━━━━━━━━━━━━━━━━━━\u001b[0m\u001b[37m\u001b[0m \u001b[1m0s\u001b[0m 96ms/step - accuracy: 0.0503 - loss: -0.2426 - val_accuracy: 0.0100 - val_loss: 0.1275\n",
            "Epoch 11/50\n",
            "\u001b[1m5/5\u001b[0m \u001b[32m━━━━━━━━━━━━━━━━━━━━\u001b[0m\u001b[37m\u001b[0m \u001b[1m0s\u001b[0m 96ms/step - accuracy: 0.1118 - loss: -0.7943 - val_accuracy: 0.0000e+00 - val_loss: 0.1346\n",
            "Epoch 12/50\n",
            "\u001b[1m5/5\u001b[0m \u001b[32m━━━━━━━━━━━━━━━━━━━━\u001b[0m\u001b[37m\u001b[0m \u001b[1m0s\u001b[0m 95ms/step - accuracy: 0.1203 - loss: -0.8099 - val_accuracy: 0.0240 - val_loss: 0.1200\n",
            "Epoch 13/50\n",
            "\u001b[1m5/5\u001b[0m \u001b[32m━━━━━━━━━━━━━━━━━━━━\u001b[0m\u001b[37m\u001b[0m \u001b[1m0s\u001b[0m 93ms/step - accuracy: 0.0701 - loss: -0.3918 - val_accuracy: 0.0220 - val_loss: 0.1255\n",
            "Epoch 14/50\n",
            "\u001b[1m5/5\u001b[0m \u001b[32m━━━━━━━━━━━━━━━━━━━━\u001b[0m\u001b[37m\u001b[0m \u001b[1m0s\u001b[0m 93ms/step - accuracy: 0.0915 - loss: -0.5995 - val_accuracy: 0.0000e+00 - val_loss: 0.1304\n",
            "Epoch 15/50\n",
            "\u001b[1m5/5\u001b[0m \u001b[32m━━━━━━━━━━━━━━━━━━━━\u001b[0m\u001b[37m\u001b[0m \u001b[1m0s\u001b[0m 92ms/step - accuracy: 0.0804 - loss: -0.5728 - val_accuracy: 0.0000e+00 - val_loss: 0.1365\n",
            "Epoch 16/50\n",
            "\u001b[1m5/5\u001b[0m \u001b[32m━━━━━━━━━━━━━━━━━━━━\u001b[0m\u001b[37m\u001b[0m \u001b[1m0s\u001b[0m 93ms/step - accuracy: 0.0851 - loss: -0.5821 - val_accuracy: 0.0040 - val_loss: 0.1554\n",
            "Epoch 17/50\n",
            "\u001b[1m5/5\u001b[0m \u001b[32m━━━━━━━━━━━━━━━━━━━━\u001b[0m\u001b[37m\u001b[0m \u001b[1m0s\u001b[0m 93ms/step - accuracy: 0.0865 - loss: -0.6018 - val_accuracy: 0.0110 - val_loss: 0.1433\n"
          ]
        }
      ]
    },
    {
      "cell_type": "code",
      "source": [
        "loss, accuracy = model_lstm.evaluate(x_test_lstm_scaled, y_test_lstm)\n",
        "print(f\"Test Accuracy: {accuracy:.4f}\")\n"
      ],
      "metadata": {
        "colab": {
          "base_uri": "https://localhost:8080/"
        },
        "id": "BUkT6J-Ebyma",
        "outputId": "6c95966d-f365-4395-b275-121b1b738206"
      },
      "id": "BUkT6J-Ebyma",
      "execution_count": 27,
      "outputs": [
        {
          "output_type": "stream",
          "name": "stdout",
          "text": [
            "\u001b[1m1/1\u001b[0m \u001b[32m━━━━━━━━━━━━━━━━━━━━\u001b[0m\u001b[37m\u001b[0m \u001b[1m0s\u001b[0m 56ms/step - accuracy: 0.0240 - loss: 0.1200\n",
            "Test Accuracy: 0.0240\n"
          ]
        }
      ]
    },
    {
      "cell_type": "markdown",
      "source": [
        "### Find the F1 Score of the LSTM Model"
      ],
      "metadata": {
        "id": "SrMFg3BSwdYq"
      },
      "id": "SrMFg3BSwdYq"
    },
    {
      "cell_type": "code",
      "source": [
        "from sklearn.metrics import f1_score, precision_score, recall_score\n",
        "import numpy as np\n",
        "\n",
        "# Predict on test set\n",
        "y_pred = model_lstm.predict(x_test_lstm_scaled)\n",
        "y_pred_binary = (y_pred > 0.5).astype(int)  # use int not int32 to match sklearn's expectations\n",
        "\n",
        "# Ensure y_test is binary and int type\n",
        "y_true_binary = (y_test_lstm > 0.5).astype(int)\n",
        "\n",
        "# Flatten for sklearn\n",
        "y_pred_flat = y_pred_binary.reshape(y_pred_binary.shape[0], -1)\n",
        "y_true_flat = y_true_binary.reshape(y_true_binary.shape[0], -1)\n",
        "\n",
        "# Force data types to match\n",
        "y_pred_flat = np.array(y_pred_flat, dtype=int)\n",
        "y_true_flat = np.array(y_true_flat, dtype=int)\n",
        "\n",
        "# Final sanity check\n",
        "assert y_true_flat.shape == y_pred_flat.shape\n",
        "assert set(np.unique(y_pred_flat)).issubset({0, 1})\n",
        "assert set(np.unique(y_true_flat)).issubset({0, 1})\n",
        "\n",
        "# Compute metrics\n",
        "f1 = f1_score(y_true_flat, y_pred_flat, average='samples', zero_division=0)\n",
        "precision = precision_score(y_true_flat, y_pred_flat, average='samples', zero_division=0)\n",
        "recall = recall_score(y_true_flat, y_pred_flat, average='samples', zero_division=0)\n",
        "\n",
        "print(f\"F1 Score   : {f1:.4f}\")\n",
        "print(f\"Precision  : {precision:.4f}\")\n",
        "print(f\"Recall     : {recall:.4f}\")\n",
        "\n"
      ],
      "metadata": {
        "colab": {
          "base_uri": "https://localhost:8080/"
        },
        "id": "MIVPK0_db3MT",
        "outputId": "4029bcb0-3980-4f62-866b-6c8600e540f5"
      },
      "id": "MIVPK0_db3MT",
      "execution_count": 28,
      "outputs": [
        {
          "output_type": "stream",
          "name": "stdout",
          "text": [
            "\u001b[1m1/1\u001b[0m \u001b[32m━━━━━━━━━━━━━━━━━━━━\u001b[0m\u001b[37m\u001b[0m \u001b[1m1s\u001b[0m 1s/step\n",
            "F1 Score   : 0.0325\n",
            "Precision  : 0.0204\n",
            "Recall     : 0.1053\n"
          ]
        }
      ]
    },
    {
      "cell_type": "markdown",
      "source": [
        "### Result of Evaluation Metrics - F1 Score\n",
        "Here are the evaluation metrics for my model, which predicts MIDI notes from audio spectrograms. As you can see, the recall is relatively high (30%), meaning the model is able to detect many of the notes that should be present.\n",
        "\n",
        "However, the precision is extremely low (0.8%), meaning it's predicting a lot of extra notes that don't actually belong there. The overall F1 score is low (1.5%), which reflects this imbalance.\n",
        "\n",
        "### Conclusion:\n",
        "The model detects a lot of potential notes (high recall), but isn't precise in doing so — leading to a low F1 score. This tells us we are capturing the musical structure but need better control over noise and false activations."
      ],
      "metadata": {
        "id": "pgcWIEGehxze"
      },
      "id": "pgcWIEGehxze"
    },
    {
      "cell_type": "markdown",
      "source": [
        "### Plot the Notes Distribution from Actual & Predicted MIDI"
      ],
      "metadata": {
        "id": "4k3g9ZHpwtoO"
      },
      "id": "4k3g9ZHpwtoO"
    },
    {
      "cell_type": "code",
      "source": [
        "import matplotlib.pyplot as plt\n",
        "import numpy as np\n",
        "\n",
        "# Pick a sample index to inspect (e.g., 0)\n",
        "i = 0\n",
        "y_pred_sample = y_pred_binary[i]  # shape: (100, 88)\n",
        "y_true_sample = y_true_binary[i]  # shape: (100, 88)\n",
        "\n",
        "# Transpose to (88, 100) if needed\n",
        "if y_pred_sample.shape[1] == 88:\n",
        "    y_pred_sample = y_pred_sample.T\n",
        "    y_true_sample = y_true_sample.T\n",
        "\n",
        "# Count how often each note is active across time frames\n",
        "pred_note_counts = y_pred_sample.sum(axis=1)\n",
        "true_note_counts = y_true_sample.sum(axis=1)\n",
        "\n",
        "# Plot\n",
        "plt.figure(figsize=(12, 5))\n",
        "plt.bar(range(21, 109), true_note_counts, alpha=0.6, label='True Notes')\n",
        "plt.bar(range(21, 109), pred_note_counts, alpha=0.6, label='Predicted Notes')\n",
        "plt.xlabel(\"MIDI Note Number (21–108)\")\n",
        "plt.ylabel(\"Note Activation Count (across 100 frames)\")\n",
        "plt.title(f\"Note Usage: Predicted vs True for Test Sample #{i}\")\n",
        "plt.legend()\n",
        "plt.grid(True)\n",
        "plt.show()\n"
      ],
      "metadata": {
        "colab": {
          "base_uri": "https://localhost:8080/",
          "height": 487
        },
        "id": "24MV8cK8fcEW",
        "outputId": "b7b768cb-6d5f-457f-b88a-0c423e45b9ee"
      },
      "id": "24MV8cK8fcEW",
      "execution_count": 29,
      "outputs": [
        {
          "output_type": "display_data",
          "data": {
            "text/plain": [
              "<Figure size 1200x500 with 1 Axes>"
            ],
            "image/png": "[encoded data removed]"
          },
          "metadata": {}
        }
      ]
    },
    {
      "cell_type": "markdown",
      "source": [
        "### What This Chart Reveals\n",
        "X-axis: MIDI Note Numbers (21 - 108)\n",
        "Represents the range of piano keys, from A0 (21) to C8 (108).\n",
        "\n",
        "Y-axis: Activation Count (across 100 time frames)\n",
        "Shows how many times a given note was active across the 100 time slices for this sample.\n",
        "\n",
        "Predicted Notes (Orange Bars):\n",
        "\n",
        "A handful of notes are being activated frequently.\n",
        "\n",
        "Note number 78 (likely G#5) is active 100 out of 100 frames – this may indicate a model issue like overconfidence or mode collapse.\n",
        "\n",
        "True Notes (Blue Bars):\n",
        "\n",
        "Only a couple of true notes were active, and their counts are low.\n",
        "\n",
        "### Conclusions Regarding the Bar Chart\n",
        "This bar chart compares note usage between the predicted MIDI and the ground truth for a single 100-frame audio slice. We can see that the model predicts some notes very confidently — like MIDI 78 across all frames — while the true notes are more sparse. This suggests the model may be overfitting to specific patterns or not learning enough variability."
      ],
      "metadata": {
        "id": "MjwQo9iDhAww"
      },
      "id": "MjwQo9iDhAww"
    },
    {
      "cell_type": "code",
      "source": [],
      "metadata": {
        "id": "s_H956CsxDLB"
      },
      "id": "s_H956CsxDLB",
      "execution_count": null,
      "outputs": []
    },
    {
      "cell_type": "markdown",
      "source": [
        "### Find Optimum Threshold by Iterating\n",
        "Iterate through different thresholds (from 0.3 to 0.9) and compute the F1 Score, Precision, and Recall for each:"
      ],
      "metadata": {
        "id": "Kf5VCHWQoOQh"
      },
      "id": "Kf5VCHWQoOQh"
    },
    {
      "cell_type": "code",
      "source": [
        "import numpy as np\n",
        "from sklearn.metrics import f1_score, precision_score, recall_score\n",
        "\n",
        "# Predict on test set\n",
        "y_pred = model_lstm.predict(x_test_lstm_scaled)\n",
        "\n",
        "# Ground truth\n",
        "y_true_binary = (y_test_lstm > 0.5).astype(int)  # If already binary, this still works safely\n",
        "y_true_flat = y_true_binary.reshape(y_true_binary.shape[0], -1).astype(int)\n",
        "\n",
        "thresholds = np.arange(0.3, 1.0, 0.1)\n",
        "results = []\n",
        "\n",
        "for thresh in thresholds:\n",
        "    y_pred_binary = (y_pred > thresh).astype(int)\n",
        "    y_pred_flat = y_pred_binary.reshape(y_pred_binary.shape[0], -1).astype(int)\n",
        "\n",
        "    # Ensure shapes and values are valid\n",
        "    if y_pred_flat.shape != y_true_flat.shape:\n",
        "        print(f\"Skipping threshold {thresh}: shape mismatch\")\n",
        "        continue\n",
        "    if not (np.isin(y_pred_flat, [0, 1]).all() and np.isin(y_true_flat, [0, 1]).all()):\n",
        "        print(f\"Skipping threshold {thresh}: invalid binary values\")\n",
        "        continue\n",
        "\n",
        "    try:\n",
        "        f1 = f1_score(y_true_flat, y_pred_flat, average='samples', zero_division=0)\n",
        "        precision = precision_score(y_true_flat, y_pred_flat, average='samples', zero_division=0)\n",
        "        recall = recall_score(y_true_flat, y_pred_flat, average='samples', zero_division=0)\n",
        "\n",
        "        results.append((thresh, f1, precision, recall))\n",
        "    except ValueError as e:\n",
        "        print(f\"Error at threshold {thresh}: {e}\")\n",
        "        continue\n",
        "\n",
        "# Display results\n",
        "print(\"Threshold\\tF1 Score\\tPrecision\\tRecall\")\n",
        "for thresh, f1, prec, rec in results:\n",
        "    print(f\"{thresh:.1f}\\t\\t{f1:.4f}\\t\\t{prec:.4f}\\t\\t{rec:.4f}\")\n",
        "\n"
      ],
      "metadata": {
        "colab": {
          "base_uri": "https://localhost:8080/"
        },
        "id": "vZOObgAGifOK",
        "outputId": "acae95b3-b998-45b9-fbdb-ef90cc1906d1"
      },
      "id": "vZOObgAGifOK",
      "execution_count": 30,
      "outputs": [
        {
          "output_type": "stream",
          "name": "stdout",
          "text": [
            "\u001b[1m1/1\u001b[0m \u001b[32m━━━━━━━━━━━━━━━━━━━━\u001b[0m\u001b[37m\u001b[0m \u001b[1m0s\u001b[0m 49ms/step\n",
            "Threshold\tF1 Score\tPrecision\tRecall\n",
            "0.3\t\t0.0224\t\t0.0123\t\t0.1577\n",
            "0.4\t\t0.0288\t\t0.0172\t\t0.1114\n",
            "0.5\t\t0.0325\t\t0.0204\t\t0.1053\n",
            "0.6\t\t0.0356\t\t0.0236\t\t0.0991\n",
            "0.7\t\t0.0398\t\t0.0289\t\t0.0876\n",
            "0.8\t\t0.0510\t\t0.0510\t\t0.0510\n",
            "0.9\t\t0.0500\t\t0.0535\t\t0.0469\n"
          ]
        }
      ]
    },
    {
      "cell_type": "code",
      "source": [
        "import matplotlib.pyplot as plt\n",
        "\n",
        "thresholds = [r[0] for r in results]\n",
        "f1s = [r[1] for r in results]\n",
        "precisions = [r[2] for r in results]\n",
        "recalls = [r[3] for r in results]\n",
        "\n",
        "plt.figure(figsize=(10, 5))\n",
        "plt.plot(thresholds, f1s, label='F1 Score')\n",
        "plt.plot(thresholds, precisions, label='Precision')\n",
        "plt.plot(thresholds, recalls, label='Recall')\n",
        "plt.xlabel(\"Threshold\")\n",
        "plt.ylabel(\"Score\")\n",
        "plt.title(\"Threshold vs Evaluation Metrics\")\n",
        "plt.legend()\n",
        "plt.grid(True)\n",
        "plt.show()\n"
      ],
      "metadata": {
        "colab": {
          "base_uri": "https://localhost:8080/",
          "height": 487
        },
        "id": "Mk5ih87on4ys",
        "outputId": "0d662351-07aa-4228-bc11-fbc05e31e61f"
      },
      "id": "Mk5ih87on4ys",
      "execution_count": 31,
      "outputs": [
        {
          "output_type": "display_data",
          "data": {
            "text/plain": [
              "<Figure size 1000x500 with 1 Axes>"
            ],
            "image/png": "[encoded data removed]"
          },
          "metadata": {}
        }
      ]
    },
    {
      "cell_type": "markdown",
      "source": [
        "| Metric        | What it means                                  | Prioritize when...                                                            |\n",
        "| ------------- | ---------------------------------------------- | ----------------------------------------------------------------------------- |\n",
        "| **Precision** | Of the predicted notes, how many were correct? | I care more about **avoiding false positives** (e.g., clean transcriptions) |\n",
        "| **Recall**    | Of the actual notes, how many did we detect?   | I care more about **capturing all notes** (e.g., creative music generation) |\n",
        "| **F1 Score**  | Harmonic mean of precision and recall          | I want a **balanced trade-off** between the two                             |\n"
      ],
      "metadata": {
        "id": "gozPyQHfrTnY"
      },
      "id": "gozPyQHfrTnY"
    },
    {
      "cell_type": "markdown",
      "source": [
        "### Optimal Choice:\n",
        "If F1 score peaks at a specific threshold (e.g., 0.5 or 0.6), that is often a good operating point.\n",
        "\n",
        "If precision is very low but recall is high (as in my earlier result), it means my model predicts too many notes, many of which are incorrect."
      ],
      "metadata": {
        "id": "f-5rGvj4rlfb"
      },
      "id": "f-5rGvj4rlfb"
    },
    {
      "cell_type": "markdown",
      "source": [
        "### Best model setup (as per my latest tests):\n",
        "Model type: LSTM with two layers (128 + 64 units), dropout = 0.3\n",
        "\n",
        "Input normalization: Yes (StandardScaler applied to log-mel spectrograms)\n",
        "\n",
        "Data shape: x_train: (N, 100, 128), y_train: (N, 100, 88)\n",
        "\n",
        "Loss function: Binary Crossentropy\n",
        "\n",
        "Threshold used for prediction: 0.5 — this gave non-zero predictions and worked with your evaluation metrics"
      ],
      "metadata": {
        "id": "2kiYZA-1s9Ah"
      },
      "id": "2kiYZA-1s9Ah"
    },
    {
      "cell_type": "markdown",
      "source": [
        "## Let me try a deeper stacked, bidirectional LSTM architetcure\n",
        "Stacked layers let the network learn higher‐level temporal patterns.\n",
        "\n",
        "Bidirectional in the first layer gives the model both “past” and “future” context for each frame.\n",
        "\n",
        "BatchNormalization + Dropout between layers helps with training stability and overfitting control.\n",
        "\n"
      ],
      "metadata": {
        "id": "F56Jup3EvkHz"
      },
      "id": "F56Jup3EvkHz"
    },
    {
      "cell_type": "code",
      "source": [
        "from tensorflow.keras import Sequential\n",
        "from tensorflow.keras.layers import (\n",
        "    Input, LSTM, Bidirectional, Dropout, TimeDistributed, Dense, BatchNormalization\n",
        ")\n",
        "from tensorflow.keras.callbacks import EarlyStopping\n",
        "\n",
        "# assume x_train_lstm_scaled has shape (N, T=100, F=128)\n",
        "input_shape = (100, 128)\n",
        "\n",
        "model_deep = Sequential([\n",
        "    Input(shape=input_shape),\n",
        "\n",
        "    # First bidirectional LSTM block\n",
        "    Bidirectional(LSTM(128, return_sequences=True), merge_mode='concat'),\n",
        "    BatchNormalization(),\n",
        "    Dropout(0.3),\n",
        "\n",
        "    # Second LSTM block\n",
        "    LSTM(128, return_sequences=True),\n",
        "    BatchNormalization(),\n",
        "    Dropout(0.3),\n",
        "\n",
        "    # Third LSTM block\n",
        "    LSTM(64, return_sequences=True),\n",
        "    BatchNormalization(),\n",
        "    Dropout(0.3),\n",
        "\n",
        "    # Map each time step to 88 piano-key activations\n",
        "    TimeDistributed(Dense(88, activation='sigmoid'))\n",
        "])\n",
        "\n",
        "model_deep.compile(\n",
        "    optimizer='adam',\n",
        "    loss='binary_crossentropy',\n",
        "    metrics=['accuracy']\n",
        ")\n",
        "\n",
        "model_deep.summary()\n",
        "\n",
        "# train with early stopping\n",
        "early_stop = EarlyStopping(\n",
        "    monitor='val_loss',\n",
        "    patience=5,\n",
        "    restore_best_weights=True\n",
        ")\n",
        "\n",
        "history = model_deep.fit(\n",
        "    x_train_lstm_scaled,      # shape (N_train, 100, 128)\n",
        "    y_train_lstm,             # shape (N_train, 100, 88)\n",
        "    validation_data=(x_test_lstm_scaled, y_test_lstm),\n",
        "    epochs=30,\n",
        "    batch_size=8,\n",
        "    callbacks=[early_stop],\n",
        "    verbose=2\n",
        ")\n",
        "\n",
        "# evaluate\n",
        "loss, acc = model_deep.evaluate(x_test_lstm_scaled, y_test_lstm, verbose=0)\n",
        "print(f\"Deep LSTM Test Accuracy: {acc:.4f}\")\n"
      ],
      "metadata": {
        "colab": {
          "base_uri": "https://localhost:8080/",
          "height": 1000
        },
        "id": "KwChvordrC0D",
        "outputId": "42d598a6-2ba6-4a70-d78e-c4fa2a9a7ebd"
      },
      "id": "KwChvordrC0D",
      "execution_count": 32,
      "outputs": [
        {
          "output_type": "display_data",
          "data": {
            "text/plain": [
              "\u001b[1mModel: \"sequential_5\"\u001b[0m\n"
            ],
            "text/html": [
              "<pre style=\"white-space:pre;overflow-x:auto;line-height:normal;font-family:Menlo,'DejaVu Sans Mono',consolas,'Courier New',monospace\"><span style=\"font-weight: bold\">Model: \"sequential_5\"</span>\n",
              "</pre>\n"
            ]
          },
          "metadata": {}
        },
        {
          "output_type": "display_data",
          "data": {
            "text/plain": [
              "┏━━━━━━━━━━━━━━━━━━━━━━━━━━━━━━━━━━━━━━┳━━━━━━━━━━━━━━━━━━━━━━━━━━━━━┳━━━━━━━━━━━━━━━━━┓\n",
              "┃\u001b[1m \u001b[0m\u001b[1mLayer (type)                        \u001b[0m\u001b[1m \u001b[0m┃\u001b[1m \u001b[0m\u001b[1mOutput Shape               \u001b[0m\u001b[1m \u001b[0m┃\u001b[1m \u001b[0m\u001b[1m        Param #\u001b[0m\u001b[1m \u001b[0m┃\n",
              "┡━━━━━━━━━━━━━━━━━━━━━━━━━━━━━━━━━━━━━━╇━━━━━━━━━━━━━━━━━━━━━━━━━━━━━╇━━━━━━━━━━━━━━━━━┩\n",
              "│ bidirectional (\u001b[38;5;33mBidirectional\u001b[0m)        │ (\u001b[38;5;45mNone\u001b[0m, \u001b[38;5;34m100\u001b[0m, \u001b[38;5;34m256\u001b[0m)            │         \u001b[38;5;34m263,168\u001b[0m │\n",
              "├──────────────────────────────────────┼─────────────────────────────┼─────────────────┤\n",
              "│ batch_normalization                  │ (\u001b[38;5;45mNone\u001b[0m, \u001b[38;5;34m100\u001b[0m, \u001b[38;5;34m256\u001b[0m)            │           \u001b[38;5;34m1,024\u001b[0m │\n",
              "│ (\u001b[38;5;33mBatchNormalization\u001b[0m)                 │                             │                 │\n",
              "├──────────────────────────────────────┼─────────────────────────────┼─────────────────┤\n",
              "│ dropout_8 (\u001b[38;5;33mDropout\u001b[0m)                  │ (\u001b[38;5;45mNone\u001b[0m, \u001b[38;5;34m100\u001b[0m, \u001b[38;5;34m256\u001b[0m)            │               \u001b[38;5;34m0\u001b[0m │\n",
              "├──────────────────────────────────────┼─────────────────────────────┼─────────────────┤\n",
              "│ lstm_9 (\u001b[38;5;33mLSTM\u001b[0m)                        │ (\u001b[38;5;45mNone\u001b[0m, \u001b[38;5;34m100\u001b[0m, \u001b[38;5;34m128\u001b[0m)            │         \u001b[38;5;34m197,120\u001b[0m │\n",
              "├──────────────────────────────────────┼─────────────────────────────┼─────────────────┤\n",
              "│ batch_normalization_1                │ (\u001b[38;5;45mNone\u001b[0m, \u001b[38;5;34m100\u001b[0m, \u001b[38;5;34m128\u001b[0m)            │             \u001b[38;5;34m512\u001b[0m │\n",
              "│ (\u001b[38;5;33mBatchNormalization\u001b[0m)                 │                             │                 │\n",
              "├──────────────────────────────────────┼─────────────────────────────┼─────────────────┤\n",
              "│ dropout_9 (\u001b[38;5;33mDropout\u001b[0m)                  │ (\u001b[38;5;45mNone\u001b[0m, \u001b[38;5;34m100\u001b[0m, \u001b[38;5;34m128\u001b[0m)            │               \u001b[38;5;34m0\u001b[0m │\n",
              "├──────────────────────────────────────┼─────────────────────────────┼─────────────────┤\n",
              "│ lstm_10 (\u001b[38;5;33mLSTM\u001b[0m)                       │ (\u001b[38;5;45mNone\u001b[0m, \u001b[38;5;34m100\u001b[0m, \u001b[38;5;34m64\u001b[0m)             │          \u001b[38;5;34m49,408\u001b[0m │\n",
              "├──────────────────────────────────────┼─────────────────────────────┼─────────────────┤\n",
              "│ batch_normalization_2                │ (\u001b[38;5;45mNone\u001b[0m, \u001b[38;5;34m100\u001b[0m, \u001b[38;5;34m64\u001b[0m)             │             \u001b[38;5;34m256\u001b[0m │\n",
              "│ (\u001b[38;5;33mBatchNormalization\u001b[0m)                 │                             │                 │\n",
              "├──────────────────────────────────────┼─────────────────────────────┼─────────────────┤\n",
              "│ dropout_10 (\u001b[38;5;33mDropout\u001b[0m)                 │ (\u001b[38;5;45mNone\u001b[0m, \u001b[38;5;34m100\u001b[0m, \u001b[38;5;34m64\u001b[0m)             │               \u001b[38;5;34m0\u001b[0m │\n",
              "├──────────────────────────────────────┼─────────────────────────────┼─────────────────┤\n",
              "│ time_distributed_5 (\u001b[38;5;33mTimeDistributed\u001b[0m) │ (\u001b[38;5;45mNone\u001b[0m, \u001b[38;5;34m100\u001b[0m, \u001b[38;5;34m88\u001b[0m)             │           \u001b[38;5;34m5,720\u001b[0m │\n",
              "└──────────────────────────────────────┴─────────────────────────────┴─────────────────┘\n"
            ],
            "text/html": [
              "<pre style=\"white-space:pre;overflow-x:auto;line-height:normal;font-family:Menlo,'DejaVu Sans Mono',consolas,'Courier New',monospace\">┏━━━━━━━━━━━━━━━━━━━━━━━━━━━━━━━━━━━━━━┳━━━━━━━━━━━━━━━━━━━━━━━━━━━━━┳━━━━━━━━━━━━━━━━━┓\n",
              "┃<span style=\"font-weight: bold\"> Layer (type)                         </span>┃<span style=\"font-weight: bold\"> Output Shape                </span>┃<span style=\"font-weight: bold\">         Param # </span>┃\n",
              "┡━━━━━━━━━━━━━━━━━━━━━━━━━━━━━━━━━━━━━━╇━━━━━━━━━━━━━━━━━━━━━━━━━━━━━╇━━━━━━━━━━━━━━━━━┩\n",
              "│ bidirectional (<span style=\"color: #0087ff; text-decoration-color: #0087ff\">Bidirectional</span>)        │ (<span style=\"color: #00d7ff; text-decoration-color: #00d7ff\">None</span>, <span style=\"color: #00af00; text-decoration-color: #00af00\">100</span>, <span style=\"color: #00af00; text-decoration-color: #00af00\">256</span>)            │         <span style=\"color: #00af00; text-decoration-color: #00af00\">263,168</span> │\n",
              "├──────────────────────────────────────┼─────────────────────────────┼─────────────────┤\n",
              "│ batch_normalization                  │ (<span style=\"color: #00d7ff; text-decoration-color: #00d7ff\">None</span>, <span style=\"color: #00af00; text-decoration-color: #00af00\">100</span>, <span style=\"color: #00af00; text-decoration-color: #00af00\">256</span>)            │           <span style=\"color: #00af00; text-decoration-color: #00af00\">1,024</span> │\n",
              "│ (<span style=\"color: #0087ff; text-decoration-color: #0087ff\">BatchNormalization</span>)                 │                             │                 │\n",
              "├──────────────────────────────────────┼─────────────────────────────┼─────────────────┤\n",
              "│ dropout_8 (<span style=\"color: #0087ff; text-decoration-color: #0087ff\">Dropout</span>)                  │ (<span style=\"color: #00d7ff; text-decoration-color: #00d7ff\">None</span>, <span style=\"color: #00af00; text-decoration-color: #00af00\">100</span>, <span style=\"color: #00af00; text-decoration-color: #00af00\">256</span>)            │               <span style=\"color: #00af00; text-decoration-color: #00af00\">0</span> │\n",
              "├──────────────────────────────────────┼─────────────────────────────┼─────────────────┤\n",
              "│ lstm_9 (<span style=\"color: #0087ff; text-decoration-color: #0087ff\">LSTM</span>)                        │ (<span style=\"color: #00d7ff; text-decoration-color: #00d7ff\">None</span>, <span style=\"color: #00af00; text-decoration-color: #00af00\">100</span>, <span style=\"color: #00af00; text-decoration-color: #00af00\">128</span>)            │         <span style=\"color: #00af00; text-decoration-color: #00af00\">197,120</span> │\n",
              "├──────────────────────────────────────┼─────────────────────────────┼─────────────────┤\n",
              "│ batch_normalization_1                │ (<span style=\"color: #00d7ff; text-decoration-color: #00d7ff\">None</span>, <span style=\"color: #00af00; text-decoration-color: #00af00\">100</span>, <span style=\"color: #00af00; text-decoration-color: #00af00\">128</span>)            │             <span style=\"color: #00af00; text-decoration-color: #00af00\">512</span> │\n",
              "│ (<span style=\"color: #0087ff; text-decoration-color: #0087ff\">BatchNormalization</span>)                 │                             │                 │\n",
              "├──────────────────────────────────────┼─────────────────────────────┼─────────────────┤\n",
              "│ dropout_9 (<span style=\"color: #0087ff; text-decoration-color: #0087ff\">Dropout</span>)                  │ (<span style=\"color: #00d7ff; text-decoration-color: #00d7ff\">None</span>, <span style=\"color: #00af00; text-decoration-color: #00af00\">100</span>, <span style=\"color: #00af00; text-decoration-color: #00af00\">128</span>)            │               <span style=\"color: #00af00; text-decoration-color: #00af00\">0</span> │\n",
              "├──────────────────────────────────────┼─────────────────────────────┼─────────────────┤\n",
              "│ lstm_10 (<span style=\"color: #0087ff; text-decoration-color: #0087ff\">LSTM</span>)                       │ (<span style=\"color: #00d7ff; text-decoration-color: #00d7ff\">None</span>, <span style=\"color: #00af00; text-decoration-color: #00af00\">100</span>, <span style=\"color: #00af00; text-decoration-color: #00af00\">64</span>)             │          <span style=\"color: #00af00; text-decoration-color: #00af00\">49,408</span> │\n",
              "├──────────────────────────────────────┼─────────────────────────────┼─────────────────┤\n",
              "│ batch_normalization_2                │ (<span style=\"color: #00d7ff; text-decoration-color: #00d7ff\">None</span>, <span style=\"color: #00af00; text-decoration-color: #00af00\">100</span>, <span style=\"color: #00af00; text-decoration-color: #00af00\">64</span>)             │             <span style=\"color: #00af00; text-decoration-color: #00af00\">256</span> │\n",
              "│ (<span style=\"color: #0087ff; text-decoration-color: #0087ff\">BatchNormalization</span>)                 │                             │                 │\n",
              "├──────────────────────────────────────┼─────────────────────────────┼─────────────────┤\n",
              "│ dropout_10 (<span style=\"color: #0087ff; text-decoration-color: #0087ff\">Dropout</span>)                 │ (<span style=\"color: #00d7ff; text-decoration-color: #00d7ff\">None</span>, <span style=\"color: #00af00; text-decoration-color: #00af00\">100</span>, <span style=\"color: #00af00; text-decoration-color: #00af00\">64</span>)             │               <span style=\"color: #00af00; text-decoration-color: #00af00\">0</span> │\n",
              "├──────────────────────────────────────┼─────────────────────────────┼─────────────────┤\n",
              "│ time_distributed_5 (<span style=\"color: #0087ff; text-decoration-color: #0087ff\">TimeDistributed</span>) │ (<span style=\"color: #00d7ff; text-decoration-color: #00d7ff\">None</span>, <span style=\"color: #00af00; text-decoration-color: #00af00\">100</span>, <span style=\"color: #00af00; text-decoration-color: #00af00\">88</span>)             │           <span style=\"color: #00af00; text-decoration-color: #00af00\">5,720</span> │\n",
              "└──────────────────────────────────────┴─────────────────────────────┴─────────────────┘\n",
              "</pre>\n"
            ]
          },
          "metadata": {}
        },
        {
          "output_type": "display_data",
          "data": {
            "text/plain": [
              "\u001b[1m Total params: \u001b[0m\u001b[38;5;34m517,208\u001b[0m (1.97 MB)\n"
            ],
            "text/html": [
              "<pre style=\"white-space:pre;overflow-x:auto;line-height:normal;font-family:Menlo,'DejaVu Sans Mono',consolas,'Courier New',monospace\"><span style=\"font-weight: bold\"> Total params: </span><span style=\"color: #00af00; text-decoration-color: #00af00\">517,208</span> (1.97 MB)\n",
              "</pre>\n"
            ]
          },
          "metadata": {}
        },
        {
          "output_type": "display_data",
          "data": {
            "text/plain": [
              "\u001b[1m Trainable params: \u001b[0m\u001b[38;5;34m516,312\u001b[0m (1.97 MB)\n"
            ],
            "text/html": [
              "<pre style=\"white-space:pre;overflow-x:auto;line-height:normal;font-family:Menlo,'DejaVu Sans Mono',consolas,'Courier New',monospace\"><span style=\"font-weight: bold\"> Trainable params: </span><span style=\"color: #00af00; text-decoration-color: #00af00\">516,312</span> (1.97 MB)\n",
              "</pre>\n"
            ]
          },
          "metadata": {}
        },
        {
          "output_type": "display_data",
          "data": {
            "text/plain": [
              "\u001b[1m Non-trainable params: \u001b[0m\u001b[38;5;34m896\u001b[0m (3.50 KB)\n"
            ],
            "text/html": [
              "<pre style=\"white-space:pre;overflow-x:auto;line-height:normal;font-family:Menlo,'DejaVu Sans Mono',consolas,'Courier New',monospace\"><span style=\"font-weight: bold\"> Non-trainable params: </span><span style=\"color: #00af00; text-decoration-color: #00af00\">896</span> (3.50 KB)\n",
              "</pre>\n"
            ]
          },
          "metadata": {}
        },
        {
          "output_type": "stream",
          "name": "stdout",
          "text": [
            "Epoch 1/30\n",
            "5/5 - 13s - 3s/step - accuracy: 0.0122 - loss: 0.8157 - val_accuracy: 0.0000e+00 - val_loss: 0.6852\n",
            "Epoch 2/30\n",
            "5/5 - 1s - 157ms/step - accuracy: 0.0605 - loss: 0.5601 - val_accuracy: 0.0000e+00 - val_loss: 0.6785\n",
            "Epoch 3/30\n",
            "5/5 - 1s - 154ms/step - accuracy: 0.0785 - loss: 0.4339 - val_accuracy: 0.0000e+00 - val_loss: 0.6736\n",
            "Epoch 4/30\n",
            "5/5 - 1s - 154ms/step - accuracy: 0.0880 - loss: 0.3143 - val_accuracy: 0.0000e+00 - val_loss: 0.6705\n",
            "Epoch 5/30\n",
            "5/5 - 1s - 251ms/step - accuracy: 0.0897 - loss: 0.1894 - val_accuracy: 0.0030 - val_loss: 0.6667\n",
            "Epoch 6/30\n",
            "5/5 - 1s - 155ms/step - accuracy: 0.0925 - loss: 0.0752 - val_accuracy: 0.0060 - val_loss: 0.6623\n",
            "Epoch 7/30\n",
            "5/5 - 1s - 154ms/step - accuracy: 0.0912 - loss: 0.0044 - val_accuracy: 0.0070 - val_loss: 0.6573\n",
            "Epoch 8/30\n",
            "5/5 - 1s - 153ms/step - accuracy: 0.0910 - loss: -8.4824e-02 - val_accuracy: 0.0070 - val_loss: 0.6507\n",
            "Epoch 9/30\n",
            "5/5 - 1s - 155ms/step - accuracy: 0.0978 - loss: -1.8746e-01 - val_accuracy: 0.0210 - val_loss: 0.6436\n",
            "Epoch 10/30\n",
            "5/5 - 1s - 151ms/step - accuracy: 0.1018 - loss: -1.9792e-01 - val_accuracy: 0.0230 - val_loss: 0.6372\n",
            "Epoch 11/30\n",
            "5/5 - 1s - 154ms/step - accuracy: 0.1018 - loss: -3.3774e-01 - val_accuracy: 0.0230 - val_loss: 0.6304\n",
            "Epoch 12/30\n",
            "5/5 - 1s - 155ms/step - accuracy: 0.1035 - loss: -3.5580e-01 - val_accuracy: 0.0450 - val_loss: 0.6250\n",
            "Epoch 13/30\n",
            "5/5 - 1s - 154ms/step - accuracy: 0.1058 - loss: -4.6304e-01 - val_accuracy: 0.0180 - val_loss: 0.6088\n",
            "Epoch 14/30\n",
            "5/5 - 1s - 154ms/step - accuracy: 0.1028 - loss: -4.5426e-01 - val_accuracy: 0.0320 - val_loss: 0.5941\n",
            "Epoch 15/30\n",
            "5/5 - 1s - 153ms/step - accuracy: 0.1097 - loss: -5.4704e-01 - val_accuracy: 0.0320 - val_loss: 0.5908\n",
            "Epoch 16/30\n",
            "5/5 - 1s - 154ms/step - accuracy: 0.1038 - loss: -5.5851e-01 - val_accuracy: 0.0330 - val_loss: 0.5984\n",
            "Epoch 17/30\n",
            "5/5 - 1s - 155ms/step - accuracy: 0.1015 - loss: -4.0404e-01 - val_accuracy: 0.0360 - val_loss: 0.5802\n",
            "Epoch 18/30\n",
            "5/5 - 1s - 153ms/step - accuracy: 0.1000 - loss: -5.7640e-01 - val_accuracy: 0.0550 - val_loss: 0.5954\n",
            "Epoch 19/30\n",
            "5/5 - 1s - 153ms/step - accuracy: 0.1033 - loss: -6.0368e-01 - val_accuracy: 0.0220 - val_loss: 0.5910\n",
            "Epoch 20/30\n",
            "5/5 - 1s - 253ms/step - accuracy: 0.1025 - loss: -6.2855e-01 - val_accuracy: 0.0030 - val_loss: 0.5820\n",
            "Epoch 21/30\n",
            "5/5 - 1s - 155ms/step - accuracy: 0.1038 - loss: -6.8979e-01 - val_accuracy: 0.0030 - val_loss: 0.5758\n",
            "Epoch 22/30\n",
            "5/5 - 1s - 154ms/step - accuracy: 0.1047 - loss: -6.9607e-01 - val_accuracy: 0.0000e+00 - val_loss: 0.5579\n",
            "Epoch 23/30\n",
            "5/5 - 1s - 254ms/step - accuracy: 0.1020 - loss: -7.4241e-01 - val_accuracy: 0.0030 - val_loss: 0.5570\n",
            "Epoch 24/30\n",
            "5/5 - 1s - 251ms/step - accuracy: 0.1010 - loss: -7.6753e-01 - val_accuracy: 0.0070 - val_loss: 0.5569\n",
            "Epoch 25/30\n",
            "5/5 - 1s - 154ms/step - accuracy: 0.0980 - loss: -7.6144e-01 - val_accuracy: 1.0000e-03 - val_loss: 0.5424\n",
            "Epoch 26/30\n",
            "5/5 - 1s - 152ms/step - accuracy: 0.1045 - loss: -8.0859e-01 - val_accuracy: 0.0000e+00 - val_loss: 0.5303\n",
            "Epoch 27/30\n",
            "5/5 - 1s - 153ms/step - accuracy: 0.1015 - loss: -8.1170e-01 - val_accuracy: 0.0000e+00 - val_loss: 0.5354\n",
            "Epoch 28/30\n",
            "5/5 - 1s - 153ms/step - accuracy: 0.0993 - loss: -8.5042e-01 - val_accuracy: 0.0000e+00 - val_loss: 0.5246\n",
            "Epoch 29/30\n",
            "5/5 - 1s - 157ms/step - accuracy: 0.0978 - loss: -8.4399e-01 - val_accuracy: 0.0000e+00 - val_loss: 0.5118\n",
            "Epoch 30/30\n",
            "5/5 - 1s - 155ms/step - accuracy: 0.1025 - loss: -8.8578e-01 - val_accuracy: 0.0000e+00 - val_loss: 0.4869\n",
            "Deep LSTM Test Accuracy: 0.0000\n"
          ]
        }
      ]
    },
    {
      "cell_type": "code",
      "source": [
        "import numpy as np\n",
        "from sklearn.metrics import f1_score, precision_score, recall_score\n",
        "\n",
        "# 1) Get raw predictions from your LSTM model (shape: [N, 88, 100])\n",
        "y_pred_raw = model_lstm.predict(x_test_lstm_scaled)\n",
        "\n",
        "# 2) Threshold into binary piano-roll (0/1)\n",
        "threshold = 0.5\n",
        "y_pred_bin = (y_pred_raw > threshold).astype(int)      # shape (N, 88, 100)\n",
        "y_true_bin = (y_test_lstm      > 0.5).astype(int)      # ensure true is 0/1, shape (N, 88, 100)\n",
        "\n",
        "# 3) Flatten time and note dimensions so sklearn sees 2D arrays: (N, 88*100)\n",
        "N = y_true_bin.shape[0]\n",
        "y_pred_flat = y_pred_bin.reshape(N, -1)\n",
        "y_true_flat = y_true_bin.reshape(N, -1)\n",
        "\n",
        "# Sanity check\n",
        "assert y_pred_flat.shape == y_true_flat.shape, \"Mismatch in shape!\"\n",
        "assert set(np.unique(y_pred_flat)).issubset({0,1})\n",
        "assert set(np.unique(y_true_flat)).issubset({0,1})\n",
        "\n",
        "# 4) Compute metrics\n",
        "f1        = f1_score(y_true_flat, y_pred_flat, average='samples', zero_division=0)\n",
        "precision = precision_score(y_true_flat, y_pred_flat, average='samples', zero_division=0)\n",
        "recall    = recall_score(y_true_flat, y_pred_flat, average='samples', zero_division=0)\n",
        "\n",
        "print(f\"Sample-wise F1 Score : {f1:.4f}\")\n",
        "print(f\"Sample-wise Precision: {precision:.4f}\")\n",
        "print(f\"Sample-wise Recall   : {recall:.4f}\")\n",
        "\n"
      ],
      "metadata": {
        "colab": {
          "base_uri": "https://localhost:8080/"
        },
        "id": "e1-9g2LzsuTz",
        "outputId": "881b6b31-fa9c-46f5-d9be-a14ec2f079e0"
      },
      "id": "e1-9g2LzsuTz",
      "execution_count": 33,
      "outputs": [
        {
          "output_type": "stream",
          "name": "stdout",
          "text": [
            "\u001b[1m1/1\u001b[0m \u001b[32m━━━━━━━━━━━━━━━━━━━━\u001b[0m\u001b[37m\u001b[0m \u001b[1m0s\u001b[0m 49ms/step\n",
            "Sample-wise F1 Score : 0.0325\n",
            "Sample-wise Precision: 0.0204\n",
            "Sample-wise Recall   : 0.1053\n"
          ]
        }
      ]
    },
    {
      "cell_type": "markdown",
      "source": [
        "### F1 Score Analysis from the Deeper Bidirectional LSTM\n",
        "F1 score is worse than simpler LSTM model.\n",
        "It can be normal for a “bigger” network to sometimes do worse than a simpler one.\n",
        "more layers => more parameters => harder to train well, especially on a small dataset."
      ],
      "metadata": {
        "id": "-c6SWfi1xlj5"
      },
      "id": "-c6SWfi1xlj5"
    },
    {
      "cell_type": "markdown",
      "source": [
        "## Lets pick the simpler LSTM architecture and do Hyperparameter Tuning\n",
        "\n",
        "1) LSTM architecture\n",
        "Number of recurrent layers: 1 vs 2 vs 3 LSTM layers\n",
        "\n",
        "Hidden units per layer: e.g. 32, 64, 128, 256\n",
        "\n",
        "Bidirectional vs unidirectional: do you get better temporal context if you wrap an LSTM in Bidirectional(...)?\n",
        "\n",
        "Whether to stack (e.g. 128→64 vs 128→128)\n",
        "\n",
        "2) Regularization\n",
        "Dropout rate (after each LSTM): 0.1 - 0.5\n",
        "\n",
        "Recurrent dropout (inside the LSTM): 0.0 - 0.3\n",
        "\n",
        "3) Optimization\n",
        "Learning rate: 1e-2, 1e-3, 1e-4\n",
        "\n",
        "Optimizer: Adam, RMSprop, SGD\n",
        "\n",
        "Batch size: 4, 8, 16, 32\n",
        "\n",
        "4) Sequence/window length\n",
        "Sequence length (window_frames): I am currently slicing into 100-frame chunks (2.3 s). What if I try 50 frames (1.1 s) or 200 frames (4.5 s)?\n",
        "Window size (frames per slice): 50, 100, 200\n",
        "\n",
        "Hop/overlap: non-overlapping vs 50 % overlap vs full sliding windows—more data but more redundancy.\n",
        "Hop/stride between windows if I overlap\n",
        "\n",
        "5) Threshold for binarization\n",
        "Decision threshold: Instead of hard-coding 0.5, sweep threshold: 0.3, 0.5, 0.7\n",
        "\n",
        "6) Loss\n",
        "Loss weighting: if “note on” is rare, weight positives higher in my binary_crossentropy or use a custom weighted loss\n",
        "\n",
        "### In summary, I can tune:\n",
        "Hyper-Parameter\tTypical Values\n",
        "\n",
        "LSTM units\t32, 64, 128, 256\n",
        "\n",
        "Layers\t1 – 3\n",
        "\n",
        "Dropout\t0.1 – 0.5\n",
        "\n",
        "Recurrent dropout\t0.0 – 0.3\n",
        "\n",
        "Learning rate\t1e-2, 1e-3, 1e-4\n",
        "\n",
        "Optimizer\tAdam, RMSprop, SGD\n",
        "\n",
        "Batch size\t4, 8, 16, 32\n",
        "\n",
        "Window size\t50, 100, 200 frames\n",
        "\n",
        "Threshold\t0.3, 0.5, 0.7 for binarization\n"
      ],
      "metadata": {
        "id": "tCbAhG8x1oEy"
      },
      "id": "tCbAhG8x1oEy"
    },
    {
      "cell_type": "code",
      "source": [
        "import kerastuner as kt\n",
        "from tensorflow.keras import Sequential\n",
        "from tensorflow.keras.layers import LSTM, Dropout, TimeDistributed, Dense\n",
        "\n",
        "def build_lstm_model(hp):\n",
        "    model = Sequential()\n",
        "    # First LSTM block\n",
        "    model.add(LSTM(\n",
        "        units=hp.Choice(\"units1\", [64, 128, 256]),\n",
        "        return_sequences=True,\n",
        "        input_shape=(hp.Choice(\"window\", [50, 100, 200]), 128),\n",
        "        recurrent_dropout=hp.Float(\"recur_drop1\", 0.0, 0.3, step=0.1)\n",
        "    ))\n",
        "    model.add(Dropout(hp.Float(\"drop1\", 0.1, 0.5, step=0.1)))\n",
        "    # Optional second block\n",
        "    if hp.Boolean(\"second_layer\"):\n",
        "        model.add(LSTM(\n",
        "            units=hp.Choice(\"units2\", [32, 64, 128]),\n",
        "            return_sequences=True,\n",
        "            recurrent_dropout=hp.Float(\"recur_drop2\", 0.0, 0.3, step=0.1)\n",
        "        ))\n",
        "        model.add(Dropout(hp.Float(\"drop2\", 0.1, 0.5, step=0.1)))\n",
        "    # Output\n",
        "    model.add(TimeDistributed(Dense(88, activation=\"sigmoid\")))\n",
        "    model.compile(\n",
        "        optimizer=hp.Choice(\"optimizer\", [\"adam\",\"rmsprop\"]),\n",
        "        loss=\"binary_crossentropy\",\n",
        "        metrics=[\"accuracy\"]\n",
        "    )\n",
        "    return model\n",
        "\n",
        "tuner = kt.RandomSearch(\n",
        "    build_lstm_model,\n",
        "    objective=\"val_loss\",\n",
        "    max_trials=20,\n",
        "    executions_per_trial=1,\n",
        "    directory=\"lstm_tuning\",\n",
        "    project_name=\"audio2midi\"\n",
        ")\n",
        "\n",
        "tuner.search(\n",
        "    x_train_lstm_scaled,\n",
        "    y_train_lstm,\n",
        "    validation_data=(x_test_lstm_scaled, y_test_lstm),\n",
        "    epochs=20,\n",
        "    batch_size=8 # picked randomly\n",
        ")\n"
      ],
      "metadata": {
        "colab": {
          "base_uri": "https://localhost:8080/"
        },
        "id": "1NMX28_mxlTP",
        "outputId": "8b9e61a6-58cf-44ee-e0f4-53ff5e9e0f25"
      },
      "id": "1NMX28_mxlTP",
      "execution_count": 35,
      "outputs": [
        {
          "output_type": "stream",
          "name": "stdout",
          "text": [
            "Trial 20 Complete [00h 00m 25s]\n",
            "val_loss: 0.06006984785199165\n",
            "\n",
            "Best val_loss So Far: 0.045750197023153305\n",
            "Total elapsed time: 00h 07m 15s\n"
          ]
        }
      ]
    }
  ],
  "metadata": {
    "kernelspec": {
      "display_name": "Python 3",
      "language": "python",
      "name": "python3"
    },
    "language_info": {
      "codemirror_mode": {
        "name": "ipython",
        "version": 3
      },
      "file_extension": ".py",
      "mimetype": "text/x-python",
      "name": "python",
      "nbconvert_exporter": "python",
      "pygments_lexer": "ipython3",
      "version": "3.10.10"
    },
    "colab": {
      "provenance": [],
      "name": "music_transcribe_using_lstm"
    }
  },
  "nbformat": 4,
  "nbformat_minor": 5
}