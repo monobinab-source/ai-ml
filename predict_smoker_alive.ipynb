{
  "nbformat": 4,
  "nbformat_minor": 0,
  "metadata": {
    "colab": {
      "provenance": [],
      "authorship_tag": "ABX9TyPve1nX6CKNc9EY1cOrVmFe",
      "include_colab_link": true
    },
    "kernelspec": {
      "name": "python3",
      "display_name": "Python 3"
    },
    "language_info": {
      "name": "python"
    }
  },
  "cells": [
    {
      "cell_type": "markdown",
      "metadata": {
        "id": "view-in-github",
        "colab_type": "text"
      },
      "source": [
        "<a href=\"https://colab.research.google.com/github/monobinab-source/ai-ml/blob/main/predict_smoker_alive.ipynb\" target=\"_parent\"><img src=\"https://colab.research.google.com/assets/colab-badge.svg\" alt=\"Open In Colab\"/></a>"
      ]
    },
    {
      "cell_type": "code",
      "execution_count": null,
      "metadata": {
        "id": "MV2t2_OlWVBo"
      },
      "outputs": [],
      "source": [
        "from sklearn.model_selection import train_test_split\n",
        "from sklearn.tree import DecisionTreeClassifier\n",
        "from sklearn.model_selection import GridSearchCV\n",
        "import pandas as pd\n",
        "from sklearn.metrics import accuracy_score"
      ]
    },
    {
      "cell_type": "markdown",
      "source": [
        "## Load Data File"
      ],
      "metadata": {
        "id": "pgE4POoKehhb"
      }
    },
    {
      "cell_type": "code",
      "source": [
        "df = pd.read_csv('sample_data/Whickham.txt')"
      ],
      "metadata": {
        "id": "GEIop88aaoiY"
      },
      "execution_count": null,
      "outputs": []
    },
    {
      "cell_type": "markdown",
      "source": [
        "## Data Cleansing"
      ],
      "metadata": {
        "id": "7STkGDN7eoHx"
      }
    },
    {
      "cell_type": "code",
      "source": [
        "df_encoded = pd.get_dummies(df, drop_first=True) # to convert all the categorical variables into Boolean values. This creates a new colummn as smoker_Yes."
      ],
      "metadata": {
        "id": "Wz6MFcLbfUyq"
      },
      "execution_count": null,
      "outputs": []
    },
    {
      "cell_type": "markdown",
      "source": [
        "## Break dataset into Train and Test"
      ],
      "metadata": {
        "id": "S7H6NGt2em_T"
      }
    },
    {
      "cell_type": "code",
      "source": [
        "X_train, X_test, y_train, y_test = train_test_split(df_encoded[[\"smoker_Yes\", \"age\"]], df[\"outcome\"], test_size=0.3, random_state=42)"
      ],
      "metadata": {
        "id": "h4rPbBE6q3Oq"
      },
      "execution_count": null,
      "outputs": []
    },
    {
      "cell_type": "markdown",
      "source": [
        "## Initialize Decision Tree Model and use it"
      ],
      "metadata": {
        "id": "EuSp8-cue0RY"
      }
    },
    {
      "cell_type": "code",
      "source": [
        "decision_tree_model = DecisionTreeClassifier(criterion='entropy')"
      ],
      "metadata": {
        "id": "p5MgjPiDa7DI"
      },
      "execution_count": null,
      "outputs": []
    },
    {
      "cell_type": "code",
      "source": [
        "df_encoded.head()"
      ],
      "metadata": {
        "colab": {
          "base_uri": "https://localhost:8080/",
          "height": 206
        },
        "id": "bajX2l_MfypH",
        "outputId": "3d93be4d-b858-4f37-b9cf-3bc1d5d92ad3"
      },
      "execution_count": null,
      "outputs": [
        {
          "output_type": "execute_result",
          "data": {
            "text/plain": [
              "   age  outcome_Dead  smoker_Yes\n",
              "0   23         False        True\n",
              "1   18         False        True\n",
              "2   71          True        True\n",
              "3   67         False       False\n",
              "4   64         False       False"
            ],
            "text/html": [
              "\n",
              "  <div id=\"df-d8b4a0a7-fa45-4267-a901-553502e20c38\" class=\"colab-df-container\">\n",
              "    <div>\n",
              "<style scoped>\n",
              "    .dataframe tbody tr th:only-of-type {\n",
              "        vertical-align: middle;\n",
              "    }\n",
              "\n",
              "    .dataframe tbody tr th {\n",
              "        vertical-align: top;\n",
              "    }\n",
              "\n",
              "    .dataframe thead th {\n",
              "        text-align: right;\n",
              "    }\n",
              "</style>\n",
              "<table border=\"1\" class=\"dataframe\">\n",
              "  <thead>\n",
              "    <tr style=\"text-align: right;\">\n",
              "      <th></th>\n",
              "      <th>age</th>\n",
              "      <th>outcome_Dead</th>\n",
              "      <th>smoker_Yes</th>\n",
              "    </tr>\n",
              "  </thead>\n",
              "  <tbody>\n",
              "    <tr>\n",
              "      <th>0</th>\n",
              "      <td>23</td>\n",
              "      <td>False</td>\n",
              "      <td>True</td>\n",
              "    </tr>\n",
              "    <tr>\n",
              "      <th>1</th>\n",
              "      <td>18</td>\n",
              "      <td>False</td>\n",
              "      <td>True</td>\n",
              "    </tr>\n",
              "    <tr>\n",
              "      <th>2</th>\n",
              "      <td>71</td>\n",
              "      <td>True</td>\n",
              "      <td>True</td>\n",
              "    </tr>\n",
              "    <tr>\n",
              "      <th>3</th>\n",
              "      <td>67</td>\n",
              "      <td>False</td>\n",
              "      <td>False</td>\n",
              "    </tr>\n",
              "    <tr>\n",
              "      <th>4</th>\n",
              "      <td>64</td>\n",
              "      <td>False</td>\n",
              "      <td>False</td>\n",
              "    </tr>\n",
              "  </tbody>\n",
              "</table>\n",
              "</div>\n",
              "    <div class=\"colab-df-buttons\">\n",
              "\n",
              "  <div class=\"colab-df-container\">\n",
              "    <button class=\"colab-df-convert\" onclick=\"convertToInteractive('df-d8b4a0a7-fa45-4267-a901-553502e20c38')\"\n",
              "            title=\"Convert this dataframe to an interactive table.\"\n",
              "            style=\"display:none;\">\n",
              "\n",
              "  <svg xmlns=\"http://www.w3.org/2000/svg\" height=\"24px\" viewBox=\"0 -960 960 960\">\n",
              "    <path d=\"M120-120v-720h720v720H120Zm60-500h600v-160H180v160Zm220 220h160v-160H400v160Zm0 220h160v-160H400v160ZM180-400h160v-160H180v160Zm440 0h160v-160H620v160ZM180-180h160v-160H180v160Zm440 0h160v-160H620v160Z\"/>\n",
              "  </svg>\n",
              "    </button>\n",
              "\n",
              "  <style>\n",
              "    .colab-df-container {\n",
              "      display:flex;\n",
              "      gap: 12px;\n",
              "    }\n",
              "\n",
              "    .colab-df-convert {\n",
              "      background-color: #E8F0FE;\n",
              "      border: none;\n",
              "      border-radius: 50%;\n",
              "      cursor: pointer;\n",
              "      display: none;\n",
              "      fill: #1967D2;\n",
              "      height: 32px;\n",
              "      padding: 0 0 0 0;\n",
              "      width: 32px;\n",
              "    }\n",
              "\n",
              "    .colab-df-convert:hover {\n",
              "      background-color: #E2EBFA;\n",
              "      box-shadow: 0px 1px 2px rgba(60, 64, 67, 0.3), 0px 1px 3px 1px rgba(60, 64, 67, 0.15);\n",
              "      fill: #174EA6;\n",
              "    }\n",
              "\n",
              "    .colab-df-buttons div {\n",
              "      margin-bottom: 4px;\n",
              "    }\n",
              "\n",
              "    [theme=dark] .colab-df-convert {\n",
              "      background-color: #3B4455;\n",
              "      fill: #D2E3FC;\n",
              "    }\n",
              "\n",
              "    [theme=dark] .colab-df-convert:hover {\n",
              "      background-color: #434B5C;\n",
              "      box-shadow: 0px 1px 3px 1px rgba(0, 0, 0, 0.15);\n",
              "      filter: drop-shadow(0px 1px 2px rgba(0, 0, 0, 0.3));\n",
              "      fill: #FFFFFF;\n",
              "    }\n",
              "  </style>\n",
              "\n",
              "    <script>\n",
              "      const buttonEl =\n",
              "        document.querySelector('#df-d8b4a0a7-fa45-4267-a901-553502e20c38 button.colab-df-convert');\n",
              "      buttonEl.style.display =\n",
              "        google.colab.kernel.accessAllowed ? 'block' : 'none';\n",
              "\n",
              "      async function convertToInteractive(key) {\n",
              "        const element = document.querySelector('#df-d8b4a0a7-fa45-4267-a901-553502e20c38');\n",
              "        const dataTable =\n",
              "          await google.colab.kernel.invokeFunction('convertToInteractive',\n",
              "                                                    [key], {});\n",
              "        if (!dataTable) return;\n",
              "\n",
              "        const docLinkHtml = 'Like what you see? Visit the ' +\n",
              "          '<a target=\"_blank\" href=https://colab.research.google.com/notebooks/data_table.ipynb>data table notebook</a>'\n",
              "          + ' to learn more about interactive tables.';\n",
              "        element.innerHTML = '';\n",
              "        dataTable['output_type'] = 'display_data';\n",
              "        await google.colab.output.renderOutput(dataTable, element);\n",
              "        const docLink = document.createElement('div');\n",
              "        docLink.innerHTML = docLinkHtml;\n",
              "        element.appendChild(docLink);\n",
              "      }\n",
              "    </script>\n",
              "  </div>\n",
              "\n",
              "\n",
              "<div id=\"df-77516731-7e66-4b71-9987-1d40d73a5969\">\n",
              "  <button class=\"colab-df-quickchart\" onclick=\"quickchart('df-77516731-7e66-4b71-9987-1d40d73a5969')\"\n",
              "            title=\"Suggest charts\"\n",
              "            style=\"display:none;\">\n",
              "\n",
              "<svg xmlns=\"http://www.w3.org/2000/svg\" height=\"24px\"viewBox=\"0 0 24 24\"\n",
              "     width=\"24px\">\n",
              "    <g>\n",
              "        <path d=\"M19 3H5c-1.1 0-2 .9-2 2v14c0 1.1.9 2 2 2h14c1.1 0 2-.9 2-2V5c0-1.1-.9-2-2-2zM9 17H7v-7h2v7zm4 0h-2V7h2v10zm4 0h-2v-4h2v4z\"/>\n",
              "    </g>\n",
              "</svg>\n",
              "  </button>\n",
              "\n",
              "<style>\n",
              "  .colab-df-quickchart {\n",
              "      --bg-color: #E8F0FE;\n",
              "      --fill-color: #1967D2;\n",
              "      --hover-bg-color: #E2EBFA;\n",
              "      --hover-fill-color: #174EA6;\n",
              "      --disabled-fill-color: #AAA;\n",
              "      --disabled-bg-color: #DDD;\n",
              "  }\n",
              "\n",
              "  [theme=dark] .colab-df-quickchart {\n",
              "      --bg-color: #3B4455;\n",
              "      --fill-color: #D2E3FC;\n",
              "      --hover-bg-color: #434B5C;\n",
              "      --hover-fill-color: #FFFFFF;\n",
              "      --disabled-bg-color: #3B4455;\n",
              "      --disabled-fill-color: #666;\n",
              "  }\n",
              "\n",
              "  .colab-df-quickchart {\n",
              "    background-color: var(--bg-color);\n",
              "    border: none;\n",
              "    border-radius: 50%;\n",
              "    cursor: pointer;\n",
              "    display: none;\n",
              "    fill: var(--fill-color);\n",
              "    height: 32px;\n",
              "    padding: 0;\n",
              "    width: 32px;\n",
              "  }\n",
              "\n",
              "  .colab-df-quickchart:hover {\n",
              "    background-color: var(--hover-bg-color);\n",
              "    box-shadow: 0 1px 2px rgba(60, 64, 67, 0.3), 0 1px 3px 1px rgba(60, 64, 67, 0.15);\n",
              "    fill: var(--button-hover-fill-color);\n",
              "  }\n",
              "\n",
              "  .colab-df-quickchart-complete:disabled,\n",
              "  .colab-df-quickchart-complete:disabled:hover {\n",
              "    background-color: var(--disabled-bg-color);\n",
              "    fill: var(--disabled-fill-color);\n",
              "    box-shadow: none;\n",
              "  }\n",
              "\n",
              "  .colab-df-spinner {\n",
              "    border: 2px solid var(--fill-color);\n",
              "    border-color: transparent;\n",
              "    border-bottom-color: var(--fill-color);\n",
              "    animation:\n",
              "      spin 1s steps(1) infinite;\n",
              "  }\n",
              "\n",
              "  @keyframes spin {\n",
              "    0% {\n",
              "      border-color: transparent;\n",
              "      border-bottom-color: var(--fill-color);\n",
              "      border-left-color: var(--fill-color);\n",
              "    }\n",
              "    20% {\n",
              "      border-color: transparent;\n",
              "      border-left-color: var(--fill-color);\n",
              "      border-top-color: var(--fill-color);\n",
              "    }\n",
              "    30% {\n",
              "      border-color: transparent;\n",
              "      border-left-color: var(--fill-color);\n",
              "      border-top-color: var(--fill-color);\n",
              "      border-right-color: var(--fill-color);\n",
              "    }\n",
              "    40% {\n",
              "      border-color: transparent;\n",
              "      border-right-color: var(--fill-color);\n",
              "      border-top-color: var(--fill-color);\n",
              "    }\n",
              "    60% {\n",
              "      border-color: transparent;\n",
              "      border-right-color: var(--fill-color);\n",
              "    }\n",
              "    80% {\n",
              "      border-color: transparent;\n",
              "      border-right-color: var(--fill-color);\n",
              "      border-bottom-color: var(--fill-color);\n",
              "    }\n",
              "    90% {\n",
              "      border-color: transparent;\n",
              "      border-bottom-color: var(--fill-color);\n",
              "    }\n",
              "  }\n",
              "</style>\n",
              "\n",
              "  <script>\n",
              "    async function quickchart(key) {\n",
              "      const quickchartButtonEl =\n",
              "        document.querySelector('#' + key + ' button');\n",
              "      quickchartButtonEl.disabled = true;  // To prevent multiple clicks.\n",
              "      quickchartButtonEl.classList.add('colab-df-spinner');\n",
              "      try {\n",
              "        const charts = await google.colab.kernel.invokeFunction(\n",
              "            'suggestCharts', [key], {});\n",
              "      } catch (error) {\n",
              "        console.error('Error during call to suggestCharts:', error);\n",
              "      }\n",
              "      quickchartButtonEl.classList.remove('colab-df-spinner');\n",
              "      quickchartButtonEl.classList.add('colab-df-quickchart-complete');\n",
              "    }\n",
              "    (() => {\n",
              "      let quickchartButtonEl =\n",
              "        document.querySelector('#df-77516731-7e66-4b71-9987-1d40d73a5969 button');\n",
              "      quickchartButtonEl.style.display =\n",
              "        google.colab.kernel.accessAllowed ? 'block' : 'none';\n",
              "    })();\n",
              "  </script>\n",
              "</div>\n",
              "\n",
              "    </div>\n",
              "  </div>\n"
            ],
            "application/vnd.google.colaboratory.intrinsic+json": {
              "type": "dataframe",
              "variable_name": "df_encoded",
              "summary": "{\n  \"name\": \"df_encoded\",\n  \"rows\": 1314,\n  \"fields\": [\n    {\n      \"column\": \"age\",\n      \"properties\": {\n        \"dtype\": \"number\",\n        \"std\": 17,\n        \"min\": 18,\n        \"max\": 84,\n        \"num_unique_values\": 67,\n        \"samples\": [\n          25,\n          33,\n          64\n        ],\n        \"semantic_type\": \"\",\n        \"description\": \"\"\n      }\n    },\n    {\n      \"column\": \"outcome_Dead\",\n      \"properties\": {\n        \"dtype\": \"boolean\",\n        \"num_unique_values\": 2,\n        \"samples\": [\n          true,\n          false\n        ],\n        \"semantic_type\": \"\",\n        \"description\": \"\"\n      }\n    },\n    {\n      \"column\": \"smoker_Yes\",\n      \"properties\": {\n        \"dtype\": \"boolean\",\n        \"num_unique_values\": 2,\n        \"samples\": [\n          false,\n          true\n        ],\n        \"semantic_type\": \"\",\n        \"description\": \"\"\n      }\n    }\n  ]\n}"
            }
          },
          "metadata": {},
          "execution_count": 8
        }
      ]
    },
    {
      "cell_type": "code",
      "source": [
        "decision_tree_model = decision_tree_model.fit(X_train, y_train)"
      ],
      "metadata": {
        "id": "rDR6TH16d3ZP"
      },
      "execution_count": null,
      "outputs": []
    },
    {
      "cell_type": "code",
      "source": [
        "predictions = decision_tree_model.predict(X_train)"
      ],
      "metadata": {
        "id": "2G970XI0gX_p"
      },
      "execution_count": null,
      "outputs": []
    },
    {
      "cell_type": "code",
      "source": [
        "accuracy_score(predictions, y_train)"
      ],
      "metadata": {
        "colab": {
          "base_uri": "https://localhost:8080/"
        },
        "id": "NOQZVMEDghnC",
        "outputId": "b966493c-07ba-4246-a6b8-5f281d23d7ba"
      },
      "execution_count": null,
      "outputs": [
        {
          "output_type": "execute_result",
          "data": {
            "text/plain": [
              "0.8563656147986942"
            ]
          },
          "metadata": {},
          "execution_count": 28
        }
      ]
    },
    {
      "cell_type": "markdown",
      "source": [
        "The training accuracy is 85.6%\n"
      ],
      "metadata": {
        "id": "1WkM9D6FmRdi"
      }
    },
    {
      "cell_type": "code",
      "source": [
        "test_predictions = decision_tree_model.predict(X_test)\n",
        "accuracy_score(test_predictions, y_test)"
      ],
      "metadata": {
        "colab": {
          "base_uri": "https://localhost:8080/"
        },
        "id": "u_V1BicCrwMQ",
        "outputId": "31267b89-78d4-4a10-905c-fe7cb56324b0"
      },
      "execution_count": null,
      "outputs": [
        {
          "output_type": "execute_result",
          "data": {
            "text/plain": [
              "0.8658227848101265"
            ]
          },
          "metadata": {},
          "execution_count": 29
        }
      ]
    },
    {
      "cell_type": "markdown",
      "source": [
        "Test accuracy is 86.5%"
      ],
      "metadata": {
        "id": "mXAdt8nJr-MB"
      }
    },
    {
      "cell_type": "code",
      "source": [
        "tree.plot_tree(decision_tree_model, feature_names = [\"smoker_Yes\", \"age\"], class_names=[\"Alive\", \"Dead\"], rounded = True, filled = True)"
      ],
      "metadata": {
        "colab": {
          "base_uri": "https://localhost:8080/",
          "height": 1000
        },
        "collapsed": true,
        "id": "XF2Yq1n2gxtA",
        "outputId": "0f5b01c5-2478-4149-9234-4201321dc5af"
      },
      "execution_count": null,
      "outputs": [
        {
          "output_type": "execute_result",
          "data": {
            "text/plain": [
              "[Text(0.6186789772727272, 0.9583333333333334, 'age <= 58.5\\nentropy = 0.856\\nsamples = 919\\nvalue = [661, 258]\\nclass = Alive'),\n",
              " Text(0.33508522727272727, 0.875, 'age <= 41.5\\nentropy = 0.497\\nsamples = 651\\nvalue = [580, 71]\\nclass = Alive'),\n",
              " Text(0.47688210227272726, 0.9166666666666667, 'True  '),\n",
              " Text(0.12386363636363637, 0.7916666666666666, 'age <= 34.5\\nentropy = 0.204\\nsamples = 375\\nvalue = [363, 12]\\nclass = Alive'),\n",
              " Text(0.04318181818181818, 0.7083333333333334, 'age <= 18.5\\nentropy = 0.148\\nsamples = 284\\nvalue = [278, 6]\\nclass = Alive'),\n",
              " Text(0.01818181818181818, 0.625, 'smoker_Yes <= 0.5\\nentropy = 0.353\\nsamples = 15\\nvalue = [14, 1]\\nclass = Alive'),\n",
              " Text(0.00909090909090909, 0.5416666666666666, 'entropy = 0.65\\nsamples = 6\\nvalue = [5, 1]\\nclass = Alive'),\n",
              " Text(0.02727272727272727, 0.5416666666666666, 'entropy = 0.0\\nsamples = 9\\nvalue = [9, 0]\\nclass = Alive'),\n",
              " Text(0.06818181818181818, 0.625, 'age <= 26.5\\nentropy = 0.133\\nsamples = 269\\nvalue = [264, 5]\\nclass = Alive'),\n",
              " Text(0.045454545454545456, 0.5416666666666666, 'age <= 21.5\\nentropy = 0.073\\nsamples = 114\\nvalue = [113, 1]\\nclass = Alive'),\n",
              " Text(0.03636363636363636, 0.4583333333333333, 'age <= 20.5\\nentropy = 0.187\\nsamples = 35\\nvalue = [34, 1]\\nclass = Alive'),\n",
              " Text(0.02727272727272727, 0.375, 'entropy = 0.0\\nsamples = 26\\nvalue = [26, 0]\\nclass = Alive'),\n",
              " Text(0.045454545454545456, 0.375, 'smoker_Yes <= 0.5\\nentropy = 0.503\\nsamples = 9\\nvalue = [8, 1]\\nclass = Alive'),\n",
              " Text(0.03636363636363636, 0.2916666666666667, 'entropy = 0.0\\nsamples = 5\\nvalue = [5, 0]\\nclass = Alive'),\n",
              " Text(0.05454545454545454, 0.2916666666666667, 'entropy = 0.811\\nsamples = 4\\nvalue = [3, 1]\\nclass = Alive'),\n",
              " Text(0.05454545454545454, 0.4583333333333333, 'entropy = 0.0\\nsamples = 79\\nvalue = [79, 0]\\nclass = Alive'),\n",
              " Text(0.09090909090909091, 0.5416666666666666, 'age <= 27.5\\nentropy = 0.173\\nsamples = 155\\nvalue = [151, 4]\\nclass = Alive'),\n",
              " Text(0.07272727272727272, 0.4583333333333333, 'smoker_Yes <= 0.5\\nentropy = 0.503\\nsamples = 18\\nvalue = [16, 2]\\nclass = Alive'),\n",
              " Text(0.06363636363636363, 0.375, 'entropy = 0.371\\nsamples = 14\\nvalue = [13, 1]\\nclass = Alive'),\n",
              " Text(0.08181818181818182, 0.375, 'entropy = 0.811\\nsamples = 4\\nvalue = [3, 1]\\nclass = Alive'),\n",
              " Text(0.10909090909090909, 0.4583333333333333, 'age <= 28.5\\nentropy = 0.11\\nsamples = 137\\nvalue = [135, 2]\\nclass = Alive'),\n",
              " Text(0.1, 0.375, 'entropy = 0.0\\nsamples = 23\\nvalue = [23, 0]\\nclass = Alive'),\n",
              " Text(0.11818181818181818, 0.375, 'age <= 29.5\\nentropy = 0.127\\nsamples = 114\\nvalue = [112, 2]\\nclass = Alive'),\n",
              " Text(0.1, 0.2916666666666667, 'smoker_Yes <= 0.5\\nentropy = 0.353\\nsamples = 15\\nvalue = [14, 1]\\nclass = Alive'),\n",
              " Text(0.09090909090909091, 0.20833333333333334, 'entropy = 0.592\\nsamples = 7\\nvalue = [6, 1]\\nclass = Alive'),\n",
              " Text(0.10909090909090909, 0.20833333333333334, 'entropy = 0.0\\nsamples = 8\\nvalue = [8, 0]\\nclass = Alive'),\n",
              " Text(0.13636363636363635, 0.2916666666666667, 'age <= 32.5\\nentropy = 0.081\\nsamples = 99\\nvalue = [98, 1]\\nclass = Alive'),\n",
              " Text(0.12727272727272726, 0.20833333333333334, 'entropy = 0.0\\nsamples = 59\\nvalue = [59, 0]\\nclass = Alive'),\n",
              " Text(0.14545454545454545, 0.20833333333333334, 'smoker_Yes <= 0.5\\nentropy = 0.169\\nsamples = 40\\nvalue = [39, 1]\\nclass = Alive'),\n",
              " Text(0.13636363636363635, 0.125, 'entropy = 0.0\\nsamples = 22\\nvalue = [22, 0]\\nclass = Alive'),\n",
              " Text(0.15454545454545454, 0.125, 'age <= 33.5\\nentropy = 0.31\\nsamples = 18\\nvalue = [17, 1]\\nclass = Alive'),\n",
              " Text(0.14545454545454545, 0.041666666666666664, 'entropy = 0.544\\nsamples = 8\\nvalue = [7, 1]\\nclass = Alive'),\n",
              " Text(0.16363636363636364, 0.041666666666666664, 'entropy = 0.0\\nsamples = 10\\nvalue = [10, 0]\\nclass = Alive'),\n",
              " Text(0.20454545454545456, 0.7083333333333334, 'age <= 38.5\\nentropy = 0.351\\nsamples = 91\\nvalue = [85, 6]\\nclass = Alive'),\n",
              " Text(0.19545454545454546, 0.625, 'smoker_Yes <= 0.5\\nentropy = 0.474\\nsamples = 59\\nvalue = [53, 6]\\nclass = Alive'),\n",
              " Text(0.16363636363636364, 0.5416666666666666, 'age <= 36.5\\nentropy = 0.567\\nsamples = 30\\nvalue = [26, 4]\\nclass = Alive'),\n",
              " Text(0.14545454545454545, 0.4583333333333333, 'age <= 35.5\\nentropy = 0.696\\nsamples = 16\\nvalue = [13, 3]\\nclass = Alive'),\n",
              " Text(0.13636363636363635, 0.375, 'entropy = 0.65\\nsamples = 12\\nvalue = [10, 2]\\nclass = Alive'),\n",
              " Text(0.15454545454545454, 0.375, 'entropy = 0.811\\nsamples = 4\\nvalue = [3, 1]\\nclass = Alive'),\n",
              " Text(0.18181818181818182, 0.4583333333333333, 'age <= 37.5\\nentropy = 0.371\\nsamples = 14\\nvalue = [13, 1]\\nclass = Alive'),\n",
              " Text(0.17272727272727273, 0.375, 'entropy = 0.0\\nsamples = 7\\nvalue = [7, 0]\\nclass = Alive'),\n",
              " Text(0.19090909090909092, 0.375, 'entropy = 0.592\\nsamples = 7\\nvalue = [6, 1]\\nclass = Alive'),\n",
              " Text(0.22727272727272727, 0.5416666666666666, 'age <= 37.5\\nentropy = 0.362\\nsamples = 29\\nvalue = [27, 2]\\nclass = Alive'),\n",
              " Text(0.21818181818181817, 0.4583333333333333, 'age <= 36.5\\nentropy = 0.258\\nsamples = 23\\nvalue = [22, 1]\\nclass = Alive'),\n",
              " Text(0.20909090909090908, 0.375, 'age <= 35.5\\nentropy = 0.353\\nsamples = 15\\nvalue = [14, 1]\\nclass = Alive'),\n",
              " Text(0.2, 0.2916666666666667, 'entropy = 0.0\\nsamples = 5\\nvalue = [5, 0]\\nclass = Alive'),\n",
              " Text(0.21818181818181817, 0.2916666666666667, 'entropy = 0.469\\nsamples = 10\\nvalue = [9, 1]\\nclass = Alive'),\n",
              " Text(0.22727272727272727, 0.375, 'entropy = 0.0\\nsamples = 8\\nvalue = [8, 0]\\nclass = Alive'),\n",
              " Text(0.23636363636363636, 0.4583333333333333, 'entropy = 0.65\\nsamples = 6\\nvalue = [5, 1]\\nclass = Alive'),\n",
              " Text(0.21363636363636362, 0.625, 'entropy = 0.0\\nsamples = 32\\nvalue = [32, 0]\\nclass = Alive'),\n",
              " Text(0.5463068181818181, 0.7916666666666666, 'age <= 54.5\\nentropy = 0.749\\nsamples = 276\\nvalue = [217, 59]\\nclass = Alive'),\n",
              " Text(0.4244318181818182, 0.7083333333333334, 'age <= 48.5\\nentropy = 0.667\\nsamples = 207\\nvalue = [171, 36]\\nclass = Alive'),\n",
              " Text(0.32840909090909093, 0.625, 'age <= 44.5\\nentropy = 0.595\\nsamples = 118\\nvalue = [101, 17]\\nclass = Alive'),\n",
              " Text(0.2863636363636364, 0.5416666666666666, 'age <= 43.5\\nentropy = 0.529\\nsamples = 50\\nvalue = [44, 6]\\nclass = Alive'),\n",
              " Text(0.2636363636363636, 0.4583333333333333, 'smoker_Yes <= 0.5\\nentropy = 0.663\\nsamples = 29\\nvalue = [24, 5]\\nclass = Alive'),\n",
              " Text(0.24545454545454545, 0.375, 'age <= 42.5\\nentropy = 0.722\\nsamples = 15\\nvalue = [12, 3]\\nclass = Alive'),\n",
              " Text(0.23636363636363636, 0.2916666666666667, 'entropy = 0.592\\nsamples = 7\\nvalue = [6, 1]\\nclass = Alive'),\n",
              " Text(0.2545454545454545, 0.2916666666666667, 'entropy = 0.811\\nsamples = 8\\nvalue = [6, 2]\\nclass = Alive'),\n",
              " Text(0.2818181818181818, 0.375, 'age <= 42.5\\nentropy = 0.592\\nsamples = 14\\nvalue = [12, 2]\\nclass = Alive'),\n",
              " Text(0.2727272727272727, 0.2916666666666667, 'entropy = 0.65\\nsamples = 6\\nvalue = [5, 1]\\nclass = Alive'),\n",
              " Text(0.2909090909090909, 0.2916666666666667, 'entropy = 0.544\\nsamples = 8\\nvalue = [7, 1]\\nclass = Alive'),\n",
              " Text(0.3090909090909091, 0.4583333333333333, 'smoker_Yes <= 0.5\\nentropy = 0.276\\nsamples = 21\\nvalue = [20, 1]\\nclass = Alive'),\n",
              " Text(0.3, 0.375, 'entropy = 0.0\\nsamples = 11\\nvalue = [11, 0]\\nclass = Alive'),\n",
              " Text(0.3181818181818182, 0.375, 'entropy = 0.469\\nsamples = 10\\nvalue = [9, 1]\\nclass = Alive'),\n",
              " Text(0.3704545454545455, 0.5416666666666666, 'age <= 45.5\\nentropy = 0.639\\nsamples = 68\\nvalue = [57, 11]\\nclass = Alive'),\n",
              " Text(0.34545454545454546, 0.4583333333333333, 'smoker_Yes <= 0.5\\nentropy = 0.852\\nsamples = 18\\nvalue = [13, 5]\\nclass = Alive'),\n",
              " Text(0.33636363636363636, 0.375, 'entropy = 0.811\\nsamples = 8\\nvalue = [6, 2]\\nclass = Alive'),\n",
              " Text(0.35454545454545455, 0.375, 'entropy = 0.881\\nsamples = 10\\nvalue = [7, 3]\\nclass = Alive'),\n",
              " Text(0.39545454545454545, 0.4583333333333333, 'age <= 46.5\\nentropy = 0.529\\nsamples = 50\\nvalue = [44, 6]\\nclass = Alive'),\n",
              " Text(0.37272727272727274, 0.375, 'smoker_Yes <= 0.5\\nentropy = 0.454\\nsamples = 21\\nvalue = [19, 2]\\nclass = Alive'),\n",
              " Text(0.36363636363636365, 0.2916666666666667, 'entropy = 0.722\\nsamples = 5\\nvalue = [4, 1]\\nclass = Alive'),\n",
              " Text(0.38181818181818183, 0.2916666666666667, 'entropy = 0.337\\nsamples = 16\\nvalue = [15, 1]\\nclass = Alive'),\n",
              " Text(0.41818181818181815, 0.375, 'smoker_Yes <= 0.5\\nentropy = 0.579\\nsamples = 29\\nvalue = [25, 4]\\nclass = Alive'),\n",
              " Text(0.4, 0.2916666666666667, 'age <= 47.5\\nentropy = 0.439\\nsamples = 11\\nvalue = [10, 1]\\nclass = Alive'),\n",
              " Text(0.39090909090909093, 0.20833333333333334, 'entropy = 0.65\\nsamples = 6\\nvalue = [5, 1]\\nclass = Alive'),\n",
              " Text(0.4090909090909091, 0.20833333333333334, 'entropy = 0.0\\nsamples = 5\\nvalue = [5, 0]\\nclass = Alive'),\n",
              " Text(0.43636363636363634, 0.2916666666666667, 'age <= 47.5\\nentropy = 0.65\\nsamples = 18\\nvalue = [15, 3]\\nclass = Alive'),\n",
              " Text(0.42727272727272725, 0.20833333333333334, 'entropy = 0.469\\nsamples = 10\\nvalue = [9, 1]\\nclass = Alive'),\n",
              " Text(0.44545454545454544, 0.20833333333333334, 'entropy = 0.811\\nsamples = 8\\nvalue = [6, 2]\\nclass = Alive'),\n",
              " Text(0.5204545454545455, 0.625, 'age <= 52.5\\nentropy = 0.748\\nsamples = 89\\nvalue = [70, 19]\\nclass = Alive'),\n",
              " Text(0.4772727272727273, 0.5416666666666666, 'age <= 49.5\\nentropy = 0.818\\nsamples = 63\\nvalue = [47, 16]\\nclass = Alive'),\n",
              " Text(0.45454545454545453, 0.4583333333333333, 'smoker_Yes <= 0.5\\nentropy = 0.89\\nsamples = 13\\nvalue = [9, 4]\\nclass = Alive'),\n",
              " Text(0.44545454545454544, 0.375, 'entropy = 0.971\\nsamples = 5\\nvalue = [3, 2]\\nclass = Alive'),\n",
              " Text(0.4636363636363636, 0.375, 'entropy = 0.811\\nsamples = 8\\nvalue = [6, 2]\\nclass = Alive'),\n",
              " Text(0.5, 0.4583333333333333, 'smoker_Yes <= 0.5\\nentropy = 0.795\\nsamples = 50\\nvalue = [38, 12]\\nclass = Alive'),\n",
              " Text(0.4818181818181818, 0.375, 'age <= 51.5\\nentropy = 0.722\\nsamples = 20\\nvalue = [16, 4]\\nclass = Alive'),\n",
              " Text(0.4727272727272727, 0.2916666666666667, 'age <= 50.5\\nentropy = 0.811\\nsamples = 12\\nvalue = [9, 3]\\nclass = Alive'),\n",
              " Text(0.4636363636363636, 0.20833333333333334, 'entropy = 0.811\\nsamples = 4\\nvalue = [3, 1]\\nclass = Alive'),\n",
              " Text(0.4818181818181818, 0.20833333333333334, 'entropy = 0.811\\nsamples = 8\\nvalue = [6, 2]\\nclass = Alive'),\n",
              " Text(0.4909090909090909, 0.2916666666666667, 'entropy = 0.544\\nsamples = 8\\nvalue = [7, 1]\\nclass = Alive'),\n",
              " Text(0.5181818181818182, 0.375, 'age <= 50.5\\nentropy = 0.837\\nsamples = 30\\nvalue = [22, 8]\\nclass = Alive'),\n",
              " Text(0.509090909090909, 0.2916666666666667, 'entropy = 0.722\\nsamples = 10\\nvalue = [8, 2]\\nclass = Alive'),\n",
              " Text(0.5272727272727272, 0.2916666666666667, 'age <= 51.5\\nentropy = 0.881\\nsamples = 20\\nvalue = [14, 6]\\nclass = Alive'),\n",
              " Text(0.5181818181818182, 0.20833333333333334, 'entropy = 0.881\\nsamples = 10\\nvalue = [7, 3]\\nclass = Alive'),\n",
              " Text(0.5363636363636364, 0.20833333333333334, 'entropy = 0.881\\nsamples = 10\\nvalue = [7, 3]\\nclass = Alive'),\n",
              " Text(0.5636363636363636, 0.5416666666666666, 'age <= 53.5\\nentropy = 0.516\\nsamples = 26\\nvalue = [23, 3]\\nclass = Alive'),\n",
              " Text(0.5454545454545454, 0.4583333333333333, 'smoker_Yes <= 0.5\\nentropy = 0.592\\nsamples = 14\\nvalue = [12, 2]\\nclass = Alive'),\n",
              " Text(0.5363636363636364, 0.375, 'entropy = 0.0\\nsamples = 5\\nvalue = [5, 0]\\nclass = Alive'),\n",
              " Text(0.5545454545454546, 0.375, 'entropy = 0.764\\nsamples = 9\\nvalue = [7, 2]\\nclass = Alive'),\n",
              " Text(0.5818181818181818, 0.4583333333333333, 'smoker_Yes <= 0.5\\nentropy = 0.414\\nsamples = 12\\nvalue = [11, 1]\\nclass = Alive'),\n",
              " Text(0.5727272727272728, 0.375, 'entropy = 0.722\\nsamples = 5\\nvalue = [4, 1]\\nclass = Alive'),\n",
              " Text(0.5909090909090909, 0.375, 'entropy = 0.0\\nsamples = 7\\nvalue = [7, 0]\\nclass = Alive'),\n",
              " Text(0.6681818181818182, 0.7083333333333334, 'age <= 57.5\\nentropy = 0.918\\nsamples = 69\\nvalue = [46, 23]\\nclass = Alive'),\n",
              " Text(0.6454545454545455, 0.625, 'smoker_Yes <= 0.5\\nentropy = 0.968\\nsamples = 48\\nvalue = [29, 19]\\nclass = Alive'),\n",
              " Text(0.6272727272727273, 0.5416666666666666, 'age <= 56.5\\nentropy = 0.931\\nsamples = 26\\nvalue = [17, 9]\\nclass = Alive'),\n",
              " Text(0.6181818181818182, 0.4583333333333333, 'age <= 55.5\\nentropy = 0.959\\nsamples = 21\\nvalue = [13, 8]\\nclass = Alive'),\n",
              " Text(0.6090909090909091, 0.375, 'entropy = 0.845\\nsamples = 11\\nvalue = [8, 3]\\nclass = Alive'),\n",
              " Text(0.6272727272727273, 0.375, 'entropy = 1.0\\nsamples = 10\\nvalue = [5, 5]\\nclass = Alive'),\n",
              " Text(0.6363636363636364, 0.4583333333333333, 'entropy = 0.722\\nsamples = 5\\nvalue = [4, 1]\\nclass = Alive'),\n",
              " Text(0.6636363636363637, 0.5416666666666666, 'age <= 56.5\\nentropy = 0.994\\nsamples = 22\\nvalue = [12, 10]\\nclass = Alive'),\n",
              " Text(0.6545454545454545, 0.4583333333333333, 'age <= 55.5\\nentropy = 1.0\\nsamples = 12\\nvalue = [6, 6]\\nclass = Alive'),\n",
              " Text(0.6454545454545455, 0.375, 'entropy = 1.0\\nsamples = 4\\nvalue = [2, 2]\\nclass = Alive'),\n",
              " Text(0.6636363636363637, 0.375, 'entropy = 1.0\\nsamples = 8\\nvalue = [4, 4]\\nclass = Alive'),\n",
              " Text(0.6727272727272727, 0.4583333333333333, 'entropy = 0.971\\nsamples = 10\\nvalue = [6, 4]\\nclass = Alive'),\n",
              " Text(0.6909090909090909, 0.625, 'smoker_Yes <= 0.5\\nentropy = 0.702\\nsamples = 21\\nvalue = [17, 4]\\nclass = Alive'),\n",
              " Text(0.6818181818181818, 0.5416666666666666, 'entropy = 0.439\\nsamples = 11\\nvalue = [10, 1]\\nclass = Alive'),\n",
              " Text(0.7, 0.5416666666666666, 'entropy = 0.881\\nsamples = 10\\nvalue = [7, 3]\\nclass = Alive'),\n",
              " Text(0.9022727272727272, 0.875, 'age <= 67.5\\nentropy = 0.884\\nsamples = 268\\nvalue = [81, 187]\\nclass = Dead'),\n",
              " Text(0.7604758522727273, 0.9166666666666667, '  False'),\n",
              " Text(0.8318181818181818, 0.7916666666666666, 'age <= 64.5\\nentropy = 0.999\\nsamples = 136\\nvalue = [70, 66]\\nclass = Alive'),\n",
              " Text(0.7727272727272727, 0.7083333333333334, 'age <= 60.5\\nentropy = 0.99\\nsamples = 100\\nvalue = [56.0, 44.0]\\nclass = Alive'),\n",
              " Text(0.7363636363636363, 0.625, 'smoker_Yes <= 0.5\\nentropy = 0.981\\nsamples = 31\\nvalue = [13, 18]\\nclass = Dead'),\n",
              " Text(0.7181818181818181, 0.5416666666666666, 'age <= 59.5\\nentropy = 0.997\\nsamples = 15\\nvalue = [7, 8]\\nclass = Dead'),\n",
              " Text(0.7090909090909091, 0.4583333333333333, 'entropy = 0.918\\nsamples = 6\\nvalue = [2, 4]\\nclass = Dead'),\n",
              " Text(0.7272727272727273, 0.4583333333333333, 'entropy = 0.991\\nsamples = 9\\nvalue = [5, 4]\\nclass = Alive'),\n",
              " Text(0.7545454545454545, 0.5416666666666666, 'age <= 59.5\\nentropy = 0.954\\nsamples = 16\\nvalue = [6, 10]\\nclass = Dead'),\n",
              " Text(0.7454545454545455, 0.4583333333333333, 'entropy = 0.985\\nsamples = 7\\nvalue = [3, 4]\\nclass = Dead'),\n",
              " Text(0.7636363636363637, 0.4583333333333333, 'entropy = 0.918\\nsamples = 9\\nvalue = [3, 6]\\nclass = Dead'),\n",
              " Text(0.8090909090909091, 0.625, 'smoker_Yes <= 0.5\\nentropy = 0.956\\nsamples = 69\\nvalue = [43, 26]\\nclass = Alive'),\n",
              " Text(0.7909090909090909, 0.5416666666666666, 'age <= 61.5\\nentropy = 0.896\\nsamples = 32\\nvalue = [22, 10]\\nclass = Alive'),\n",
              " Text(0.7818181818181819, 0.4583333333333333, 'entropy = 0.764\\nsamples = 9\\nvalue = [7, 2]\\nclass = Alive'),\n",
              " Text(0.8, 0.4583333333333333, 'age <= 62.5\\nentropy = 0.932\\nsamples = 23\\nvalue = [15, 8]\\nclass = Alive'),\n",
              " Text(0.7909090909090909, 0.375, 'entropy = 1.0\\nsamples = 6\\nvalue = [3, 3]\\nclass = Alive'),\n",
              " Text(0.8090909090909091, 0.375, 'age <= 63.5\\nentropy = 0.874\\nsamples = 17\\nvalue = [12, 5]\\nclass = Alive'),\n",
              " Text(0.8, 0.2916666666666667, 'entropy = 0.918\\nsamples = 3\\nvalue = [2, 1]\\nclass = Alive'),\n",
              " Text(0.8181818181818182, 0.2916666666666667, 'entropy = 0.863\\nsamples = 14\\nvalue = [10, 4]\\nclass = Alive'),\n",
              " Text(0.8272727272727273, 0.5416666666666666, 'age <= 61.5\\nentropy = 0.987\\nsamples = 37\\nvalue = [21, 16]\\nclass = Alive'),\n",
              " Text(0.8181818181818182, 0.4583333333333333, 'entropy = 1.0\\nsamples = 12\\nvalue = [6, 6]\\nclass = Alive'),\n",
              " Text(0.8363636363636363, 0.4583333333333333, 'age <= 62.5\\nentropy = 0.971\\nsamples = 25\\nvalue = [15, 10]\\nclass = Alive'),\n",
              " Text(0.8272727272727273, 0.375, 'entropy = 0.985\\nsamples = 7\\nvalue = [4, 3]\\nclass = Alive'),\n",
              " Text(0.8454545454545455, 0.375, 'age <= 63.5\\nentropy = 0.964\\nsamples = 18\\nvalue = [11, 7]\\nclass = Alive'),\n",
              " Text(0.8363636363636363, 0.2916666666666667, 'entropy = 0.946\\nsamples = 11\\nvalue = [7, 4]\\nclass = Alive'),\n",
              " Text(0.8545454545454545, 0.2916666666666667, 'entropy = 0.985\\nsamples = 7\\nvalue = [4, 3]\\nclass = Alive'),\n",
              " Text(0.8909090909090909, 0.7083333333333334, 'age <= 66.5\\nentropy = 0.964\\nsamples = 36\\nvalue = [14, 22]\\nclass = Dead'),\n",
              " Text(0.8727272727272727, 0.625, 'smoker_Yes <= 0.5\\nentropy = 0.918\\nsamples = 24\\nvalue = [8, 16]\\nclass = Dead'),\n",
              " Text(0.8636363636363636, 0.5416666666666666, 'age <= 65.5\\nentropy = 0.949\\nsamples = 19\\nvalue = [7, 12]\\nclass = Dead'),\n",
              " Text(0.8545454545454545, 0.4583333333333333, 'entropy = 0.881\\nsamples = 10\\nvalue = [3, 7]\\nclass = Dead'),\n",
              " Text(0.8727272727272727, 0.4583333333333333, 'entropy = 0.991\\nsamples = 9\\nvalue = [4, 5]\\nclass = Dead'),\n",
              " Text(0.8818181818181818, 0.5416666666666666, 'entropy = 0.722\\nsamples = 5\\nvalue = [1, 4]\\nclass = Dead'),\n",
              " Text(0.9090909090909091, 0.625, 'smoker_Yes <= 0.5\\nentropy = 1.0\\nsamples = 12\\nvalue = [6, 6]\\nclass = Alive'),\n",
              " Text(0.9, 0.5416666666666666, 'entropy = 0.994\\nsamples = 11\\nvalue = [5, 6]\\nclass = Dead'),\n",
              " Text(0.9181818181818182, 0.5416666666666666, 'entropy = 0.0\\nsamples = 1\\nvalue = [1, 0]\\nclass = Alive'),\n",
              " Text(0.9727272727272728, 0.7916666666666666, 'age <= 74.5\\nentropy = 0.414\\nsamples = 132\\nvalue = [11, 121]\\nclass = Dead'),\n",
              " Text(0.9636363636363636, 0.7083333333333334, 'age <= 73.5\\nentropy = 0.564\\nsamples = 83\\nvalue = [11, 72]\\nclass = Dead'),\n",
              " Text(0.9454545454545454, 0.625, 'age <= 69.5\\nentropy = 0.323\\nsamples = 68\\nvalue = [4, 64]\\nclass = Dead'),\n",
              " Text(0.9363636363636364, 0.5416666666666666, 'entropy = 0.0\\nsamples = 24\\nvalue = [0, 24]\\nclass = Dead'),\n",
              " Text(0.9545454545454546, 0.5416666666666666, 'smoker_Yes <= 0.5\\nentropy = 0.439\\nsamples = 44\\nvalue = [4, 40]\\nclass = Dead'),\n",
              " Text(0.9454545454545454, 0.4583333333333333, 'age <= 70.5\\nentropy = 0.523\\nsamples = 34\\nvalue = [4, 30]\\nclass = Dead'),\n",
              " Text(0.9363636363636364, 0.375, 'entropy = 0.811\\nsamples = 4\\nvalue = [1, 3]\\nclass = Dead'),\n",
              " Text(0.9545454545454546, 0.375, 'age <= 71.5\\nentropy = 0.469\\nsamples = 30\\nvalue = [3, 27]\\nclass = Dead'),\n",
              " Text(0.9454545454545454, 0.2916666666666667, 'entropy = 0.0\\nsamples = 10\\nvalue = [0, 10]\\nclass = Dead'),\n",
              " Text(0.9636363636363636, 0.2916666666666667, 'age <= 72.5\\nentropy = 0.61\\nsamples = 20\\nvalue = [3, 17]\\nclass = Dead'),\n",
              " Text(0.9545454545454546, 0.20833333333333334, 'entropy = 0.65\\nsamples = 12\\nvalue = [2, 10]\\nclass = Dead'),\n",
              " Text(0.9727272727272728, 0.20833333333333334, 'entropy = 0.544\\nsamples = 8\\nvalue = [1, 7]\\nclass = Dead'),\n",
              " Text(0.9636363636363636, 0.4583333333333333, 'entropy = 0.0\\nsamples = 10\\nvalue = [0, 10]\\nclass = Dead'),\n",
              " Text(0.9818181818181818, 0.625, 'smoker_Yes <= 0.5\\nentropy = 0.997\\nsamples = 15\\nvalue = [7, 8]\\nclass = Dead'),\n",
              " Text(0.9727272727272728, 0.5416666666666666, 'entropy = 0.98\\nsamples = 12\\nvalue = [5, 7]\\nclass = Dead'),\n",
              " Text(0.990909090909091, 0.5416666666666666, 'entropy = 0.918\\nsamples = 3\\nvalue = [2, 1]\\nclass = Alive'),\n",
              " Text(0.9818181818181818, 0.7083333333333334, 'entropy = 0.0\\nsamples = 49\\nvalue = [0, 49]\\nclass = Dead')]"
            ]
          },
          "metadata": {},
          "execution_count": 47
        },
        {
          "output_type": "display_data",
          "data": {
            "text/plain": [
              "<Figure size 640x480 with 1 Axes>"
            ],
            "image/png": "[encoded data removed]"
          },
          "metadata": {}
        }
      ]
    },
    {
      "cell_type": "markdown",
      "source": [
        "## Hyperparameters Tuning using GridSearchCV\n",
        "Now lets use GridSearch method to find best hyperparameters."
      ],
      "metadata": {
        "id": "aXiE3Lo9xib-"
      }
    },
    {
      "cell_type": "code",
      "source": [
        "tree_param = {\n",
        "    'criterion': ['entropy'],\n",
        "    'max_depth': range(1, 10),\n",
        "    'min_samples_leaf': range(1, 10)\n",
        "}"
      ],
      "metadata": {
        "id": "1c3R6udYhu7w"
      },
      "execution_count": null,
      "outputs": []
    },
    {
      "cell_type": "markdown",
      "source": [],
      "metadata": {
        "id": "W0DQx4cvee9D"
      }
    },
    {
      "cell_type": "code",
      "source": [
        "clf = GridSearchCV(DecisionTreeClassifier(), tree_param, cv=5)"
      ],
      "metadata": {
        "id": "sxQgn9rQiShM"
      },
      "execution_count": null,
      "outputs": []
    },
    {
      "cell_type": "code",
      "source": [
        "clf.fit(X_train, y_train)"
      ],
      "metadata": {
        "colab": {
          "base_uri": "https://localhost:8080/",
          "height": 166
        },
        "id": "9iF1VQgGku1P",
        "outputId": "83acb1e3-0b5a-4edf-fa3f-0453ccfa41b5"
      },
      "execution_count": null,
      "outputs": [
        {
          "output_type": "execute_result",
          "data": {
            "text/plain": [
              "GridSearchCV(cv=5, estimator=DecisionTreeClassifier(),\n",
              "             param_grid={'criterion': ['entropy'], 'max_depth': range(1, 10),\n",
              "                         'min_samples_leaf': range(1, 10)})"
            ],
            "text/html": [
              "<style>#sk-container-id-3 {\n",
              "  /* Definition of color scheme common for light and dark mode */\n",
              "  --sklearn-color-text: #000;\n",
              "  --sklearn-color-text-muted: #666;\n",
              "  --sklearn-color-line: gray;\n",
              "  /* Definition of color scheme for unfitted estimators */\n",
              "  --sklearn-color-unfitted-level-0: #fff5e6;\n",
              "  --sklearn-color-unfitted-level-1: #f6e4d2;\n",
              "  --sklearn-color-unfitted-level-2: #ffe0b3;\n",
              "  --sklearn-color-unfitted-level-3: chocolate;\n",
              "  /* Definition of color scheme for fitted estimators */\n",
              "  --sklearn-color-fitted-level-0: #f0f8ff;\n",
              "  --sklearn-color-fitted-level-1: #d4ebff;\n",
              "  --sklearn-color-fitted-level-2: #b3dbfd;\n",
              "  --sklearn-color-fitted-level-3: cornflowerblue;\n",
              "\n",
              "  /* Specific color for light theme */\n",
              "  --sklearn-color-text-on-default-background: var(--sg-text-color, var(--theme-code-foreground, var(--jp-content-font-color1, black)));\n",
              "  --sklearn-color-background: var(--sg-background-color, var(--theme-background, var(--jp-layout-color0, white)));\n",
              "  --sklearn-color-border-box: var(--sg-text-color, var(--theme-code-foreground, var(--jp-content-font-color1, black)));\n",
              "  --sklearn-color-icon: #696969;\n",
              "\n",
              "  @media (prefers-color-scheme: dark) {\n",
              "    /* Redefinition of color scheme for dark theme */\n",
              "    --sklearn-color-text-on-default-background: var(--sg-text-color, var(--theme-code-foreground, var(--jp-content-font-color1, white)));\n",
              "    --sklearn-color-background: var(--sg-background-color, var(--theme-background, var(--jp-layout-color0, #111)));\n",
              "    --sklearn-color-border-box: var(--sg-text-color, var(--theme-code-foreground, var(--jp-content-font-color1, white)));\n",
              "    --sklearn-color-icon: #878787;\n",
              "  }\n",
              "}\n",
              "\n",
              "#sk-container-id-3 {\n",
              "  color: var(--sklearn-color-text);\n",
              "}\n",
              "\n",
              "#sk-container-id-3 pre {\n",
              "  padding: 0;\n",
              "}\n",
              "\n",
              "#sk-container-id-3 input.sk-hidden--visually {\n",
              "  border: 0;\n",
              "  clip: rect(1px 1px 1px 1px);\n",
              "  clip: rect(1px, 1px, 1px, 1px);\n",
              "  height: 1px;\n",
              "  margin: -1px;\n",
              "  overflow: hidden;\n",
              "  padding: 0;\n",
              "  position: absolute;\n",
              "  width: 1px;\n",
              "}\n",
              "\n",
              "#sk-container-id-3 div.sk-dashed-wrapped {\n",
              "  border: 1px dashed var(--sklearn-color-line);\n",
              "  margin: 0 0.4em 0.5em 0.4em;\n",
              "  box-sizing: border-box;\n",
              "  padding-bottom: 0.4em;\n",
              "  background-color: var(--sklearn-color-background);\n",
              "}\n",
              "\n",
              "#sk-container-id-3 div.sk-container {\n",
              "  /* jupyter's `normalize.less` sets `[hidden] { display: none; }`\n",
              "     but bootstrap.min.css set `[hidden] { display: none !important; }`\n",
              "     so we also need the `!important` here to be able to override the\n",
              "     default hidden behavior on the sphinx rendered scikit-learn.org.\n",
              "     See: https://github.com/scikit-learn/scikit-learn/issues/21755 */\n",
              "  display: inline-block !important;\n",
              "  position: relative;\n",
              "}\n",
              "\n",
              "#sk-container-id-3 div.sk-text-repr-fallback {\n",
              "  display: none;\n",
              "}\n",
              "\n",
              "div.sk-parallel-item,\n",
              "div.sk-serial,\n",
              "div.sk-item {\n",
              "  /* draw centered vertical line to link estimators */\n",
              "  background-image: linear-gradient(var(--sklearn-color-text-on-default-background), var(--sklearn-color-text-on-default-background));\n",
              "  background-size: 2px 100%;\n",
              "  background-repeat: no-repeat;\n",
              "  background-position: center center;\n",
              "}\n",
              "\n",
              "/* Parallel-specific style estimator block */\n",
              "\n",
              "#sk-container-id-3 div.sk-parallel-item::after {\n",
              "  content: \"\";\n",
              "  width: 100%;\n",
              "  border-bottom: 2px solid var(--sklearn-color-text-on-default-background);\n",
              "  flex-grow: 1;\n",
              "}\n",
              "\n",
              "#sk-container-id-3 div.sk-parallel {\n",
              "  display: flex;\n",
              "  align-items: stretch;\n",
              "  justify-content: center;\n",
              "  background-color: var(--sklearn-color-background);\n",
              "  position: relative;\n",
              "}\n",
              "\n",
              "#sk-container-id-3 div.sk-parallel-item {\n",
              "  display: flex;\n",
              "  flex-direction: column;\n",
              "}\n",
              "\n",
              "#sk-container-id-3 div.sk-parallel-item:first-child::after {\n",
              "  align-self: flex-end;\n",
              "  width: 50%;\n",
              "}\n",
              "\n",
              "#sk-container-id-3 div.sk-parallel-item:last-child::after {\n",
              "  align-self: flex-start;\n",
              "  width: 50%;\n",
              "}\n",
              "\n",
              "#sk-container-id-3 div.sk-parallel-item:only-child::after {\n",
              "  width: 0;\n",
              "}\n",
              "\n",
              "/* Serial-specific style estimator block */\n",
              "\n",
              "#sk-container-id-3 div.sk-serial {\n",
              "  display: flex;\n",
              "  flex-direction: column;\n",
              "  align-items: center;\n",
              "  background-color: var(--sklearn-color-background);\n",
              "  padding-right: 1em;\n",
              "  padding-left: 1em;\n",
              "}\n",
              "\n",
              "\n",
              "/* Toggleable style: style used for estimator/Pipeline/ColumnTransformer box that is\n",
              "clickable and can be expanded/collapsed.\n",
              "- Pipeline and ColumnTransformer use this feature and define the default style\n",
              "- Estimators will overwrite some part of the style using the `sk-estimator` class\n",
              "*/\n",
              "\n",
              "/* Pipeline and ColumnTransformer style (default) */\n",
              "\n",
              "#sk-container-id-3 div.sk-toggleable {\n",
              "  /* Default theme specific background. It is overwritten whether we have a\n",
              "  specific estimator or a Pipeline/ColumnTransformer */\n",
              "  background-color: var(--sklearn-color-background);\n",
              "}\n",
              "\n",
              "/* Toggleable label */\n",
              "#sk-container-id-3 label.sk-toggleable__label {\n",
              "  cursor: pointer;\n",
              "  display: flex;\n",
              "  width: 100%;\n",
              "  margin-bottom: 0;\n",
              "  padding: 0.5em;\n",
              "  box-sizing: border-box;\n",
              "  text-align: center;\n",
              "  align-items: start;\n",
              "  justify-content: space-between;\n",
              "  gap: 0.5em;\n",
              "}\n",
              "\n",
              "#sk-container-id-3 label.sk-toggleable__label .caption {\n",
              "  font-size: 0.6rem;\n",
              "  font-weight: lighter;\n",
              "  color: var(--sklearn-color-text-muted);\n",
              "}\n",
              "\n",
              "#sk-container-id-3 label.sk-toggleable__label-arrow:before {\n",
              "  /* Arrow on the left of the label */\n",
              "  content: \"▸\";\n",
              "  float: left;\n",
              "  margin-right: 0.25em;\n",
              "  color: var(--sklearn-color-icon);\n",
              "}\n",
              "\n",
              "#sk-container-id-3 label.sk-toggleable__label-arrow:hover:before {\n",
              "  color: var(--sklearn-color-text);\n",
              "}\n",
              "\n",
              "/* Toggleable content - dropdown */\n",
              "\n",
              "#sk-container-id-3 div.sk-toggleable__content {\n",
              "  max-height: 0;\n",
              "  max-width: 0;\n",
              "  overflow: hidden;\n",
              "  text-align: left;\n",
              "  /* unfitted */\n",
              "  background-color: var(--sklearn-color-unfitted-level-0);\n",
              "}\n",
              "\n",
              "#sk-container-id-3 div.sk-toggleable__content.fitted {\n",
              "  /* fitted */\n",
              "  background-color: var(--sklearn-color-fitted-level-0);\n",
              "}\n",
              "\n",
              "#sk-container-id-3 div.sk-toggleable__content pre {\n",
              "  margin: 0.2em;\n",
              "  border-radius: 0.25em;\n",
              "  color: var(--sklearn-color-text);\n",
              "  /* unfitted */\n",
              "  background-color: var(--sklearn-color-unfitted-level-0);\n",
              "}\n",
              "\n",
              "#sk-container-id-3 div.sk-toggleable__content.fitted pre {\n",
              "  /* unfitted */\n",
              "  background-color: var(--sklearn-color-fitted-level-0);\n",
              "}\n",
              "\n",
              "#sk-container-id-3 input.sk-toggleable__control:checked~div.sk-toggleable__content {\n",
              "  /* Expand drop-down */\n",
              "  max-height: 200px;\n",
              "  max-width: 100%;\n",
              "  overflow: auto;\n",
              "}\n",
              "\n",
              "#sk-container-id-3 input.sk-toggleable__control:checked~label.sk-toggleable__label-arrow:before {\n",
              "  content: \"▾\";\n",
              "}\n",
              "\n",
              "/* Pipeline/ColumnTransformer-specific style */\n",
              "\n",
              "#sk-container-id-3 div.sk-label input.sk-toggleable__control:checked~label.sk-toggleable__label {\n",
              "  color: var(--sklearn-color-text);\n",
              "  background-color: var(--sklearn-color-unfitted-level-2);\n",
              "}\n",
              "\n",
              "#sk-container-id-3 div.sk-label.fitted input.sk-toggleable__control:checked~label.sk-toggleable__label {\n",
              "  background-color: var(--sklearn-color-fitted-level-2);\n",
              "}\n",
              "\n",
              "/* Estimator-specific style */\n",
              "\n",
              "/* Colorize estimator box */\n",
              "#sk-container-id-3 div.sk-estimator input.sk-toggleable__control:checked~label.sk-toggleable__label {\n",
              "  /* unfitted */\n",
              "  background-color: var(--sklearn-color-unfitted-level-2);\n",
              "}\n",
              "\n",
              "#sk-container-id-3 div.sk-estimator.fitted input.sk-toggleable__control:checked~label.sk-toggleable__label {\n",
              "  /* fitted */\n",
              "  background-color: var(--sklearn-color-fitted-level-2);\n",
              "}\n",
              "\n",
              "#sk-container-id-3 div.sk-label label.sk-toggleable__label,\n",
              "#sk-container-id-3 div.sk-label label {\n",
              "  /* The background is the default theme color */\n",
              "  color: var(--sklearn-color-text-on-default-background);\n",
              "}\n",
              "\n",
              "/* On hover, darken the color of the background */\n",
              "#sk-container-id-3 div.sk-label:hover label.sk-toggleable__label {\n",
              "  color: var(--sklearn-color-text);\n",
              "  background-color: var(--sklearn-color-unfitted-level-2);\n",
              "}\n",
              "\n",
              "/* Label box, darken color on hover, fitted */\n",
              "#sk-container-id-3 div.sk-label.fitted:hover label.sk-toggleable__label.fitted {\n",
              "  color: var(--sklearn-color-text);\n",
              "  background-color: var(--sklearn-color-fitted-level-2);\n",
              "}\n",
              "\n",
              "/* Estimator label */\n",
              "\n",
              "#sk-container-id-3 div.sk-label label {\n",
              "  font-family: monospace;\n",
              "  font-weight: bold;\n",
              "  display: inline-block;\n",
              "  line-height: 1.2em;\n",
              "}\n",
              "\n",
              "#sk-container-id-3 div.sk-label-container {\n",
              "  text-align: center;\n",
              "}\n",
              "\n",
              "/* Estimator-specific */\n",
              "#sk-container-id-3 div.sk-estimator {\n",
              "  font-family: monospace;\n",
              "  border: 1px dotted var(--sklearn-color-border-box);\n",
              "  border-radius: 0.25em;\n",
              "  box-sizing: border-box;\n",
              "  margin-bottom: 0.5em;\n",
              "  /* unfitted */\n",
              "  background-color: var(--sklearn-color-unfitted-level-0);\n",
              "}\n",
              "\n",
              "#sk-container-id-3 div.sk-estimator.fitted {\n",
              "  /* fitted */\n",
              "  background-color: var(--sklearn-color-fitted-level-0);\n",
              "}\n",
              "\n",
              "/* on hover */\n",
              "#sk-container-id-3 div.sk-estimator:hover {\n",
              "  /* unfitted */\n",
              "  background-color: var(--sklearn-color-unfitted-level-2);\n",
              "}\n",
              "\n",
              "#sk-container-id-3 div.sk-estimator.fitted:hover {\n",
              "  /* fitted */\n",
              "  background-color: var(--sklearn-color-fitted-level-2);\n",
              "}\n",
              "\n",
              "/* Specification for estimator info (e.g. \"i\" and \"?\") */\n",
              "\n",
              "/* Common style for \"i\" and \"?\" */\n",
              "\n",
              ".sk-estimator-doc-link,\n",
              "a:link.sk-estimator-doc-link,\n",
              "a:visited.sk-estimator-doc-link {\n",
              "  float: right;\n",
              "  font-size: smaller;\n",
              "  line-height: 1em;\n",
              "  font-family: monospace;\n",
              "  background-color: var(--sklearn-color-background);\n",
              "  border-radius: 1em;\n",
              "  height: 1em;\n",
              "  width: 1em;\n",
              "  text-decoration: none !important;\n",
              "  margin-left: 0.5em;\n",
              "  text-align: center;\n",
              "  /* unfitted */\n",
              "  border: var(--sklearn-color-unfitted-level-1) 1pt solid;\n",
              "  color: var(--sklearn-color-unfitted-level-1);\n",
              "}\n",
              "\n",
              ".sk-estimator-doc-link.fitted,\n",
              "a:link.sk-estimator-doc-link.fitted,\n",
              "a:visited.sk-estimator-doc-link.fitted {\n",
              "  /* fitted */\n",
              "  border: var(--sklearn-color-fitted-level-1) 1pt solid;\n",
              "  color: var(--sklearn-color-fitted-level-1);\n",
              "}\n",
              "\n",
              "/* On hover */\n",
              "div.sk-estimator:hover .sk-estimator-doc-link:hover,\n",
              ".sk-estimator-doc-link:hover,\n",
              "div.sk-label-container:hover .sk-estimator-doc-link:hover,\n",
              ".sk-estimator-doc-link:hover {\n",
              "  /* unfitted */\n",
              "  background-color: var(--sklearn-color-unfitted-level-3);\n",
              "  color: var(--sklearn-color-background);\n",
              "  text-decoration: none;\n",
              "}\n",
              "\n",
              "div.sk-estimator.fitted:hover .sk-estimator-doc-link.fitted:hover,\n",
              ".sk-estimator-doc-link.fitted:hover,\n",
              "div.sk-label-container:hover .sk-estimator-doc-link.fitted:hover,\n",
              ".sk-estimator-doc-link.fitted:hover {\n",
              "  /* fitted */\n",
              "  background-color: var(--sklearn-color-fitted-level-3);\n",
              "  color: var(--sklearn-color-background);\n",
              "  text-decoration: none;\n",
              "}\n",
              "\n",
              "/* Span, style for the box shown on hovering the info icon */\n",
              ".sk-estimator-doc-link span {\n",
              "  display: none;\n",
              "  z-index: 9999;\n",
              "  position: relative;\n",
              "  font-weight: normal;\n",
              "  right: .2ex;\n",
              "  padding: .5ex;\n",
              "  margin: .5ex;\n",
              "  width: min-content;\n",
              "  min-width: 20ex;\n",
              "  max-width: 50ex;\n",
              "  color: var(--sklearn-color-text);\n",
              "  box-shadow: 2pt 2pt 4pt #999;\n",
              "  /* unfitted */\n",
              "  background: var(--sklearn-color-unfitted-level-0);\n",
              "  border: .5pt solid var(--sklearn-color-unfitted-level-3);\n",
              "}\n",
              "\n",
              ".sk-estimator-doc-link.fitted span {\n",
              "  /* fitted */\n",
              "  background: var(--sklearn-color-fitted-level-0);\n",
              "  border: var(--sklearn-color-fitted-level-3);\n",
              "}\n",
              "\n",
              ".sk-estimator-doc-link:hover span {\n",
              "  display: block;\n",
              "}\n",
              "\n",
              "/* \"?\"-specific style due to the `<a>` HTML tag */\n",
              "\n",
              "#sk-container-id-3 a.estimator_doc_link {\n",
              "  float: right;\n",
              "  font-size: 1rem;\n",
              "  line-height: 1em;\n",
              "  font-family: monospace;\n",
              "  background-color: var(--sklearn-color-background);\n",
              "  border-radius: 1rem;\n",
              "  height: 1rem;\n",
              "  width: 1rem;\n",
              "  text-decoration: none;\n",
              "  /* unfitted */\n",
              "  color: var(--sklearn-color-unfitted-level-1);\n",
              "  border: var(--sklearn-color-unfitted-level-1) 1pt solid;\n",
              "}\n",
              "\n",
              "#sk-container-id-3 a.estimator_doc_link.fitted {\n",
              "  /* fitted */\n",
              "  border: var(--sklearn-color-fitted-level-1) 1pt solid;\n",
              "  color: var(--sklearn-color-fitted-level-1);\n",
              "}\n",
              "\n",
              "/* On hover */\n",
              "#sk-container-id-3 a.estimator_doc_link:hover {\n",
              "  /* unfitted */\n",
              "  background-color: var(--sklearn-color-unfitted-level-3);\n",
              "  color: var(--sklearn-color-background);\n",
              "  text-decoration: none;\n",
              "}\n",
              "\n",
              "#sk-container-id-3 a.estimator_doc_link.fitted:hover {\n",
              "  /* fitted */\n",
              "  background-color: var(--sklearn-color-fitted-level-3);\n",
              "}\n",
              "</style><div id=\"sk-container-id-3\" class=\"sk-top-container\"><div class=\"sk-text-repr-fallback\"><pre>GridSearchCV(cv=5, estimator=DecisionTreeClassifier(),\n",
              "             param_grid={&#x27;criterion&#x27;: [&#x27;entropy&#x27;], &#x27;max_depth&#x27;: range(1, 10),\n",
              "                         &#x27;min_samples_leaf&#x27;: range(1, 10)})</pre><b>In a Jupyter environment, please rerun this cell to show the HTML representation or trust the notebook. <br />On GitHub, the HTML representation is unable to render, please try loading this page with nbviewer.org.</b></div><div class=\"sk-container\" hidden><div class=\"sk-item sk-dashed-wrapped\"><div class=\"sk-label-container\"><div class=\"sk-label fitted sk-toggleable\"><input class=\"sk-toggleable__control sk-hidden--visually\" id=\"sk-estimator-id-7\" type=\"checkbox\" ><label for=\"sk-estimator-id-7\" class=\"sk-toggleable__label fitted sk-toggleable__label-arrow\"><div><div>GridSearchCV</div></div><div><a class=\"sk-estimator-doc-link fitted\" rel=\"noreferrer\" target=\"_blank\" href=\"https://scikit-learn.org/1.6/modules/generated/sklearn.model_selection.GridSearchCV.html\">?<span>Documentation for GridSearchCV</span></a><span class=\"sk-estimator-doc-link fitted\">i<span>Fitted</span></span></div></label><div class=\"sk-toggleable__content fitted\"><pre>GridSearchCV(cv=5, estimator=DecisionTreeClassifier(),\n",
              "             param_grid={&#x27;criterion&#x27;: [&#x27;entropy&#x27;], &#x27;max_depth&#x27;: range(1, 10),\n",
              "                         &#x27;min_samples_leaf&#x27;: range(1, 10)})</pre></div> </div></div><div class=\"sk-parallel\"><div class=\"sk-parallel-item\"><div class=\"sk-item\"><div class=\"sk-label-container\"><div class=\"sk-label fitted sk-toggleable\"><input class=\"sk-toggleable__control sk-hidden--visually\" id=\"sk-estimator-id-8\" type=\"checkbox\" ><label for=\"sk-estimator-id-8\" class=\"sk-toggleable__label fitted sk-toggleable__label-arrow\"><div><div>best_estimator_: DecisionTreeClassifier</div></div></label><div class=\"sk-toggleable__content fitted\"><pre>DecisionTreeClassifier(criterion=&#x27;entropy&#x27;, max_depth=3)</pre></div> </div></div><div class=\"sk-serial\"><div class=\"sk-item\"><div class=\"sk-estimator fitted sk-toggleable\"><input class=\"sk-toggleable__control sk-hidden--visually\" id=\"sk-estimator-id-9\" type=\"checkbox\" ><label for=\"sk-estimator-id-9\" class=\"sk-toggleable__label fitted sk-toggleable__label-arrow\"><div><div>DecisionTreeClassifier</div></div><div><a class=\"sk-estimator-doc-link fitted\" rel=\"noreferrer\" target=\"_blank\" href=\"https://scikit-learn.org/1.6/modules/generated/sklearn.tree.DecisionTreeClassifier.html\">?<span>Documentation for DecisionTreeClassifier</span></a></div></label><div class=\"sk-toggleable__content fitted\"><pre>DecisionTreeClassifier(criterion=&#x27;entropy&#x27;, max_depth=3)</pre></div> </div></div></div></div></div></div></div></div></div>"
            ]
          },
          "metadata": {},
          "execution_count": 39
        }
      ]
    },
    {
      "cell_type": "code",
      "source": [
        "best_params = clf.best_params_"
      ],
      "metadata": {
        "id": "Rw9BJs4elZvV"
      },
      "execution_count": null,
      "outputs": []
    },
    {
      "cell_type": "code",
      "source": [
        "print(best_params)"
      ],
      "metadata": {
        "colab": {
          "base_uri": "https://localhost:8080/"
        },
        "id": "Ouwls8Evlmao",
        "outputId": "147eb616-61e5-4885-c9a0-a2f5d0457f85"
      },
      "execution_count": null,
      "outputs": [
        {
          "output_type": "stream",
          "name": "stdout",
          "text": [
            "{'criterion': 'entropy', 'max_depth': 3, 'min_samples_leaf': 1}\n"
          ]
        }
      ]
    },
    {
      "cell_type": "code",
      "source": [
        "train_predictions_clf = clf.predict(X_train)"
      ],
      "metadata": {
        "id": "0_1k5LrQl1sQ"
      },
      "execution_count": null,
      "outputs": []
    },
    {
      "cell_type": "code",
      "source": [
        "accuracy_score(train_predictions_clf, y_train)"
      ],
      "metadata": {
        "colab": {
          "base_uri": "https://localhost:8080/"
        },
        "id": "eRewjcYzl5rJ",
        "outputId": "2821b3ab-e9e1-4631-a48c-38a03a710a95"
      },
      "execution_count": null,
      "outputs": [
        {
          "output_type": "execute_result",
          "data": {
            "text/plain": [
              "0.8476605005440696"
            ]
          },
          "metadata": {},
          "execution_count": 44
        }
      ]
    },
    {
      "cell_type": "markdown",
      "source": [
        "The training accuracy using the is 84.7%"
      ],
      "metadata": {
        "id": "MetzZiWAmZRc"
      }
    },
    {
      "cell_type": "code",
      "source": [
        "test_predictions_clf = clf.predict(X_test)"
      ],
      "metadata": {
        "id": "zAek291lmekA"
      },
      "execution_count": null,
      "outputs": []
    },
    {
      "cell_type": "markdown",
      "source": [],
      "metadata": {
        "id": "GuoVahgex89g"
      }
    },
    {
      "cell_type": "code",
      "source": [
        "accuracy_score(test_predictions_clf, y_test)"
      ],
      "metadata": {
        "colab": {
          "base_uri": "https://localhost:8080/"
        },
        "id": "4OVWpWijst6z",
        "outputId": "ff95a6b2-7a59-4689-cfe7-3f388038b7b1"
      },
      "execution_count": null,
      "outputs": [
        {
          "output_type": "execute_result",
          "data": {
            "text/plain": [
              "0.8632911392405064"
            ]
          },
          "metadata": {},
          "execution_count": 46
        }
      ]
    },
    {
      "cell_type": "markdown",
      "source": [
        "### Best Test Data Prediction Accuracy using Grid Search CV is 86.3%"
      ],
      "metadata": {
        "id": "PhugHxxV0dVa"
      }
    },
    {
      "cell_type": "markdown",
      "source": [
        "## Hyperparameters Tuning using Bayesian Optimization"
      ],
      "metadata": {
        "id": "sQR1jFaueGIq"
      }
    },
    {
      "cell_type": "code",
      "source": [
        "pip install scikit-learn scikit-optimize"
      ],
      "metadata": {
        "colab": {
          "base_uri": "https://localhost:8080/"
        },
        "id": "6ESlwjvSx94b",
        "outputId": "532a47a6-3d9f-4dff-a01f-6b0a5c31059b"
      },
      "execution_count": null,
      "outputs": [
        {
          "output_type": "stream",
          "name": "stdout",
          "text": [
            "Requirement already satisfied: scikit-learn in /usr/local/lib/python3.11/dist-packages (1.6.1)\n",
            "Collecting scikit-optimize\n",
            "  Downloading scikit_optimize-0.10.2-py2.py3-none-any.whl.metadata (9.7 kB)\n",
            "Requirement already satisfied: numpy>=1.19.5 in /usr/local/lib/python3.11/dist-packages (from scikit-learn) (2.0.2)\n",
            "Requirement already satisfied: scipy>=1.6.0 in /usr/local/lib/python3.11/dist-packages (from scikit-learn) (1.14.1)\n",
            "Requirement already satisfied: joblib>=1.2.0 in /usr/local/lib/python3.11/dist-packages (from scikit-learn) (1.4.2)\n",
            "Requirement already satisfied: threadpoolctl>=3.1.0 in /usr/local/lib/python3.11/dist-packages (from scikit-learn) (3.6.0)\n",
            "Collecting pyaml>=16.9 (from scikit-optimize)\n",
            "  Downloading pyaml-25.1.0-py3-none-any.whl.metadata (12 kB)\n",
            "Requirement already satisfied: packaging>=21.3 in /usr/local/lib/python3.11/dist-packages (from scikit-optimize) (24.2)\n",
            "Requirement already satisfied: PyYAML in /usr/local/lib/python3.11/dist-packages (from pyaml>=16.9->scikit-optimize) (6.0.2)\n",
            "Downloading scikit_optimize-0.10.2-py2.py3-none-any.whl (107 kB)\n",
            "\u001b[2K   \u001b[90m━━━━━━━━━━━━━━━━━━━━━━━━━━━━━━━━━━━━━━━━\u001b[0m \u001b[32m107.8/107.8 kB\u001b[0m \u001b[31m8.9 MB/s\u001b[0m eta \u001b[36m0:00:00\u001b[0m\n",
            "\u001b[?25hDownloading pyaml-25.1.0-py3-none-any.whl (26 kB)\n",
            "Installing collected packages: pyaml, scikit-optimize\n",
            "Successfully installed pyaml-25.1.0 scikit-optimize-0.10.2\n"
          ]
        }
      ]
    },
    {
      "cell_type": "code",
      "source": [
        "\n",
        "from skopt import BayesSearchCV\n",
        "from skopt.space import Integer, Categorical\n",
        "from sklearn.tree import DecisionTreeClassifier\n",
        "\n",
        "# Define search space\n",
        "search_space = {\n",
        "    'max_depth': Integer(1, 20),\n",
        "    'min_samples_split': Integer(2, 20),\n",
        "    'min_samples_leaf': Integer(1, 20),\n",
        "    'criterion': Categorical(['gini', 'entropy']),\n",
        "    'max_features': Categorical(['sqrt', 'log2', None])\n",
        "}\n",
        "\n",
        "# Set up BayesSearchCV\n",
        "opt = BayesSearchCV(\n",
        "    estimator=DecisionTreeClassifier(),\n",
        "    search_spaces=search_space,\n",
        "    n_iter=50,\n",
        "    scoring='accuracy',\n",
        "    cv=5,\n",
        "    random_state=42\n",
        ")\n",
        "\n"
      ],
      "metadata": {
        "id": "Z3AR2-kxxqg2"
      },
      "execution_count": null,
      "outputs": []
    },
    {
      "cell_type": "code",
      "source": [
        "opt.fit(X_train, y_train)"
      ],
      "metadata": {
        "colab": {
          "base_uri": "https://localhost:8080/",
          "height": 166
        },
        "id": "dpRogpHyxsk9",
        "outputId": "5e68f30f-6373-438a-ab4f-9db12331bdbe"
      },
      "execution_count": null,
      "outputs": [
        {
          "output_type": "execute_result",
          "data": {
            "text/plain": [
              "BayesSearchCV(cv=5, estimator=DecisionTreeClassifier(), random_state=42,\n",
              "              scoring='accuracy',\n",
              "              search_spaces={'criterion': Categorical(categories=('gini', 'entropy'), prior=None),\n",
              "                             'max_depth': Integer(low=1, high=20, prior='uniform', transform='normalize'),\n",
              "                             'max_features': Categorical(categories=('sqrt', 'log2', None), prior=None),\n",
              "                             'min_samples_leaf': Integer(low=1, high=20, prior='uniform', transform='normalize'),\n",
              "                             'min_samples_split': Integer(low=2, high=20, prior='uniform', transform='normalize')})"
            ],
            "text/html": [
              "<style>#sk-container-id-4 {\n",
              "  /* Definition of color scheme common for light and dark mode */\n",
              "  --sklearn-color-text: #000;\n",
              "  --sklearn-color-text-muted: #666;\n",
              "  --sklearn-color-line: gray;\n",
              "  /* Definition of color scheme for unfitted estimators */\n",
              "  --sklearn-color-unfitted-level-0: #fff5e6;\n",
              "  --sklearn-color-unfitted-level-1: #f6e4d2;\n",
              "  --sklearn-color-unfitted-level-2: #ffe0b3;\n",
              "  --sklearn-color-unfitted-level-3: chocolate;\n",
              "  /* Definition of color scheme for fitted estimators */\n",
              "  --sklearn-color-fitted-level-0: #f0f8ff;\n",
              "  --sklearn-color-fitted-level-1: #d4ebff;\n",
              "  --sklearn-color-fitted-level-2: #b3dbfd;\n",
              "  --sklearn-color-fitted-level-3: cornflowerblue;\n",
              "\n",
              "  /* Specific color for light theme */\n",
              "  --sklearn-color-text-on-default-background: var(--sg-text-color, var(--theme-code-foreground, var(--jp-content-font-color1, black)));\n",
              "  --sklearn-color-background: var(--sg-background-color, var(--theme-background, var(--jp-layout-color0, white)));\n",
              "  --sklearn-color-border-box: var(--sg-text-color, var(--theme-code-foreground, var(--jp-content-font-color1, black)));\n",
              "  --sklearn-color-icon: #696969;\n",
              "\n",
              "  @media (prefers-color-scheme: dark) {\n",
              "    /* Redefinition of color scheme for dark theme */\n",
              "    --sklearn-color-text-on-default-background: var(--sg-text-color, var(--theme-code-foreground, var(--jp-content-font-color1, white)));\n",
              "    --sklearn-color-background: var(--sg-background-color, var(--theme-background, var(--jp-layout-color0, #111)));\n",
              "    --sklearn-color-border-box: var(--sg-text-color, var(--theme-code-foreground, var(--jp-content-font-color1, white)));\n",
              "    --sklearn-color-icon: #878787;\n",
              "  }\n",
              "}\n",
              "\n",
              "#sk-container-id-4 {\n",
              "  color: var(--sklearn-color-text);\n",
              "}\n",
              "\n",
              "#sk-container-id-4 pre {\n",
              "  padding: 0;\n",
              "}\n",
              "\n",
              "#sk-container-id-4 input.sk-hidden--visually {\n",
              "  border: 0;\n",
              "  clip: rect(1px 1px 1px 1px);\n",
              "  clip: rect(1px, 1px, 1px, 1px);\n",
              "  height: 1px;\n",
              "  margin: -1px;\n",
              "  overflow: hidden;\n",
              "  padding: 0;\n",
              "  position: absolute;\n",
              "  width: 1px;\n",
              "}\n",
              "\n",
              "#sk-container-id-4 div.sk-dashed-wrapped {\n",
              "  border: 1px dashed var(--sklearn-color-line);\n",
              "  margin: 0 0.4em 0.5em 0.4em;\n",
              "  box-sizing: border-box;\n",
              "  padding-bottom: 0.4em;\n",
              "  background-color: var(--sklearn-color-background);\n",
              "}\n",
              "\n",
              "#sk-container-id-4 div.sk-container {\n",
              "  /* jupyter's `normalize.less` sets `[hidden] { display: none; }`\n",
              "     but bootstrap.min.css set `[hidden] { display: none !important; }`\n",
              "     so we also need the `!important` here to be able to override the\n",
              "     default hidden behavior on the sphinx rendered scikit-learn.org.\n",
              "     See: https://github.com/scikit-learn/scikit-learn/issues/21755 */\n",
              "  display: inline-block !important;\n",
              "  position: relative;\n",
              "}\n",
              "\n",
              "#sk-container-id-4 div.sk-text-repr-fallback {\n",
              "  display: none;\n",
              "}\n",
              "\n",
              "div.sk-parallel-item,\n",
              "div.sk-serial,\n",
              "div.sk-item {\n",
              "  /* draw centered vertical line to link estimators */\n",
              "  background-image: linear-gradient(var(--sklearn-color-text-on-default-background), var(--sklearn-color-text-on-default-background));\n",
              "  background-size: 2px 100%;\n",
              "  background-repeat: no-repeat;\n",
              "  background-position: center center;\n",
              "}\n",
              "\n",
              "/* Parallel-specific style estimator block */\n",
              "\n",
              "#sk-container-id-4 div.sk-parallel-item::after {\n",
              "  content: \"\";\n",
              "  width: 100%;\n",
              "  border-bottom: 2px solid var(--sklearn-color-text-on-default-background);\n",
              "  flex-grow: 1;\n",
              "}\n",
              "\n",
              "#sk-container-id-4 div.sk-parallel {\n",
              "  display: flex;\n",
              "  align-items: stretch;\n",
              "  justify-content: center;\n",
              "  background-color: var(--sklearn-color-background);\n",
              "  position: relative;\n",
              "}\n",
              "\n",
              "#sk-container-id-4 div.sk-parallel-item {\n",
              "  display: flex;\n",
              "  flex-direction: column;\n",
              "}\n",
              "\n",
              "#sk-container-id-4 div.sk-parallel-item:first-child::after {\n",
              "  align-self: flex-end;\n",
              "  width: 50%;\n",
              "}\n",
              "\n",
              "#sk-container-id-4 div.sk-parallel-item:last-child::after {\n",
              "  align-self: flex-start;\n",
              "  width: 50%;\n",
              "}\n",
              "\n",
              "#sk-container-id-4 div.sk-parallel-item:only-child::after {\n",
              "  width: 0;\n",
              "}\n",
              "\n",
              "/* Serial-specific style estimator block */\n",
              "\n",
              "#sk-container-id-4 div.sk-serial {\n",
              "  display: flex;\n",
              "  flex-direction: column;\n",
              "  align-items: center;\n",
              "  background-color: var(--sklearn-color-background);\n",
              "  padding-right: 1em;\n",
              "  padding-left: 1em;\n",
              "}\n",
              "\n",
              "\n",
              "/* Toggleable style: style used for estimator/Pipeline/ColumnTransformer box that is\n",
              "clickable and can be expanded/collapsed.\n",
              "- Pipeline and ColumnTransformer use this feature and define the default style\n",
              "- Estimators will overwrite some part of the style using the `sk-estimator` class\n",
              "*/\n",
              "\n",
              "/* Pipeline and ColumnTransformer style (default) */\n",
              "\n",
              "#sk-container-id-4 div.sk-toggleable {\n",
              "  /* Default theme specific background. It is overwritten whether we have a\n",
              "  specific estimator or a Pipeline/ColumnTransformer */\n",
              "  background-color: var(--sklearn-color-background);\n",
              "}\n",
              "\n",
              "/* Toggleable label */\n",
              "#sk-container-id-4 label.sk-toggleable__label {\n",
              "  cursor: pointer;\n",
              "  display: flex;\n",
              "  width: 100%;\n",
              "  margin-bottom: 0;\n",
              "  padding: 0.5em;\n",
              "  box-sizing: border-box;\n",
              "  text-align: center;\n",
              "  align-items: start;\n",
              "  justify-content: space-between;\n",
              "  gap: 0.5em;\n",
              "}\n",
              "\n",
              "#sk-container-id-4 label.sk-toggleable__label .caption {\n",
              "  font-size: 0.6rem;\n",
              "  font-weight: lighter;\n",
              "  color: var(--sklearn-color-text-muted);\n",
              "}\n",
              "\n",
              "#sk-container-id-4 label.sk-toggleable__label-arrow:before {\n",
              "  /* Arrow on the left of the label */\n",
              "  content: \"▸\";\n",
              "  float: left;\n",
              "  margin-right: 0.25em;\n",
              "  color: var(--sklearn-color-icon);\n",
              "}\n",
              "\n",
              "#sk-container-id-4 label.sk-toggleable__label-arrow:hover:before {\n",
              "  color: var(--sklearn-color-text);\n",
              "}\n",
              "\n",
              "/* Toggleable content - dropdown */\n",
              "\n",
              "#sk-container-id-4 div.sk-toggleable__content {\n",
              "  max-height: 0;\n",
              "  max-width: 0;\n",
              "  overflow: hidden;\n",
              "  text-align: left;\n",
              "  /* unfitted */\n",
              "  background-color: var(--sklearn-color-unfitted-level-0);\n",
              "}\n",
              "\n",
              "#sk-container-id-4 div.sk-toggleable__content.fitted {\n",
              "  /* fitted */\n",
              "  background-color: var(--sklearn-color-fitted-level-0);\n",
              "}\n",
              "\n",
              "#sk-container-id-4 div.sk-toggleable__content pre {\n",
              "  margin: 0.2em;\n",
              "  border-radius: 0.25em;\n",
              "  color: var(--sklearn-color-text);\n",
              "  /* unfitted */\n",
              "  background-color: var(--sklearn-color-unfitted-level-0);\n",
              "}\n",
              "\n",
              "#sk-container-id-4 div.sk-toggleable__content.fitted pre {\n",
              "  /* unfitted */\n",
              "  background-color: var(--sklearn-color-fitted-level-0);\n",
              "}\n",
              "\n",
              "#sk-container-id-4 input.sk-toggleable__control:checked~div.sk-toggleable__content {\n",
              "  /* Expand drop-down */\n",
              "  max-height: 200px;\n",
              "  max-width: 100%;\n",
              "  overflow: auto;\n",
              "}\n",
              "\n",
              "#sk-container-id-4 input.sk-toggleable__control:checked~label.sk-toggleable__label-arrow:before {\n",
              "  content: \"▾\";\n",
              "}\n",
              "\n",
              "/* Pipeline/ColumnTransformer-specific style */\n",
              "\n",
              "#sk-container-id-4 div.sk-label input.sk-toggleable__control:checked~label.sk-toggleable__label {\n",
              "  color: var(--sklearn-color-text);\n",
              "  background-color: var(--sklearn-color-unfitted-level-2);\n",
              "}\n",
              "\n",
              "#sk-container-id-4 div.sk-label.fitted input.sk-toggleable__control:checked~label.sk-toggleable__label {\n",
              "  background-color: var(--sklearn-color-fitted-level-2);\n",
              "}\n",
              "\n",
              "/* Estimator-specific style */\n",
              "\n",
              "/* Colorize estimator box */\n",
              "#sk-container-id-4 div.sk-estimator input.sk-toggleable__control:checked~label.sk-toggleable__label {\n",
              "  /* unfitted */\n",
              "  background-color: var(--sklearn-color-unfitted-level-2);\n",
              "}\n",
              "\n",
              "#sk-container-id-4 div.sk-estimator.fitted input.sk-toggleable__control:checked~label.sk-toggleable__label {\n",
              "  /* fitted */\n",
              "  background-color: var(--sklearn-color-fitted-level-2);\n",
              "}\n",
              "\n",
              "#sk-container-id-4 div.sk-label label.sk-toggleable__label,\n",
              "#sk-container-id-4 div.sk-label label {\n",
              "  /* The background is the default theme color */\n",
              "  color: var(--sklearn-color-text-on-default-background);\n",
              "}\n",
              "\n",
              "/* On hover, darken the color of the background */\n",
              "#sk-container-id-4 div.sk-label:hover label.sk-toggleable__label {\n",
              "  color: var(--sklearn-color-text);\n",
              "  background-color: var(--sklearn-color-unfitted-level-2);\n",
              "}\n",
              "\n",
              "/* Label box, darken color on hover, fitted */\n",
              "#sk-container-id-4 div.sk-label.fitted:hover label.sk-toggleable__label.fitted {\n",
              "  color: var(--sklearn-color-text);\n",
              "  background-color: var(--sklearn-color-fitted-level-2);\n",
              "}\n",
              "\n",
              "/* Estimator label */\n",
              "\n",
              "#sk-container-id-4 div.sk-label label {\n",
              "  font-family: monospace;\n",
              "  font-weight: bold;\n",
              "  display: inline-block;\n",
              "  line-height: 1.2em;\n",
              "}\n",
              "\n",
              "#sk-container-id-4 div.sk-label-container {\n",
              "  text-align: center;\n",
              "}\n",
              "\n",
              "/* Estimator-specific */\n",
              "#sk-container-id-4 div.sk-estimator {\n",
              "  font-family: monospace;\n",
              "  border: 1px dotted var(--sklearn-color-border-box);\n",
              "  border-radius: 0.25em;\n",
              "  box-sizing: border-box;\n",
              "  margin-bottom: 0.5em;\n",
              "  /* unfitted */\n",
              "  background-color: var(--sklearn-color-unfitted-level-0);\n",
              "}\n",
              "\n",
              "#sk-container-id-4 div.sk-estimator.fitted {\n",
              "  /* fitted */\n",
              "  background-color: var(--sklearn-color-fitted-level-0);\n",
              "}\n",
              "\n",
              "/* on hover */\n",
              "#sk-container-id-4 div.sk-estimator:hover {\n",
              "  /* unfitted */\n",
              "  background-color: var(--sklearn-color-unfitted-level-2);\n",
              "}\n",
              "\n",
              "#sk-container-id-4 div.sk-estimator.fitted:hover {\n",
              "  /* fitted */\n",
              "  background-color: var(--sklearn-color-fitted-level-2);\n",
              "}\n",
              "\n",
              "/* Specification for estimator info (e.g. \"i\" and \"?\") */\n",
              "\n",
              "/* Common style for \"i\" and \"?\" */\n",
              "\n",
              ".sk-estimator-doc-link,\n",
              "a:link.sk-estimator-doc-link,\n",
              "a:visited.sk-estimator-doc-link {\n",
              "  float: right;\n",
              "  font-size: smaller;\n",
              "  line-height: 1em;\n",
              "  font-family: monospace;\n",
              "  background-color: var(--sklearn-color-background);\n",
              "  border-radius: 1em;\n",
              "  height: 1em;\n",
              "  width: 1em;\n",
              "  text-decoration: none !important;\n",
              "  margin-left: 0.5em;\n",
              "  text-align: center;\n",
              "  /* unfitted */\n",
              "  border: var(--sklearn-color-unfitted-level-1) 1pt solid;\n",
              "  color: var(--sklearn-color-unfitted-level-1);\n",
              "}\n",
              "\n",
              ".sk-estimator-doc-link.fitted,\n",
              "a:link.sk-estimator-doc-link.fitted,\n",
              "a:visited.sk-estimator-doc-link.fitted {\n",
              "  /* fitted */\n",
              "  border: var(--sklearn-color-fitted-level-1) 1pt solid;\n",
              "  color: var(--sklearn-color-fitted-level-1);\n",
              "}\n",
              "\n",
              "/* On hover */\n",
              "div.sk-estimator:hover .sk-estimator-doc-link:hover,\n",
              ".sk-estimator-doc-link:hover,\n",
              "div.sk-label-container:hover .sk-estimator-doc-link:hover,\n",
              ".sk-estimator-doc-link:hover {\n",
              "  /* unfitted */\n",
              "  background-color: var(--sklearn-color-unfitted-level-3);\n",
              "  color: var(--sklearn-color-background);\n",
              "  text-decoration: none;\n",
              "}\n",
              "\n",
              "div.sk-estimator.fitted:hover .sk-estimator-doc-link.fitted:hover,\n",
              ".sk-estimator-doc-link.fitted:hover,\n",
              "div.sk-label-container:hover .sk-estimator-doc-link.fitted:hover,\n",
              ".sk-estimator-doc-link.fitted:hover {\n",
              "  /* fitted */\n",
              "  background-color: var(--sklearn-color-fitted-level-3);\n",
              "  color: var(--sklearn-color-background);\n",
              "  text-decoration: none;\n",
              "}\n",
              "\n",
              "/* Span, style for the box shown on hovering the info icon */\n",
              ".sk-estimator-doc-link span {\n",
              "  display: none;\n",
              "  z-index: 9999;\n",
              "  position: relative;\n",
              "  font-weight: normal;\n",
              "  right: .2ex;\n",
              "  padding: .5ex;\n",
              "  margin: .5ex;\n",
              "  width: min-content;\n",
              "  min-width: 20ex;\n",
              "  max-width: 50ex;\n",
              "  color: var(--sklearn-color-text);\n",
              "  box-shadow: 2pt 2pt 4pt #999;\n",
              "  /* unfitted */\n",
              "  background: var(--sklearn-color-unfitted-level-0);\n",
              "  border: .5pt solid var(--sklearn-color-unfitted-level-3);\n",
              "}\n",
              "\n",
              ".sk-estimator-doc-link.fitted span {\n",
              "  /* fitted */\n",
              "  background: var(--sklearn-color-fitted-level-0);\n",
              "  border: var(--sklearn-color-fitted-level-3);\n",
              "}\n",
              "\n",
              ".sk-estimator-doc-link:hover span {\n",
              "  display: block;\n",
              "}\n",
              "\n",
              "/* \"?\"-specific style due to the `<a>` HTML tag */\n",
              "\n",
              "#sk-container-id-4 a.estimator_doc_link {\n",
              "  float: right;\n",
              "  font-size: 1rem;\n",
              "  line-height: 1em;\n",
              "  font-family: monospace;\n",
              "  background-color: var(--sklearn-color-background);\n",
              "  border-radius: 1rem;\n",
              "  height: 1rem;\n",
              "  width: 1rem;\n",
              "  text-decoration: none;\n",
              "  /* unfitted */\n",
              "  color: var(--sklearn-color-unfitted-level-1);\n",
              "  border: var(--sklearn-color-unfitted-level-1) 1pt solid;\n",
              "}\n",
              "\n",
              "#sk-container-id-4 a.estimator_doc_link.fitted {\n",
              "  /* fitted */\n",
              "  border: var(--sklearn-color-fitted-level-1) 1pt solid;\n",
              "  color: var(--sklearn-color-fitted-level-1);\n",
              "}\n",
              "\n",
              "/* On hover */\n",
              "#sk-container-id-4 a.estimator_doc_link:hover {\n",
              "  /* unfitted */\n",
              "  background-color: var(--sklearn-color-unfitted-level-3);\n",
              "  color: var(--sklearn-color-background);\n",
              "  text-decoration: none;\n",
              "}\n",
              "\n",
              "#sk-container-id-4 a.estimator_doc_link.fitted:hover {\n",
              "  /* fitted */\n",
              "  background-color: var(--sklearn-color-fitted-level-3);\n",
              "}\n",
              "</style><div id=\"sk-container-id-4\" class=\"sk-top-container\"><div class=\"sk-text-repr-fallback\"><pre>BayesSearchCV(cv=5, estimator=DecisionTreeClassifier(), random_state=42,\n",
              "              scoring=&#x27;accuracy&#x27;,\n",
              "              search_spaces={&#x27;criterion&#x27;: Categorical(categories=(&#x27;gini&#x27;, &#x27;entropy&#x27;), prior=None),\n",
              "                             &#x27;max_depth&#x27;: Integer(low=1, high=20, prior=&#x27;uniform&#x27;, transform=&#x27;normalize&#x27;),\n",
              "                             &#x27;max_features&#x27;: Categorical(categories=(&#x27;sqrt&#x27;, &#x27;log2&#x27;, None), prior=None),\n",
              "                             &#x27;min_samples_leaf&#x27;: Integer(low=1, high=20, prior=&#x27;uniform&#x27;, transform=&#x27;normalize&#x27;),\n",
              "                             &#x27;min_samples_split&#x27;: Integer(low=2, high=20, prior=&#x27;uniform&#x27;, transform=&#x27;normalize&#x27;)})</pre><b>In a Jupyter environment, please rerun this cell to show the HTML representation or trust the notebook. <br />On GitHub, the HTML representation is unable to render, please try loading this page with nbviewer.org.</b></div><div class=\"sk-container\" hidden><div class=\"sk-item sk-dashed-wrapped\"><div class=\"sk-label-container\"><div class=\"sk-label fitted sk-toggleable\"><input class=\"sk-toggleable__control sk-hidden--visually\" id=\"sk-estimator-id-10\" type=\"checkbox\" ><label for=\"sk-estimator-id-10\" class=\"sk-toggleable__label fitted sk-toggleable__label-arrow\"><div><div>BayesSearchCV</div></div><div><span class=\"sk-estimator-doc-link fitted\">i<span>Fitted</span></span></div></label><div class=\"sk-toggleable__content fitted\"><pre>BayesSearchCV(cv=5, estimator=DecisionTreeClassifier(), random_state=42,\n",
              "              scoring=&#x27;accuracy&#x27;,\n",
              "              search_spaces={&#x27;criterion&#x27;: Categorical(categories=(&#x27;gini&#x27;, &#x27;entropy&#x27;), prior=None),\n",
              "                             &#x27;max_depth&#x27;: Integer(low=1, high=20, prior=&#x27;uniform&#x27;, transform=&#x27;normalize&#x27;),\n",
              "                             &#x27;max_features&#x27;: Categorical(categories=(&#x27;sqrt&#x27;, &#x27;log2&#x27;, None), prior=None),\n",
              "                             &#x27;min_samples_leaf&#x27;: Integer(low=1, high=20, prior=&#x27;uniform&#x27;, transform=&#x27;normalize&#x27;),\n",
              "                             &#x27;min_samples_split&#x27;: Integer(low=2, high=20, prior=&#x27;uniform&#x27;, transform=&#x27;normalize&#x27;)})</pre></div> </div></div><div class=\"sk-parallel\"><div class=\"sk-parallel-item\"><div class=\"sk-item\"><div class=\"sk-label-container\"><div class=\"sk-label fitted sk-toggleable\"><input class=\"sk-toggleable__control sk-hidden--visually\" id=\"sk-estimator-id-11\" type=\"checkbox\" ><label for=\"sk-estimator-id-11\" class=\"sk-toggleable__label fitted sk-toggleable__label-arrow\"><div><div>best_estimator_: DecisionTreeClassifier</div></div></label><div class=\"sk-toggleable__content fitted\"><pre>DecisionTreeClassifier(max_depth=12, max_features=&#x27;sqrt&#x27;, min_samples_leaf=20,\n",
              "                       min_samples_split=4)</pre></div> </div></div><div class=\"sk-serial\"><div class=\"sk-item\"><div class=\"sk-estimator fitted sk-toggleable\"><input class=\"sk-toggleable__control sk-hidden--visually\" id=\"sk-estimator-id-12\" type=\"checkbox\" ><label for=\"sk-estimator-id-12\" class=\"sk-toggleable__label fitted sk-toggleable__label-arrow\"><div><div>DecisionTreeClassifier</div></div><div><a class=\"sk-estimator-doc-link fitted\" rel=\"noreferrer\" target=\"_blank\" href=\"https://scikit-learn.org/1.6/modules/generated/sklearn.tree.DecisionTreeClassifier.html\">?<span>Documentation for DecisionTreeClassifier</span></a></div></label><div class=\"sk-toggleable__content fitted\"><pre>DecisionTreeClassifier(max_depth=12, max_features=&#x27;sqrt&#x27;, min_samples_leaf=20,\n",
              "                       min_samples_split=4)</pre></div> </div></div></div></div></div></div></div></div></div>"
            ]
          },
          "metadata": {},
          "execution_count": 54
        }
      ]
    },
    {
      "cell_type": "code",
      "source": [
        "best_params = opt.best_params_\n",
        "print(best_params)"
      ],
      "metadata": {
        "colab": {
          "base_uri": "https://localhost:8080/"
        },
        "id": "lFOpv--azfF4",
        "outputId": "c8d85041-e159-4e43-8540-ee92fe9766b6"
      },
      "execution_count": null,
      "outputs": [
        {
          "output_type": "stream",
          "name": "stdout",
          "text": [
            "OrderedDict([('criterion', 'gini'), ('max_depth', 12), ('max_features', 'sqrt'), ('min_samples_leaf', 20), ('min_samples_split', 4)])\n"
          ]
        }
      ]
    },
    {
      "cell_type": "code",
      "source": [
        "best_score = opt.best_score_\n",
        "print(best_score)"
      ],
      "metadata": {
        "colab": {
          "base_uri": "https://localhost:8080/"
        },
        "id": "nmvnDuvJzuj1",
        "outputId": "07c12aff-7e58-40b9-c360-6f9ca6bfdd32"
      },
      "execution_count": null,
      "outputs": [
        {
          "output_type": "stream",
          "name": "stdout",
          "text": [
            "0.8444226657163222\n"
          ]
        }
      ]
    },
    {
      "cell_type": "code",
      "source": [
        "print(f\"Best hyperparameters found: {best_params}\")\n",
        "\n",
        "print(f\"Best cross-validation accuracy: {best_score}\")"
      ],
      "metadata": {
        "colab": {
          "base_uri": "https://localhost:8080/"
        },
        "id": "BejXbI4vz4k9",
        "outputId": "0920ba69-f1e4-4c31-96a2-c54730ecc71d"
      },
      "execution_count": null,
      "outputs": [
        {
          "output_type": "stream",
          "name": "stdout",
          "text": [
            "Best hyperparameters found: OrderedDict([('criterion', 'gini'), ('max_depth', 12), ('max_features', 'sqrt'), ('min_samples_leaf', 20), ('min_samples_split', 4)])\n",
            "Best cross-validation accuracy: 0.8444226657163222\n"
          ]
        }
      ]
    },
    {
      "cell_type": "code",
      "source": [
        "# Evaluate the best model on the test set\n",
        "\n",
        "opt_best_model = opt.best_estimator_"
      ],
      "metadata": {
        "id": "K4laQ-Osz6vI"
      },
      "execution_count": null,
      "outputs": []
    },
    {
      "cell_type": "code",
      "source": [
        "opt_y_pred = best_model.predict(X_test)\n",
        "\n",
        "opt_test_accuracy = accuracy_score(y_test, y_pred)\n",
        "print(f\"Test set accuracy: {opt_test_accuracy}\")\n"
      ],
      "metadata": {
        "colab": {
          "base_uri": "https://localhost:8080/"
        },
        "id": "LWHbCiom0AwT",
        "outputId": "2830dae0-4905-4402-8af6-5b10ccf600ea"
      },
      "execution_count": null,
      "outputs": [
        {
          "output_type": "stream",
          "name": "stdout",
          "text": [
            "Test set accuracy: 0.8708860759493671\n"
          ]
        }
      ]
    },
    {
      "cell_type": "markdown",
      "source": [],
      "metadata": {
        "id": "FsPQyh260pwF"
      }
    },
    {
      "cell_type": "code",
      "source": [
        "print(\"Best Test Accuracy using Bayesian Optimization is: \", test_accuracy)"
      ],
      "metadata": {
        "colab": {
          "base_uri": "https://localhost:8080/"
        },
        "id": "JgCpj_IO01Jy",
        "outputId": "faa8d9e4-7736-4355-f49c-de54f43e083b"
      },
      "execution_count": null,
      "outputs": [
        {
          "output_type": "stream",
          "name": "stdout",
          "text": [
            "Best Test Accuracy using Bayesian Optimization is:  0.8708860759493671\n"
          ]
        }
      ]
    },
    {
      "cell_type": "markdown",
      "source": [
        "## Visualizing the Time to run model and accuracy for Grid Search CV and Bayesian Optimization"
      ],
      "metadata": {
        "id": "-Px1MKfSdo2v"
      }
    },
    {
      "cell_type": "code",
      "source": [
        "import pandas as pd\n",
        "import matplotlib.pyplot as plt\n",
        "import textwrap\n",
        "\n",
        "# Convert GridSearchCV results to DataFrame\n",
        "grid_results = pd.DataFrame(clf.cv_results_)\n",
        "grid_results[\"params_str\"] = grid_results[\"params\"].astype(str)\n",
        "\n",
        "# Wrap parameter strings to avoid overlap\n",
        "grid_results[\"params_wrapped\"] = grid_results[\"params_str\"].apply(lambda x: '\\n'.join(textwrap.wrap(x, width=40)))\n",
        "\n",
        "# Sort by mean test score (descending) and select top 10\n",
        "grid_results_sorted = grid_results.sort_values(by=\"mean_test_score\", ascending=False).head(10)\n",
        "\n",
        "# Plot\n",
        "fig, ax = plt.subplots(1, 2, figsize=(16, 6))\n",
        "\n",
        "# Plot 1: Fit time\n",
        "ax[0].barh(grid_results_sorted[\"params_str\"], grid_results_sorted[\"mean_fit_time\"], color='steelblue')\n",
        "ax[0].set_title(\"GridSearchCV: Mean Fit Time by Parameter Set\")\n",
        "ax[0].set_xlabel(\"Mean Fit Time (s)\")\n",
        "ax[0].invert_yaxis()\n",
        "\n",
        "# Plot 2: Accuracy\n",
        "ax[1].barh(grid_results_sorted[\"params_str\"], grid_results_sorted[\"mean_test_score\"], color='green')\n",
        "ax[1].set_title(\"GridSearchCV: Mean Test Score by Parameter Set\")\n",
        "ax[1].set_xlabel(\"Accuracy\")\n",
        "ax[1].invert_yaxis()\n",
        "\n",
        "plt.tight_layout()\n",
        "plt.show()\n",
        "\n",
        "# Print best estimator info for GridSearchCV\n",
        "print(\"Best Parameters from GridSearchCV:\")\n",
        "print(clf.best_params_)\n",
        "print(f\"Best Accuracy from GridSearchCV: {clf.best_score_:.4f}\")\n",
        "\n",
        "\n"
      ],
      "metadata": {
        "colab": {
          "base_uri": "https://localhost:8080/",
          "height": 563
        },
        "id": "1vyjwRAMX4PC",
        "outputId": "2aa9fba4-007b-4311-abd2-e5767b0e3a5a"
      },
      "execution_count": 74,
      "outputs": [
        {
          "output_type": "display_data",
          "data": {
            "text/plain": [
              "<Figure size 1600x600 with 2 Axes>"
            ],
            "image/png": "[encoded data removed]"
          },
          "metadata": {}
        },
        {
          "output_type": "stream",
          "name": "stdout",
          "text": [
            "Best Parameters from GridSearchCV:\n",
            "{'criterion': 'entropy', 'max_depth': 3, 'min_samples_leaf': 1}\n",
            "Best Accuracy from GridSearchCV: 0.8477\n"
          ]
        }
      ]
    },
    {
      "cell_type": "code",
      "source": [
        "import matplotlib.pyplot as plt\n",
        "import pandas as pd\n",
        "import textwrap\n",
        "\n",
        "# Sort BayesSearchCV results by accuracy\n",
        "bayes_results_sorted = bayes_results.sort_values(by=\"mean_test_score\", ascending=False).reset_index(drop=True)\n",
        "\n",
        "# Select top, middle, and bottom entries\n",
        "top_result = bayes_results_sorted.iloc[[0]]\n",
        "middle_result = bayes_results_sorted.iloc[[len(bayes_results_sorted) // 2]]\n",
        "bottom_result = bayes_results_sorted.iloc[[-1]]\n",
        "\n",
        "# Combine them\n",
        "sampled_results = pd.concat([top_result, middle_result, bottom_result])\n",
        "\n",
        "# Wrap long param strings for better readability\n",
        "sampled_results[\"params_wrapped\"] = sampled_results[\"params_str\"].apply(lambda x: '\\n'.join(textwrap.wrap(x, width=30)))\n",
        "\n",
        "# Plot\n",
        "fig, ax = plt.subplots(1, 2, figsize=(14, 6))\n",
        "\n",
        "# Plot 1: Fit time\n",
        "ax[0].barh(sampled_results[\"params_wrapped\"], sampled_results[\"mean_fit_time\"])\n",
        "ax[0].set_title(\"BayesSearchCV: Fit Time (Top/Mid/Bottom)\")\n",
        "ax[0].set_xlabel(\"Mean Fit Time (s)\")\n",
        "ax[0].invert_yaxis()\n",
        "\n",
        "# Plot 2: Accuracy\n",
        "ax[1].barh(sampled_results[\"params_wrapped\"], sampled_results[\"mean_test_score\"])\n",
        "ax[1].set_title(\"BayesSearchCV: Accuracy (Top/Mid/Bottom)\")\n",
        "ax[1].set_xlabel(\"Mean Test Accuracy\")\n",
        "ax[1].invert_yaxis()\n",
        "\n",
        "plt.tight_layout()\n",
        "plt.show()\n"
      ],
      "metadata": {
        "colab": {
          "base_uri": "https://localhost:8080/",
          "height": 594
        },
        "id": "gEpTUddUYL2A",
        "outputId": "1eb066ca-c7c8-45d6-8fe7-6bd981e82b02"
      },
      "execution_count": 83,
      "outputs": [
        {
          "output_type": "display_data",
          "data": {
            "text/plain": [
              "<Figure size 1400x600 with 2 Axes>"
            ],
            "image/png": "[encoded data removed]"
          },
          "metadata": {}
        }
      ]
    }
  ]
}